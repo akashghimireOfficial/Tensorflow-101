{
 "cells": [
  {
   "cell_type": "markdown",
   "id": "95e5ae39",
   "metadata": {},
   "source": [
    ">In this basics turtorial we will look about these topics:\n",
    "1. Tensors\n",
    "2. Variables\n",
    "3. Automatic differentiation\n",
    "4. Graphs and functions\n",
    "5. Modules,layers,and models.\n",
    "6. Training loops\n",
    "7. Tensorboard"
   ]
  }
 ],
 "metadata": {
  "kernelspec": {
   "display_name": "Python 3.8.10 64-bit",
   "language": "python",
   "name": "python3"
  },
  "language_info": {
   "codemirror_mode": {
    "name": "ipython",
    "version": 3
   },
   "file_extension": ".py",
   "mimetype": "text/x-python",
   "name": "python",
   "nbconvert_exporter": "python",
   "pygments_lexer": "ipython3",
   "version": "3.8.10"
  },
  "vscode": {
   "interpreter": {
    "hash": "916dbcbb3f70747c44a77c7bcd40155683ae19c65e1c03b4aa3499c5328201f1"
   }
  }
 },
 "nbformat": 4,
 "nbformat_minor": 5
}
