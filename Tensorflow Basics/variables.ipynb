{
 "cells": [
  {
   "cell_type": "markdown",
   "metadata": {},
   "source": [
    "## Variables\n",
    ">Variables are created and tracked via the tf.Variable class. A tf.Variable represents a tensor whose value can be changed by running ops on it. Specific ops allow you to read and modify the values of this tensor. Higher level libraries like tf.keras use tf.Variable to store model parameters. <br> variables are mostly used for training parameters as they are capable of differentiation.\n",
    "\n",
    "\n"
   ]
  },
  {
   "cell_type": "code",
   "execution_count": 8,
   "metadata": {},
   "outputs": [],
   "source": [
    "import tensorflow as tf"
   ]
  },
  {
   "cell_type": "markdown",
   "metadata": {},
   "source": [
    "### Creating a variable\n",
    ">To create a variable, provide an initial value. The tf.Variable will have the same dtype as the initialization value."
   ]
  },
  {
   "cell_type": "code",
   "execution_count": 2,
   "metadata": {},
   "outputs": [
    {
     "name": "stdout",
     "output_type": "stream",
     "text": [
      "a:  tf.Tensor([1 2 3], shape=(3,), dtype=int32)\n",
      "b:  <tf.Variable 'Variable:0' shape=(3,) dtype=int32, numpy=array([1, 2, 3])>\n"
     ]
    }
   ],
   "source": [
    "a=tf.constant([1,2,3])\n",
    "v=tf.Variable(a)\n",
    "print('a: ',a)\n",
    "print('b: ',v)\n",
    "\n"
   ]
  },
  {
   "cell_type": "markdown",
   "metadata": {},
   "source": [
    "### Assigning new value to the exisitng variables\n",
    ">var.assign([New value])"
   ]
  },
  {
   "cell_type": "code",
   "execution_count": 3,
   "metadata": {},
   "outputs": [
    {
     "name": "stdout",
     "output_type": "stream",
     "text": [
      "Before assigning new value\n",
      "v:  <tf.Variable 'Variable:0' shape=(3,) dtype=int32, numpy=array([1, 2, 3])>\n",
      "After assigning new value :\n",
      "v:  <tf.Variable 'Variable:0' shape=(3,) dtype=int32, numpy=array([5, 1, 3])>\n"
     ]
    }
   ],
   "source": [
    "print('Before assigning new value')\n",
    "print('v: ',v)\n",
    "print('After assigning new value :')\n",
    "v.assign([5,1,3])\n",
    "print('v: ',v)"
   ]
  },
  {
   "cell_type": "code",
   "execution_count": 4,
   "metadata": {},
   "outputs": [
    {
     "name": "stdout",
     "output_type": "stream",
     "text": [
      "<tf.Variable 'Variable:0' shape=(3,) dtype=int32, numpy=array([5, 1, 3])>\n"
     ]
    }
   ],
   "source": [
    "## Creating variables from existing variables. Here two variables will not share the same memory location. \n",
    "v1=tf.Variable(v)\n",
    "print(v1)"
   ]
  },
  {
   "cell_type": "markdown",
   "metadata": {},
   "source": [
    ">Although variables are important for differentiation, some variables will not need to be differentiated. You can turn off gradients for a variable by setting trainable to false at creation. An example of a variable that would not need gradients is a training step counter. An example of this is: <br> step_counter = tf.Variable(1, trainable=False)"
   ]
  },
  {
   "cell_type": "markdown",
   "metadata": {},
   "source": [
    "### Naming of the Variables\n",
    ">Two variables may have same name but still does not share the same memory location"
   ]
  },
  {
   "cell_type": "code",
   "execution_count": 5,
   "metadata": {},
   "outputs": [
    {
     "data": {
      "text/plain": [
       "False"
      ]
     },
     "execution_count": 5,
     "metadata": {},
     "output_type": "execute_result"
    }
   ],
   "source": [
    "a=tf.Variable(2,name='x')\n",
    "b=tf.Variable(3,name='x')\n",
    "(a == b).numpy()"
   ]
  },
  {
   "cell_type": "markdown",
   "metadata": {},
   "source": [
    "### Placing variables and tensors\n",
    "For better performance, TensorFlow will attempt to place tensors and variables on the fastest device compatible with its dtype. This means most variables are placed on a GPU if one is available.\n",
    "\n",
    "However, you can override this. In this snippet, place a float tensor and a variable on the CPU, even if a GPU is available. By turning on device placement logging (see Setup), you can see where the variable is placed."
   ]
  },
  {
   "cell_type": "code",
   "execution_count": 6,
   "metadata": {},
   "outputs": [
    {
     "name": "stdout",
     "output_type": "stream",
     "text": [
      "tf.Tensor(\n",
      "[[22. 28.]\n",
      " [49. 64.]], shape=(2, 2), dtype=float32)\n"
     ]
    }
   ],
   "source": [
    "with tf.device('cpu'):\n",
    "    a = tf.Variable([[1.0, 2.0, 3.0], [4.0, 5.0, 6.0]])\n",
    "    b = tf.constant([[1.0, 2.0], [3.0, 4.0], [5.0, 6.0]])\n",
    "    c = tf.matmul(a, b)\n",
    "print(c)"
   ]
  },
  {
   "cell_type": "code",
   "execution_count": 7,
   "metadata": {},
   "outputs": [
    {
     "name": "stdout",
     "output_type": "stream",
     "text": [
      "tf.Tensor(\n",
      "[[ 1.  4.  9.]\n",
      " [ 4. 10. 18.]], shape=(2, 3), dtype=float32)\n"
     ]
    }
   ],
   "source": [
    "with tf.device('cpu'):\n",
    "  a = tf.Variable([[1.0, 2.0, 3.0], [4.0, 5.0, 6.0]])\n",
    "  b = tf.Variable([[1.0, 2.0, 3.0]])\n",
    "\n",
    "with tf.device('gpu'):\n",
    "  # Element-wise multiply\n",
    "  k = a*b\n",
    "  k1=tf.multiply(a,b)\n",
    "  \n",
    "\n",
    "print(k)"
   ]
  },
  {
   "attachments": {},
   "cell_type": "markdown",
   "metadata": {},
   "source": [
    "tf.cast() Vs dtype 'argument' of tf.Variable(,dtype=). If the objects (may be tensors) we are trying to make tf Variables already have  tf dtypes then we can't use the argument dtype. For example, tf.linspace() return tf.float64; so if we try to convert to tf.float16 the we will get error. One of the way to handle this kind of scenario is to use \"tf.cast()\".  So, we will use dtype mostly in those cases where the tensor array already does not have a specific tf dtype. For example; tf.Variable(5), here \"5\" does not have tf dtype. So, if we don't mention any dtype it will take dtype with int as 5 was a integer. However, 5 itself does not have a specific dtype we can use \"dtype\" argument to change to any other dtype. "
   ]
  },
  {
   "cell_type": "code",
   "execution_count": 13,
   "metadata": {},
   "outputs": [
    {
     "name": "stdout",
     "output_type": "stream",
     "text": [
      "dtype returned :  <dtype: 'float64'>\n",
      "'dtype' arg is tf.Variable can't be used to convert to other data type when the tensor already have its own specific tf dtype\n",
      "dtype after  <dtype: 'float16'>\n"
     ]
    }
   ],
   "source": [
    "## Example\n",
    "\n",
    "\n",
    "print('dtype returned : ', tf.linspace(-1,1,10).dtype)\n",
    "\n",
    "\"\"\"\n",
    "From, the above example we see that tf.linspace() return dtype with float64; Now let us try to make variable from it with dtype float16\n",
    "\"\"\"\n",
    "\n",
    "try:\n",
    "    x=tf.Variable(tf.linspace(-1,1,10),dtype=tf.float16)\n",
    "    \n",
    "except:\n",
    "    print(\"'dtype' arg is tf.Variable can't be used to convert to other data type when the tensor already have its own specific tf dtype\")\n",
    "    x=tf.linspace(-1,1,10)\n",
    "    x=tf.cast(x,tf.float16)\n",
    "\n",
    "print('dtype after ', x.dtype)"
   ]
  },
  {
   "cell_type": "code",
   "execution_count": 21,
   "metadata": {},
   "outputs": [
    {
     "name": "stdout",
     "output_type": "stream",
     "text": [
      "dtype : <dtype: 'int32'>\n",
      "dtype : <dtype: 'float32'>\n",
      "dtype : <dtype: 'float16'>\n",
      "float dtype can not be converted to int dtype with dtype arg in tf.Variable\n"
     ]
    }
   ],
   "source": [
    "\"\"\"\n",
    "However, since object like scaler: 5, array= [1,2,3] does not have specific tf dtype so it can directly be cast to any dtype. if we don't use dtype argument the Variable will have dtype according to given input. \n",
    "Example, 5 will have int32 dtype and 5.0 will have float32 dtype. \n",
    "\n",
    "\"\"\"\n",
    "\n",
    "print('dtype :',tf.Variable(5).dtype)\n",
    "print('dtype :',tf.Variable(5.0).dtype)\n",
    "print('dtype :',tf.Variable(5,dtype=tf.float16).dtype)\n",
    "\n",
    "try:\n",
    "    print('dtype :',tf.Variable(5.0,dtype=tf.int32).dtype)\n",
    "except:\n",
    "    print('float dtype can not be converted to int dtype with dtype arg in tf.Variable')\n",
    "   "
   ]
  },
  {
   "cell_type": "code",
   "execution_count": null,
   "metadata": {},
   "outputs": [],
   "source": []
  }
 ],
 "metadata": {
  "kernelspec": {
   "display_name": "Python 3.10.4 ('vision')",
   "language": "python",
   "name": "python3"
  },
  "language_info": {
   "codemirror_mode": {
    "name": "ipython",
    "version": 3
   },
   "file_extension": ".py",
   "mimetype": "text/x-python",
   "name": "python",
   "nbconvert_exporter": "python",
   "pygments_lexer": "ipython3",
   "version": "3.9.12"
  },
  "orig_nbformat": 4,
  "vscode": {
   "interpreter": {
    "hash": "c93af7433719cf61beb232a937287b5f6ac44c5a03632b389ba7312dbdbeed85"
   }
  }
 },
 "nbformat": 4,
 "nbformat_minor": 2
}
