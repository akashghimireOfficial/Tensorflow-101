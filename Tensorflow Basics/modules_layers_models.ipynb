{
 "cells": [
  {
   "cell_type": "markdown",
   "metadata": {},
   "source": [
    "### Introduction to modules, layers, and models\n",
    "> In this turtorial we will be learning how to build some simple tensorflow modules. <br> We will also learn to build model using keras api."
   ]
  },
  {
   "cell_type": "markdown",
   "metadata": {},
   "source": [
    "To build tensorflow model we will be using ***tf.Module*** class"
   ]
  },
  {
   "cell_type": "code",
   "execution_count": 1,
   "metadata": {},
   "outputs": [],
   "source": [
    "import tensorflow as tf\n",
    "from datetime import datetime\n",
    "\n",
    "%load_ext tensorboard"
   ]
  },
  {
   "cell_type": "code",
   "execution_count": 20,
   "metadata": {},
   "outputs": [],
   "source": [
    "#### defining a Dense layer using tf.Module\n",
    "\n",
    "\n",
    "class Dense(tf.Module):\n",
    "    def __init__(self,in_features,out_features,name=None):\n",
    "        super().__init__(name=name)\n",
    "        self.w=tf.Variable(tf.random.normal([in_features,out_features]),name='w') ## shape==in_features,out_features\n",
    "        self.b=tf.Variable(tf.zeros([out_features],name='b'))\n",
    "\n",
    "    def __call__(self,x):\n",
    "        y=tf.matmul(x,self.w)+self.b\n",
    "        return tf.nn.relu(y)    \n"
   ]
  },
  {
   "cell_type": "code",
   "execution_count": 21,
   "metadata": {},
   "outputs": [],
   "source": [
    "model=Dense(in_features=3,out_features=2,name='dense')"
   ]
  },
  {
   "cell_type": "code",
   "execution_count": 22,
   "metadata": {},
   "outputs": [],
   "source": [
    "x=tf.constant([[1,2,3]],dtype=tf.float32)\n",
    "model=Dense(3,2,'dense')\n",
    "output=model(x)"
   ]
  },
  {
   "cell_type": "code",
   "execution_count": 23,
   "metadata": {},
   "outputs": [
    {
     "name": "stdout",
     "output_type": "stream",
     "text": [
      "input.shape: (1, 3)\n",
      "output.shape: (1, 2)\n"
     ]
    }
   ],
   "source": [
    "print('input.shape: {}\\noutput.shape: {}'.format(x.shape,output.shape))"
   ]
  },
  {
   "cell_type": "code",
   "execution_count": 25,
   "metadata": {},
   "outputs": [
    {
     "data": {
      "text/plain": [
       "(<tf.Variable 'Variable:0' shape=(2,) dtype=float32, numpy=array([0., 0.], dtype=float32)>,\n",
       " <tf.Variable 'w:0' shape=(3, 2) dtype=float32, numpy=\n",
       " array([[ 0.4208106 ,  0.94136125],\n",
       "        [-0.40644673,  3.4686391 ],\n",
       "        [ 0.04505708, -0.21669109]], dtype=float32)>)"
      ]
     },
     "execution_count": 25,
     "metadata": {},
     "output_type": "execute_result"
    }
   ],
   "source": [
    "## Seeing the trainables parameter of models\n",
    "model.trainable_variables ## which is are bias and weight"
   ]
  },
  {
   "cell_type": "markdown",
   "metadata": {},
   "source": [
    "### Saving weights\n",
    "> You can save a tf.Module as both a ***checkpoint*** and a ***SavedModel***"
   ]
  },
  {
   "cell_type": "markdown",
   "metadata": {},
   "source": []
  }
 ],
 "metadata": {
  "kernelspec": {
   "display_name": "Python 3.10.4 ('vision')",
   "language": "python",
   "name": "python3"
  },
  "language_info": {
   "codemirror_mode": {
    "name": "ipython",
    "version": 3
   },
   "file_extension": ".py",
   "mimetype": "text/x-python",
   "name": "python",
   "nbconvert_exporter": "python",
   "pygments_lexer": "ipython3",
   "version": "3.10.4"
  },
  "orig_nbformat": 4,
  "vscode": {
   "interpreter": {
    "hash": "c93af7433719cf61beb232a937287b5f6ac44c5a03632b389ba7312dbdbeed85"
   }
  }
 },
 "nbformat": 4,
 "nbformat_minor": 2
}
