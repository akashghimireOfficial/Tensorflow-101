{
 "cells": [
  {
   "cell_type": "code",
   "execution_count": 269,
   "metadata": {},
   "outputs": [],
   "source": [
    "import tensorflow as tf \n",
    "from tensorflow.keras.datasets.mnist import load_data\n",
    "import cv2\n",
    "import numpy as np \n",
    "import matplotlib.pyplot as plt \n"
   ]
  },
  {
   "cell_type": "code",
   "execution_count": null,
   "metadata": {},
   "outputs": [],
   "source": []
  },
  {
   "cell_type": "code",
   "execution_count": 270,
   "metadata": {},
   "outputs": [],
   "source": [
    "(x_train, y_train), (x_test, y_test) = load_data()\n",
    "\n",
    "h,w=x_train.shape[1:]"
   ]
  },
  {
   "cell_type": "code",
   "execution_count": 271,
   "metadata": {},
   "outputs": [],
   "source": [
    "def preprocess(x,y):\n",
    "\n",
    "   \n",
    "    x=tf.cast(x,dtype=tf.float32)\n",
    "    x=tf.divide(x,tf.constant(255.0))\n",
    "    x=tf.expand_dims(x,axis=-1) ## Add a channel layer\n",
    "    \n",
    "    y=tf.one_hot(y,depth=10)\n",
    "    return x,y"
   ]
  },
  {
   "cell_type": "code",
   "execution_count": 272,
   "metadata": {},
   "outputs": [],
   "source": [
    "## Setting tf data pipeline \n",
    "\n",
    "batch_size=64\n",
    "\n",
    "train_dataset=tf.data.Dataset.from_tensor_slices((x_train,y_train))\n",
    "test_dataset=tf.data.Dataset.from_tensor_slices((x_test,y_test))\n"
   ]
  },
  {
   "cell_type": "code",
   "execution_count": 273,
   "metadata": {},
   "outputs": [
    {
     "data": {
      "image/png": "[encoded data removed]",
      "text/plain": [
       "<Figure size 432x288 with 1 Axes>"
      ]
     },
     "metadata": {
      "needs_background": "light"
     },
     "output_type": "display_data"
    }
   ],
   "source": [
    "## Visualiszing the dataset\n",
    "for image,label in train_dataset.take(1):\n",
    "    image=image.numpy().reshape(28,28)\n",
    "    label=label.numpy()\n",
    "    plt.imshow(image)\n",
    "    plt.title(f'Label : {label}')\n",
    "    plt.show()"
   ]
  },
  {
   "cell_type": "code",
   "execution_count": 274,
   "metadata": {},
   "outputs": [],
   "source": [
    "## \n",
    "\n",
    "train_dataset=(train_dataset.shuffle(buffer_size=1000,reshuffle_each_iteration=True)\n",
    "                .map(preprocess)\n",
    "                .batch(batch_size=batch_size,drop_remainder=True)\n",
    "                .prefetch(tf.data.AUTOTUNE))\n",
    "\n",
    "test_dataset=(test_dataset.map(preprocess)\n",
    "                .batch(batch_size=batch_size,drop_remainder=True)\n",
    "                .prefetch(tf.data.AUTOTUNE))\n",
    "\n",
    "\n"
   ]
  },
  {
   "cell_type": "code",
   "execution_count": 275,
   "metadata": {},
   "outputs": [
    {
     "name": "stdout",
     "output_type": "stream",
     "text": [
      "Num of patches in an image : 196.0\n"
     ]
    }
   ],
   "source": [
    "## Creating Patches\n",
    "\n",
    "patch_size=4\n",
    "num_patches=h*w/patch_size\n",
    "print(f'Num of patches in an image : {num_patches}')"
   ]
  },
  {
   "cell_type": "code",
   "execution_count": 276,
   "metadata": {},
   "outputs": [],
   "source": [
    "class Patch(tf.keras.layers.Layer):\n",
    "    def __init__(self,patch_size=4):\n",
    "        super(Patch,self).__init__()\n",
    "        self.patch_size=patch_size\n",
    "       \n",
    "\n",
    "       \n",
    "    def call(self,images):\n",
    "        patches = tf.image.extract_patches(\n",
    "            images=images,\n",
    "            sizes=[1, self.patch_size, self.patch_size, 1],\n",
    "            strides=[1, self.patch_size, self.patch_size, 1],\n",
    "            rates=[1, 1, 1, 1],\n",
    "            padding='VALID'\n",
    "            )\n",
    "        \n",
    "        return patches ## pathces.shape ==> batch_size,num_patch_row,num_patch_column,flatten_patch(example: 4*4=16 flatten dimension)"
   ]
  },
  {
   "cell_type": "code",
   "execution_count": 277,
   "metadata": {},
   "outputs": [],
   "source": [
    "for image,_ in train_dataset.take(1):\n",
    "    patches=Patch(patch_size)(image)"
   ]
  },
  {
   "cell_type": "code",
   "execution_count": 278,
   "metadata": {},
   "outputs": [
    {
     "data": {
      "text/plain": [
       "TensorShape([64, 7, 7, 16])"
      ]
     },
     "execution_count": 278,
     "metadata": {},
     "output_type": "execute_result"
    }
   ],
   "source": [
    "patches.shape"
   ]
  },
  {
   "cell_type": "code",
   "execution_count": 279,
   "metadata": {},
   "outputs": [
    {
     "data": {
      "text/plain": [
       "<tf.Tensor: shape=(16,), dtype=float32, numpy=\n",
       "array([0., 0., 0., 0., 0., 0., 0., 0., 0., 0., 0., 0., 0., 0., 0., 0.],\n",
       "      dtype=float32)>"
      ]
     },
     "execution_count": 279,
     "metadata": {},
     "output_type": "execute_result"
    }
   ],
   "source": [
    "patches[0][0,0,:]"
   ]
  },
  {
   "cell_type": "code",
   "execution_count": 280,
   "metadata": {},
   "outputs": [],
   "source": [
    "## defining a function to draw the number of patches \n",
    "\n",
    "def plot_patches(patch_batch):\n",
    "\n",
    "    nrows=patch_batch.shape[1]\n",
    "    ncols=patch_batch.shape[2]\n",
    "    random_patch=tf.random.shuffle(patch_batch)[0].numpy()\n",
    "\n",
    "    ## creating subplots\n",
    "\n",
    "    fig,axes=plt.subplots(nrows=nrows,ncols=ncols)\n",
    "    plt.subplots_adjust(wspace=0.1, hspace=0.1)\n",
    "\n",
    "\n",
    "    for i in range(random_patch.shape[0]):\n",
    "        for j in range(random_patch.shape[1]):\n",
    "            patch_img=random_patch[i,j].reshape(patch_size,patch_size,1)\n",
    "            axes[i][j].imshow(patch_img)\n",
    "            axes[i][j].axis('off')\n",
    "\n",
    "\n"
   ]
  },
  {
   "cell_type": "code",
   "execution_count": 281,
   "metadata": {},
   "outputs": [
    {
     "data": {
      "image/png": "[encoded data removed]",
      "text/plain": [
       "<Figure size 432x288 with 49 Axes>"
      ]
     },
     "metadata": {
      "needs_background": "light"
     },
     "output_type": "display_data"
    }
   ],
   "source": [
    "plot_patches(patches)"
   ]
  },
  {
   "cell_type": "code",
   "execution_count": 282,
   "metadata": {},
   "outputs": [
    {
     "data": {
      "text/plain": [
       "TensorShape([64, 7, 7, 16])"
      ]
     },
     "execution_count": 282,
     "metadata": {},
     "output_type": "execute_result"
    }
   ],
   "source": [
    "patches.shape"
   ]
  },
  {
   "cell_type": "code",
   "execution_count": 283,
   "metadata": {},
   "outputs": [
    {
     "data": {
      "text/plain": [
       "TensorShape([64, 28, 28, 1])"
      ]
     },
     "execution_count": 283,
     "metadata": {},
     "output_type": "execute_result"
    }
   ],
   "source": [
    "image.shape"
   ]
  },
  {
   "cell_type": "code",
   "execution_count": 284,
   "metadata": {},
   "outputs": [],
   "source": [
    "# #\n",
    "# d_model=256\n",
    "\n",
    "# class PatchEmbedding(tf.keras.layers.Layer):\n",
    "#     def __init__(self,d_model):\n",
    "#         super(PatchEmbedding,self).__init__()\n",
    "#         self.patch=Patch()\n",
    "#         self.d_model=d_model\n",
    "#         self.projection_layer=tf.keras.layers.Dense(self.d_model)\n",
    "#         self.embedding=tf.keras.layers.Embedding(input_dim=self.d_model*2,output_dim=self.d_model)\n",
    "       \n",
    "        \n",
    "    \n",
    "\n",
    "#     def call(self,images):\n",
    "\n",
    "#         patches=self.patch(images)\n",
    "\n",
    "       \n",
    "\n",
    "        \n",
    "        \n",
    "#         num_patches,flatten_patches=self.patches_transform(patches=patches)\n",
    "        \n",
    "#         projected_patches=self.projection_layer(flatten_patches)\n",
    "#         positional_embedding=tf.expand_dims(self.embedding(tf.range(num_patches)),axis=0)\n",
    "\n",
    "       \n",
    "        \n",
    "       \n",
    "       \n",
    "#         patch_embedding=tf.add(projected_patches,positional_embedding)\n",
    "        \n",
    "#         return patch_embedding\n",
    "    \n",
    "#     def patches_transform(self,patches):\n",
    "#         num_patches=tf.multiply(patches.shape[1],patches.shape[2])\n",
    "        \n",
    "#         last_dim=patches.shape[-1]\n",
    "#         flatten_patches=tf.reshape(patches,[-1,num_patches,last_dim])\n",
    "#         return num_patches,flatten_patches\n"
   ]
  },
  {
   "cell_type": "code",
   "execution_count": 285,
   "metadata": {},
   "outputs": [],
   "source": [
    "d_model=256\n",
    "\n",
    "class PatchEmbedding(tf.keras.layers.Layer):\n",
    "    def __init__(self, d_model):\n",
    "        super(PatchEmbedding, self).__init__()\n",
    "        self.patch = Patch()\n",
    "        self.d_model = d_model\n",
    "        self.projection_layer = tf.keras.layers.Dense(self.d_model)\n",
    "        self.embedding = tf.keras.layers.Embedding(input_dim=self.d_model*2, output_dim=self.d_model)\n",
    "        \n",
    "        # Initialize the class token. Note that we use tf.Variable with trainable=True to make sure it's trainable\n",
    "        self.class_token = tf.Variable(initial_value=tf.zeros(shape=(1, 1, self.d_model)), trainable=True)\n",
    "\n",
    "    def call(self, images):\n",
    "        patches = self.patch(images)\n",
    "\n",
    "        num_patches, flatten_patches = self.patches_transform(patches=patches)\n",
    "        \n",
    "        projected_patches = self.projection_layer(flatten_patches)\n",
    "        \n",
    "        # This line was added to repeat the class token for each image in the batch and add it to the beginning of projected_patches\n",
    "        class_tokens = tf.repeat(self.class_token, repeats=tf.shape(images)[0], axis=0) ## tokenizer\n",
    "        projected_patches = tf.concat([class_tokens, projected_patches], axis=1)\n",
    "        \n",
    "        positional_embedding = tf.expand_dims(self.embedding(tf.range(num_patches + 1)), axis=0)  # +1 for the class token\n",
    "        patch_embedding = tf.add(projected_patches, positional_embedding)\n",
    "        \n",
    "        return patch_embedding\n",
    "    \n",
    "    def patches_transform(self, patches):\n",
    "        num_patches = tf.multiply(patches.shape[1], patches.shape[2])\n",
    "        last_dim = patches.shape[-1]\n",
    "        flatten_patches = tf.reshape(patches, [-1, num_patches, last_dim])\n",
    "        return num_patches, flatten_patches\n"
   ]
  },
  {
   "cell_type": "code",
   "execution_count": 286,
   "metadata": {},
   "outputs": [
    {
     "name": "stdout",
     "output_type": "stream",
     "text": [
      "(64, 50, 256)\n"
     ]
    }
   ],
   "source": [
    "patch_out=PatchEmbedding(d_model=d_model)(image)\n",
    "print(patch_out.shape)"
   ]
  },
  {
   "cell_type": "markdown",
   "metadata": {},
   "source": [
    "## Building Encoder for Vit"
   ]
  },
  {
   "cell_type": "code",
   "execution_count": 287,
   "metadata": {},
   "outputs": [],
   "source": [
    "## Defining the parameters of Encoder\n",
    "\n",
    "num_heads=4\n",
    "d_model=d_model\n",
    "dff=d_model*3\n",
    "dropout_rate=0.3\n",
    "\n",
    "\n",
    "def FFN(d_model,dff,droput_rate):\n",
    "    return tf.keras.Sequential([\n",
    "        tf.keras.layers.Dense(units=dff,activation=tf.nn.gelu),\n",
    "        tf.keras.layers.Dense(units=d_model),\n",
    "        tf.keras.layers.Dropout(rate=dropout_rate)\n",
    "    ])\n",
    "\n",
    "\n",
    "class Encoder_Layer(tf.keras.layers.Layer):\n",
    "    def __init__(self,d_model,dff,dropout_rate,num_heads):\n",
    "        super(Encoder_Layer,self).__init__()\n",
    "        self.mha=tf.keras.layers.MultiHeadAttention(num_heads=num_heads,\n",
    "                                                   key_dim=d_model,\n",
    "                                                   dropout=dropout_rate)\n",
    "        self.add_1=tf.keras.layers.Add()\n",
    "        self.layer_norm_1=tf.keras.layers.LayerNormalization()\n",
    "        self.add_2=tf.keras.layers.Add()\n",
    "        self.layer_norm_2=tf.keras.layers.LayerNormalization()\n",
    "        \n",
    "        self.ffn=FFN(d_model,dff,dropout_rate)\n",
    "        \n",
    "        self.attn_score=None\n",
    "        \n",
    "    def call(self,inputs):\n",
    "        \n",
    "        attn_output,self.attn_score=self.mha(query=inputs,\n",
    "                                             value=inputs,\n",
    "                                             key=inputs,\n",
    "                                             return_attention_scores=True\n",
    "        )\n",
    "        \n",
    "        \n",
    "        x=self.layer_norm_1(self.add_1([inputs,attn_output]))\n",
    "        x=self.ffn(x)\n",
    "        final_output=self.layer_norm_2(self.add_2([x,attn_output]))\n",
    "        return final_output\n",
    "        \n",
    "        \n",
    "        \n",
    "        \n",
    "    \n",
    "        "
   ]
  },
  {
   "cell_type": "code",
   "execution_count": 288,
   "metadata": {},
   "outputs": [],
   "source": [
    "enc_layer=Encoder_Layer(d_model,dff,dropout_rate,num_heads)\n",
    "enc_lay_output=enc_layer(patch_out)"
   ]
  },
  {
   "cell_type": "code",
   "execution_count": 289,
   "metadata": {},
   "outputs": [
    {
     "data": {
      "text/plain": [
       "<tf.Tensor: shape=(64, 12800), dtype=float32, numpy=\n",
       "array([[-1.9669405 ,  0.98619956,  0.76074624, ...,  1.3083854 ,\n",
       "         0.65041447, -0.83671755],\n",
       "       [-1.9665837 ,  0.99678785,  0.7699859 , ...,  1.3120441 ,\n",
       "         0.6605691 , -0.8465196 ],\n",
       "       [-1.9732773 ,  0.95694876,  0.83389896, ...,  1.323069  ,\n",
       "         0.6460548 , -0.84978753],\n",
       "       ...,\n",
       "       [-1.9505055 ,  1.0181787 ,  0.7392138 , ...,  1.2981161 ,\n",
       "         0.6368705 , -0.80871236],\n",
       "       [-2.0534952 ,  0.87191206,  0.9064809 , ...,  1.3360757 ,\n",
       "         0.64271706, -0.9888132 ],\n",
       "       [-2.062455  ,  0.8790412 ,  0.9246457 , ...,  1.330889  ,\n",
       "         0.69197667, -0.9247396 ]], dtype=float32)>"
      ]
     },
     "execution_count": 289,
     "metadata": {},
     "output_type": "execute_result"
    }
   ],
   "source": [
    "tf.keras.layers.Flatten()(enc_lay_output)"
   ]
  },
  {
   "cell_type": "code",
   "execution_count": 227,
   "metadata": {},
   "outputs": [
    {
     "data": {
      "text/plain": [
       "<tf.Tensor: shape=(64, 4, 49, 49), dtype=float32, numpy=\n",
       "array([[[[0.02040814, 0.0204078 , 0.02040799, ..., 0.02040822,\n",
       "          0.02040782, 0.02040777],\n",
       "         [0.0204082 , 0.02040812, 0.02040796, ..., 0.02040818,\n",
       "          0.02040811, 0.02040824],\n",
       "         [0.02040828, 0.02040847, 0.02040843, ..., 0.02040826,\n",
       "          0.02040841, 0.02040841],\n",
       "         ...,\n",
       "         [0.02040799, 0.02040761, 0.02040732, ..., 0.02040777,\n",
       "          0.0204075 , 0.02040753],\n",
       "         [0.02040849, 0.0204083 , 0.02040858, ..., 0.02040863,\n",
       "          0.02040852, 0.02040823],\n",
       "         [0.02040809, 0.02040829, 0.02040817, ..., 0.02040775,\n",
       "          0.02040809, 0.02040832]],\n",
       "\n",
       "        [[0.020408  , 0.02040822, 0.02040833, ..., 0.02040822,\n",
       "          0.02040838, 0.02040818],\n",
       "         [0.02040855, 0.02040836, 0.02040833, ..., 0.02040885,\n",
       "          0.02040844, 0.02040844],\n",
       "         [0.02040767, 0.0204077 , 0.02040757, ..., 0.02040842,\n",
       "          0.02040764, 0.02040766],\n",
       "         ...,\n",
       "         [0.02040867, 0.02040763, 0.02040902, ..., 0.02040908,\n",
       "          0.02040885, 0.02040845],\n",
       "         [0.02040789, 0.02040803, 0.02040828, ..., 0.02040779,\n",
       "          0.02040808, 0.02040822],\n",
       "         [0.02040815, 0.02040811, 0.02040793, ..., 0.02040797,\n",
       "          0.02040795, 0.02040831]],\n",
       "\n",
       "        [[0.02040788, 0.02040839, 0.02040823, ..., 0.02040803,\n",
       "          0.02040844, 0.02040852],\n",
       "         [0.02040815, 0.02040836, 0.02040844, ..., 0.0204079 ,\n",
       "          0.02040819, 0.02040821],\n",
       "         [0.02040801, 0.02040792, 0.02040804, ..., 0.0204084 ,\n",
       "          0.02040803, 0.02040816],\n",
       "         ...,\n",
       "         [0.02040806, 0.02040774, 0.02040804, ..., 0.0204064 ,\n",
       "          0.02040805, 0.02040801],\n",
       "         [0.02040821, 0.02040804, 0.02040831, ..., 0.02040775,\n",
       "          0.02040815, 0.02040824],\n",
       "         [0.02040835, 0.0204083 , 0.02040853, ..., 0.02040819,\n",
       "          0.02040839, 0.02040849]],\n",
       "\n",
       "        [[0.02040796, 0.02040814, 0.02040818, ..., 0.02040787,\n",
       "          0.02040796, 0.020408  ],\n",
       "         [0.02040823, 0.02040816, 0.02040809, ..., 0.02040817,\n",
       "          0.02040819, 0.02040824],\n",
       "         [0.02040813, 0.02040833, 0.02040826, ..., 0.02040865,\n",
       "          0.02040835, 0.02040859],\n",
       "         ...,\n",
       "         [0.02040799, 0.02040803, 0.02040765, ..., 0.02040756,\n",
       "          0.02040653, 0.02040711],\n",
       "         [0.02040827, 0.02040825, 0.02040828, ..., 0.02040818,\n",
       "          0.0204082 , 0.02040822],\n",
       "         [0.02040856, 0.02040835, 0.02040847, ..., 0.02040857,\n",
       "          0.02040852, 0.02040846]]],\n",
       "\n",
       "\n",
       "       [[[0.02040806, 0.02040772, 0.02040791, ..., 0.0204077 ,\n",
       "          0.02040774, 0.02040769],\n",
       "         [0.02040814, 0.02040806, 0.0204079 , ..., 0.02040824,\n",
       "          0.02040805, 0.02040819],\n",
       "         [0.02040843, 0.02040862, 0.02040857, ..., 0.02040856,\n",
       "          0.02040856, 0.02040856],\n",
       "         ...,\n",
       "         [0.02040858, 0.02040835, 0.02040856, ..., 0.02040854,\n",
       "          0.02040847, 0.02040846],\n",
       "         [0.02040859, 0.0204084 , 0.02040868, ..., 0.02040867,\n",
       "          0.02040861, 0.02040833],\n",
       "         [0.02040823, 0.02040843, 0.02040831, ..., 0.02040835,\n",
       "          0.02040823, 0.02040847]],\n",
       "\n",
       "        [[0.02040803, 0.02040825, 0.02040836, ..., 0.02040837,\n",
       "          0.0204084 , 0.02040821],\n",
       "         [0.02040868, 0.02040848, 0.02040846, ..., 0.02040855,\n",
       "          0.02040857, 0.02040857],\n",
       "         [0.0204073 , 0.02040734, 0.0204072 , ..., 0.0204073 ,\n",
       "          0.02040727, 0.02040729],\n",
       "         ...,\n",
       "         [0.02040826, 0.020408  , 0.02040831, ..., 0.02040828,\n",
       "          0.02040807, 0.02040811],\n",
       "         [0.02040792, 0.02040805, 0.02040831, ..., 0.02040795,\n",
       "          0.02040811, 0.02040824],\n",
       "         [0.02040813, 0.02040809, 0.02040791, ..., 0.02040794,\n",
       "          0.02040793, 0.0204083 ]],\n",
       "\n",
       "        [[0.02040804, 0.02040855, 0.0204084 , ..., 0.02040884,\n",
       "          0.02040861, 0.02040868],\n",
       "         [0.02040811, 0.02040832, 0.02040841, ..., 0.02040838,\n",
       "          0.02040816, 0.02040818],\n",
       "         [0.02040798, 0.02040787, 0.020408  , ..., 0.02040804,\n",
       "          0.02040799, 0.02040813],\n",
       "         ...,\n",
       "         [0.02040822, 0.02040848, 0.02040854, ..., 0.02040819,\n",
       "          0.02040837, 0.02040827],\n",
       "         [0.02040826, 0.02040809, 0.02040837, ..., 0.02040799,\n",
       "          0.02040821, 0.02040829],\n",
       "         [0.02040847, 0.02040842, 0.02040865, ..., 0.02040879,\n",
       "          0.02040851, 0.02040861]],\n",
       "\n",
       "        [[0.02040793, 0.02040811, 0.02040814, ..., 0.02040806,\n",
       "          0.02040793, 0.02040797],\n",
       "         [0.02040817, 0.0204081 , 0.02040803, ..., 0.02040813,\n",
       "          0.02040813, 0.02040818],\n",
       "         [0.02040823, 0.02040844, 0.02040836, ..., 0.02040861,\n",
       "          0.02040845, 0.02040869],\n",
       "         ...,\n",
       "         [0.02040833, 0.02040832, 0.0204083 , ..., 0.02040835,\n",
       "          0.02040832, 0.02040817],\n",
       "         [0.02040835, 0.02040833, 0.02040837, ..., 0.0204083 ,\n",
       "          0.02040828, 0.02040831],\n",
       "         [0.02040867, 0.02040847, 0.02040859, ..., 0.02040863,\n",
       "          0.02040864, 0.02040858]]],\n",
       "\n",
       "\n",
       "       [[[0.02040816, 0.02040782, 0.02040801, ..., 0.0204078 ,\n",
       "          0.02040784, 0.02040779],\n",
       "         [0.02040813, 0.02040805, 0.02040789, ..., 0.02040824,\n",
       "          0.02040804, 0.02040818],\n",
       "         [0.02040832, 0.02040851, 0.02040847, ..., 0.02040846,\n",
       "          0.02040845, 0.02040845],\n",
       "         ...,\n",
       "         [0.02040846, 0.02040823, 0.02040844, ..., 0.02040841,\n",
       "          0.02040835, 0.02040835],\n",
       "         [0.02040851, 0.02040832, 0.02040859, ..., 0.02040858,\n",
       "          0.02040853, 0.02040824],\n",
       "         [0.02040816, 0.02040837, 0.02040825, ..., 0.02040829,\n",
       "          0.02040816, 0.0204084 ]],\n",
       "\n",
       "        [[0.02040794, 0.02040817, 0.02040827, ..., 0.02040828,\n",
       "          0.02040832, 0.02040812],\n",
       "         [0.02040855, 0.02040836, 0.02040834, ..., 0.02040843,\n",
       "          0.02040845, 0.02040845],\n",
       "         [0.02040758, 0.02040761, 0.02040748, ..., 0.02040757,\n",
       "          0.02040755, 0.02040757],\n",
       "         ...,\n",
       "         [0.02040828, 0.02040802, 0.02040833, ..., 0.0204083 ,\n",
       "          0.02040809, 0.02040813],\n",
       "         [0.02040798, 0.02040812, 0.02040837, ..., 0.02040802,\n",
       "          0.02040817, 0.02040831],\n",
       "         [0.02040816, 0.02040812, 0.02040794, ..., 0.02040797,\n",
       "          0.02040796, 0.02040832]],\n",
       "\n",
       "        [[0.02040794, 0.02040846, 0.0204083 , ..., 0.02040874,\n",
       "          0.02040851, 0.02040859],\n",
       "         [0.02040806, 0.02040827, 0.02040836, ..., 0.02040833,\n",
       "          0.0204081 , 0.02040813],\n",
       "         [0.02040803, 0.02040793, 0.02040805, ..., 0.02040809,\n",
       "          0.02040804, 0.02040818],\n",
       "         ...,\n",
       "         [0.02040821, 0.02040847, 0.02040853, ..., 0.02040818,\n",
       "          0.02040836, 0.02040826],\n",
       "         [0.02040828, 0.02040811, 0.02040839, ..., 0.02040801,\n",
       "          0.02040823, 0.02040831],\n",
       "         [0.02040832, 0.02040827, 0.0204085 , ..., 0.02040865,\n",
       "          0.02040836, 0.02040847]],\n",
       "\n",
       "        [[0.02040794, 0.02040812, 0.02040815, ..., 0.02040808,\n",
       "          0.02040794, 0.02040798],\n",
       "         [0.02040818, 0.02040811, 0.02040804, ..., 0.02040814,\n",
       "          0.02040814, 0.02040819],\n",
       "         [0.02040813, 0.02040834, 0.02040826, ..., 0.02040852,\n",
       "          0.02040835, 0.0204086 ],\n",
       "         ...,\n",
       "         [0.02040834, 0.02040833, 0.0204083 , ..., 0.02040835,\n",
       "          0.02040833, 0.02040819],\n",
       "         [0.02040831, 0.02040828, 0.02040832, ..., 0.02040825,\n",
       "          0.02040824, 0.02040826],\n",
       "         [0.02040854, 0.02040834, 0.02040845, ..., 0.0204085 ,\n",
       "          0.02040851, 0.02040845]]],\n",
       "\n",
       "\n",
       "       ...,\n",
       "\n",
       "\n",
       "       [[[0.02040816, 0.02040781, 0.020408  , ..., 0.0204078 ,\n",
       "          0.02040783, 0.02040778],\n",
       "         [0.02040821, 0.02040813, 0.02040796, ..., 0.02040831,\n",
       "          0.02040812, 0.02040825],\n",
       "         [0.0204083 , 0.02040849, 0.02040844, ..., 0.02040843,\n",
       "          0.02040843, 0.02040843],\n",
       "         ...,\n",
       "         [0.0204084 , 0.02040818, 0.02040838, ..., 0.02040836,\n",
       "          0.0204083 , 0.02040829],\n",
       "         [0.02040846, 0.02040827, 0.02040855, ..., 0.02040854,\n",
       "          0.02040848, 0.0204082 ],\n",
       "         [0.02040814, 0.02040834, 0.02040822, ..., 0.02040826,\n",
       "          0.02040814, 0.02040837]],\n",
       "\n",
       "        [[0.020408  , 0.02040822, 0.02040833, ..., 0.02040834,\n",
       "          0.02040838, 0.02040818],\n",
       "         [0.02040854, 0.02040835, 0.02040832, ..., 0.02040841,\n",
       "          0.02040843, 0.02040843],\n",
       "         [0.02040763, 0.02040766, 0.02040753, ..., 0.02040763,\n",
       "          0.0204076 , 0.02040762],\n",
       "         ...,\n",
       "         [0.02040818, 0.02040792, 0.02040823, ..., 0.02040819,\n",
       "          0.02040798, 0.02040802],\n",
       "         [0.02040793, 0.02040807, 0.02040832, ..., 0.02040797,\n",
       "          0.02040812, 0.02040826],\n",
       "         [0.02040816, 0.02040812, 0.02040794, ..., 0.02040796,\n",
       "          0.02040795, 0.02040832]],\n",
       "\n",
       "        [[0.02040788, 0.02040839, 0.02040824, ..., 0.02040868,\n",
       "          0.02040845, 0.02040852],\n",
       "         [0.02040811, 0.02040832, 0.0204084 , ..., 0.02040838,\n",
       "          0.02040815, 0.02040818],\n",
       "         [0.02040803, 0.02040793, 0.02040805, ..., 0.0204081 ,\n",
       "          0.02040804, 0.02040818],\n",
       "         ...,\n",
       "         [0.02040815, 0.02040841, 0.02040847, ..., 0.02040812,\n",
       "          0.0204083 , 0.0204082 ],\n",
       "         [0.02040822, 0.02040805, 0.02040833, ..., 0.02040795,\n",
       "          0.02040816, 0.02040825],\n",
       "         [0.02040835, 0.0204083 , 0.02040853, ..., 0.02040867,\n",
       "          0.02040839, 0.02040849]],\n",
       "\n",
       "        [[0.02040799, 0.02040817, 0.02040821, ..., 0.02040813,\n",
       "          0.02040799, 0.02040803],\n",
       "         [0.02040817, 0.02040809, 0.02040803, ..., 0.02040813,\n",
       "          0.02040812, 0.02040818],\n",
       "         [0.02040818, 0.02040839, 0.02040831, ..., 0.02040857,\n",
       "          0.0204084 , 0.02040864],\n",
       "         ...,\n",
       "         [0.02040826, 0.02040825, 0.02040823, ..., 0.02040827,\n",
       "          0.02040826, 0.02040811],\n",
       "         [0.02040828, 0.02040825, 0.02040829, ..., 0.02040822,\n",
       "          0.02040821, 0.02040823],\n",
       "         [0.02040857, 0.02040836, 0.02040848, ..., 0.02040852,\n",
       "          0.02040854, 0.02040847]]],\n",
       "\n",
       "\n",
       "       [[[0.02040819, 0.02040785, 0.02040804, ..., 0.02040794,\n",
       "          0.02040787, 0.02040782],\n",
       "         [0.02040819, 0.02040811, 0.02040794, ..., 0.02040826,\n",
       "          0.02040809, 0.02040823],\n",
       "         [0.02040817, 0.02040836, 0.02040832, ..., 0.02040832,\n",
       "          0.0204083 , 0.0204083 ],\n",
       "         ...,\n",
       "         [0.0204083 , 0.02040808, 0.02040827, ..., 0.02040822,\n",
       "          0.02040826, 0.02040821],\n",
       "         [0.02040838, 0.02040819, 0.02040847, ..., 0.02040853,\n",
       "          0.0204084 , 0.02040811],\n",
       "         [0.02040808, 0.02040828, 0.02040816, ..., 0.02040813,\n",
       "          0.02040808, 0.02040832]],\n",
       "\n",
       "        [[0.020408  , 0.02040823, 0.02040833, ..., 0.02040826,\n",
       "          0.02040837, 0.02040818],\n",
       "         [0.02040845, 0.02040826, 0.02040823, ..., 0.02040842,\n",
       "          0.02040834, 0.02040834],\n",
       "         [0.02040782, 0.02040785, 0.02040772, ..., 0.02040783,\n",
       "          0.02040779, 0.02040781],\n",
       "         ...,\n",
       "         [0.02040831, 0.02040791, 0.02040837, ..., 0.02040826,\n",
       "          0.02040806, 0.02040811],\n",
       "         [0.02040791, 0.02040805, 0.0204083 , ..., 0.02040792,\n",
       "          0.0204081 , 0.02040824],\n",
       "         [0.02040814, 0.0204081 , 0.02040792, ..., 0.02040795,\n",
       "          0.02040794, 0.0204083 ]],\n",
       "\n",
       "        [[0.02040786, 0.02040837, 0.02040822, ..., 0.02040857,\n",
       "          0.02040843, 0.0204085 ],\n",
       "         [0.02040805, 0.02040826, 0.02040835, ..., 0.02040826,\n",
       "          0.02040809, 0.02040812],\n",
       "         [0.02040806, 0.02040796, 0.02040809, ..., 0.0204082 ,\n",
       "          0.02040807, 0.02040821],\n",
       "         ...,\n",
       "         [0.02040818, 0.02040838, 0.02040845, ..., 0.02040813,\n",
       "          0.02040835, 0.02040819],\n",
       "         [0.02040827, 0.0204081 , 0.02040838, ..., 0.02040795,\n",
       "          0.02040822, 0.0204083 ],\n",
       "         [0.02040826, 0.0204082 , 0.02040843, ..., 0.0204085 ,\n",
       "          0.02040829, 0.0204084 ]],\n",
       "\n",
       "        [[0.02040801, 0.02040819, 0.02040822, ..., 0.02040818,\n",
       "          0.02040801, 0.02040805],\n",
       "         [0.02040822, 0.02040814, 0.02040807, ..., 0.02040818,\n",
       "          0.02040817, 0.02040823],\n",
       "         [0.02040811, 0.02040832, 0.02040824, ..., 0.02040854,\n",
       "          0.02040833, 0.02040857],\n",
       "         ...,\n",
       "         [0.02040826, 0.02040818, 0.02040813, ..., 0.02040826,\n",
       "          0.02040803, 0.02040796],\n",
       "         [0.02040827, 0.02040824, 0.02040828, ..., 0.02040816,\n",
       "          0.0204082 , 0.02040822],\n",
       "         [0.02040844, 0.02040823, 0.02040835, ..., 0.02040848,\n",
       "          0.0204084 , 0.02040834]]],\n",
       "\n",
       "\n",
       "       [[[0.02040827, 0.02040793, 0.02040812, ..., 0.02040792,\n",
       "          0.02040795, 0.0204079 ],\n",
       "         [0.02040817, 0.02040809, 0.02040793, ..., 0.02040827,\n",
       "          0.02040808, 0.02040822],\n",
       "         [0.02040821, 0.0204084 , 0.02040835, ..., 0.02040835,\n",
       "          0.02040834, 0.02040834],\n",
       "         ...,\n",
       "         [0.02040839, 0.02040816, 0.02040837, ..., 0.02040835,\n",
       "          0.02040828, 0.02040827],\n",
       "         [0.02040838, 0.02040819, 0.02040847, ..., 0.02040846,\n",
       "          0.0204084 , 0.02040812],\n",
       "         [0.02040817, 0.02040837, 0.02040825, ..., 0.02040829,\n",
       "          0.02040817, 0.0204084 ]],\n",
       "\n",
       "        [[0.02040792, 0.02040815, 0.02040825, ..., 0.02040826,\n",
       "          0.0204083 , 0.02040811],\n",
       "         [0.0204084 , 0.02040821, 0.02040819, ..., 0.02040828,\n",
       "          0.0204083 , 0.0204083 ],\n",
       "         [0.02040786, 0.0204079 , 0.02040776, ..., 0.02040786,\n",
       "          0.02040783, 0.02040785],\n",
       "         ...,\n",
       "         [0.0204083 , 0.02040805, 0.02040836, ..., 0.02040832,\n",
       "          0.02040811, 0.02040815],\n",
       "         [0.02040798, 0.02040812, 0.02040837, ..., 0.02040802,\n",
       "          0.02040817, 0.02040831],\n",
       "         [0.02040819, 0.02040815, 0.02040796, ..., 0.02040799,\n",
       "          0.02040798, 0.02040835]],\n",
       "\n",
       "        [[0.02040781, 0.02040832, 0.02040816, ..., 0.02040861,\n",
       "          0.02040838, 0.02040845],\n",
       "         [0.0204081 , 0.02040831, 0.02040839, ..., 0.02040837,\n",
       "          0.02040814, 0.02040817],\n",
       "         [0.02040806, 0.02040796, 0.02040808, ..., 0.02040812,\n",
       "          0.02040807, 0.02040821],\n",
       "         ...,\n",
       "         [0.02040811, 0.02040837, 0.02040843, ..., 0.02040808,\n",
       "          0.02040826, 0.02040816],\n",
       "         [0.02040821, 0.02040804, 0.02040832, ..., 0.02040794,\n",
       "          0.02040815, 0.02040824],\n",
       "         [0.02040818, 0.02040813, 0.02040836, ..., 0.02040851,\n",
       "          0.02040822, 0.02040833]],\n",
       "\n",
       "        [[0.02040801, 0.02040819, 0.02040822, ..., 0.02040815,\n",
       "          0.02040801, 0.02040805],\n",
       "         [0.02040819, 0.02040811, 0.02040804, ..., 0.02040814,\n",
       "          0.02040814, 0.02040819],\n",
       "         [0.0204081 , 0.0204083 , 0.02040823, ..., 0.02040848,\n",
       "          0.02040832, 0.02040856],\n",
       "         ...,\n",
       "         [0.02040831, 0.0204083 , 0.02040827, ..., 0.02040832,\n",
       "          0.0204083 , 0.02040815],\n",
       "         [0.02040827, 0.02040824, 0.02040828, ..., 0.02040821,\n",
       "          0.0204082 , 0.02040822],\n",
       "         [0.02040841, 0.0204082 , 0.02040832, ..., 0.02040836,\n",
       "          0.02040837, 0.02040831]]]], dtype=float32)>"
      ]
     },
     "execution_count": 227,
     "metadata": {},
     "output_type": "execute_result"
    }
   ],
   "source": [
    "enc_layer.attn_score ## batch_size, #atten_head, #num_patches(tokens), #num_patches"
   ]
  },
  {
   "cell_type": "code",
   "execution_count": 290,
   "metadata": {},
   "outputs": [],
   "source": [
    "class Encoder(tf.keras.Model):\n",
    "    def __init__(self,d_model,dff,dropout_rate,num_heads,num_layers):\n",
    "        super(Encoder,self).__init__()\n",
    "        self.patch_emb=PatchEmbedding(d_model)\n",
    "        self.enc_layers=[Encoder_Layer(d_model,dff,dropout_rate,num_heads)\n",
    "                        for _ in range(num_layers)]\n",
    "        \n",
    "        self.out_layer=tf.keras.layers.Dense(10,activation='softmax')\n",
    "        self.num_layers=num_layers\n",
    "        self.last_attn_score=None\n",
    "        \n",
    "    def call(self,images):\n",
    "        \n",
    "        ##getting patche_embedding the input image and adding positional information to it \n",
    "        x=self.patch_emb(images)\n",
    "        \n",
    "        for i in range(self.num_layers):\n",
    "            x=self.enc_layers[i](x)\n",
    "        \n",
    "        x=x[:,0,:] ## Global Information contained in class tokens\n",
    "        output_layer=self.out_layer(x)\n",
    "        self.last_attn_score=self.enc_layers[num_layers-1].attn_score\n",
    "        \n",
    "        return output_layer\n",
    "        \n",
    "        \n",
    "    "
   ]
  },
  {
   "cell_type": "code",
   "execution_count": 291,
   "metadata": {},
   "outputs": [],
   "source": [
    "##try it \n",
    "\n",
    "out_prob=Encoder(d_model,dff,dropout_rate,num_heads,2)(image)"
   ]
  },
  {
   "cell_type": "code",
   "execution_count": null,
   "metadata": {},
   "outputs": [],
   "source": []
  },
  {
   "cell_type": "code",
   "execution_count": 292,
   "metadata": {},
   "outputs": [
    {
     "data": {
      "text/plain": [
       "<tf.Tensor: shape=(64, 50, 256), dtype=float32, numpy=\n",
       "array([[[-0.01623954,  0.00486127,  0.0164399 , ...,  0.04257703,\n",
       "         -0.04099489, -0.00479007],\n",
       "        [ 0.03363803,  0.02882308,  0.00097749, ...,  0.04461608,\n",
       "         -0.00356733,  0.02496916],\n",
       "        [ 0.0081326 ,  0.02239582,  0.02580218, ..., -0.0143916 ,\n",
       "          0.01858768,  0.00436063],\n",
       "        ...,\n",
       "        [ 0.01920554,  0.04221523,  0.03295524, ..., -0.01009163,\n",
       "          0.00805972, -0.04000036],\n",
       "        [ 0.01623274,  0.00140528, -0.01379513, ..., -0.02688841,\n",
       "         -0.02851257,  0.01571264],\n",
       "        [ 0.04778477, -0.02345827,  0.02578367, ...,  0.01427089,\n",
       "          0.01456909, -0.02307239]],\n",
       "\n",
       "       [[-0.01623954,  0.00486127,  0.0164399 , ...,  0.04257703,\n",
       "         -0.04099489, -0.00479007],\n",
       "        [ 0.03363803,  0.02882308,  0.00097749, ...,  0.04461608,\n",
       "         -0.00356733,  0.02496916],\n",
       "        [ 0.0081326 ,  0.02239582,  0.02580218, ..., -0.0143916 ,\n",
       "          0.01858768,  0.00436063],\n",
       "        ...,\n",
       "        [ 0.01920554,  0.04221523,  0.03295524, ..., -0.01009163,\n",
       "          0.00805972, -0.04000036],\n",
       "        [ 0.01623274,  0.00140528, -0.01379513, ..., -0.02688841,\n",
       "         -0.02851257,  0.01571264],\n",
       "        [ 0.04778477, -0.02345827,  0.02578367, ...,  0.01427089,\n",
       "          0.01456909, -0.02307239]],\n",
       "\n",
       "       [[-0.01623954,  0.00486127,  0.0164399 , ...,  0.04257703,\n",
       "         -0.04099489, -0.00479007],\n",
       "        [ 0.03363803,  0.02882308,  0.00097749, ...,  0.04461608,\n",
       "         -0.00356733,  0.02496916],\n",
       "        [ 0.0081326 ,  0.02239582,  0.02580218, ..., -0.0143916 ,\n",
       "          0.01858768,  0.00436063],\n",
       "        ...,\n",
       "        [ 0.01920554,  0.04221523,  0.03295524, ..., -0.01009163,\n",
       "          0.00805972, -0.04000036],\n",
       "        [ 0.01623274,  0.00140528, -0.01379513, ..., -0.02688841,\n",
       "         -0.02851257,  0.01571264],\n",
       "        [ 0.04778477, -0.02345827,  0.02578367, ...,  0.01427089,\n",
       "          0.01456909, -0.02307239]],\n",
       "\n",
       "       ...,\n",
       "\n",
       "       [[-0.01623954,  0.00486127,  0.0164399 , ...,  0.04257703,\n",
       "         -0.04099489, -0.00479007],\n",
       "        [ 0.03363803,  0.02882308,  0.00097749, ...,  0.04461608,\n",
       "         -0.00356733,  0.02496916],\n",
       "        [ 0.0081326 ,  0.02239582,  0.02580218, ..., -0.0143916 ,\n",
       "          0.01858768,  0.00436063],\n",
       "        ...,\n",
       "        [ 0.01920554,  0.04221523,  0.03295524, ..., -0.01009163,\n",
       "          0.00805972, -0.04000036],\n",
       "        [ 0.01623274,  0.00140528, -0.01379513, ..., -0.02688841,\n",
       "         -0.02851257,  0.01571264],\n",
       "        [ 0.04778477, -0.02345827,  0.02578367, ...,  0.01427089,\n",
       "          0.01456909, -0.02307239]],\n",
       "\n",
       "       [[-0.01623954,  0.00486127,  0.0164399 , ...,  0.04257703,\n",
       "         -0.04099489, -0.00479007],\n",
       "        [ 0.03363803,  0.02882308,  0.00097749, ...,  0.04461608,\n",
       "         -0.00356733,  0.02496916],\n",
       "        [ 0.0081326 ,  0.02239582,  0.02580218, ..., -0.0143916 ,\n",
       "          0.01858768,  0.00436063],\n",
       "        ...,\n",
       "        [ 0.01920554,  0.04221523,  0.03295524, ..., -0.01009163,\n",
       "          0.00805972, -0.04000036],\n",
       "        [ 0.01623274,  0.00140528, -0.01379513, ..., -0.02688841,\n",
       "         -0.02851257,  0.01571264],\n",
       "        [ 0.04778477, -0.02345827,  0.02578367, ...,  0.01427089,\n",
       "          0.01456909, -0.02307239]],\n",
       "\n",
       "       [[-0.01623954,  0.00486127,  0.0164399 , ...,  0.04257703,\n",
       "         -0.04099489, -0.00479007],\n",
       "        [ 0.03363803,  0.02882308,  0.00097749, ...,  0.04461608,\n",
       "         -0.00356733,  0.02496916],\n",
       "        [ 0.0081326 ,  0.02239582,  0.02580218, ..., -0.0143916 ,\n",
       "          0.01858768,  0.00436063],\n",
       "        ...,\n",
       "        [ 0.12874775,  0.15321681,  0.0625845 , ...,  0.05690698,\n",
       "         -0.11858325,  0.02929731],\n",
       "        [ 0.01623274,  0.00140528, -0.01379513, ..., -0.02688841,\n",
       "         -0.02851257,  0.01571264],\n",
       "        [ 0.04778477, -0.02345827,  0.02578367, ...,  0.01427089,\n",
       "          0.01456909, -0.02307239]]], dtype=float32)>"
      ]
     },
     "execution_count": 292,
     "metadata": {},
     "output_type": "execute_result"
    }
   ],
   "source": [
    "PatchEmbedding(d_model)(image)"
   ]
  },
  {
   "cell_type": "markdown",
   "metadata": {},
   "source": [
    "Everything is working, it is time to train. Since, it is simple MNIST task we will not use Optimizer wtih weight_decay. \n",
    "We will use Adam, as this task itself is very simple "
   ]
  },
  {
   "cell_type": "code",
   "execution_count": 293,
   "metadata": {},
   "outputs": [],
   "source": [
    "#model_parameters\n",
    "num_heads=4\n",
    "d_model=256\n",
    "dff=d_model*3\n",
    "dropout_rate=0.3\n",
    "num_layers=2\n",
    "\n",
    "model=Encoder(d_model,dff,dropout_rate,num_heads,num_layers)"
   ]
  },
  {
   "cell_type": "code",
   "execution_count": 294,
   "metadata": {},
   "outputs": [],
   "source": [
    "model.compile(optimizer='adam',\n",
    "              loss='categorical_crossentropy',\n",
    "              metrics=['accuracy'])\n"
   ]
  },
  {
   "cell_type": "code",
   "execution_count": 295,
   "metadata": {},
   "outputs": [
    {
     "name": "stdout",
     "output_type": "stream",
     "text": [
      "Epoch 1/4\n",
      "937/937 [==============================] - 28s 27ms/step - loss: 0.8316 - accuracy: 0.7179\n",
      "Epoch 2/4\n",
      "937/937 [==============================] - 25s 27ms/step - loss: 0.2761 - accuracy: 0.9136\n",
      "Epoch 3/4\n",
      "937/937 [==============================] - 25s 27ms/step - loss: 0.2124 - accuracy: 0.9336\n",
      "Epoch 4/4\n",
      "937/937 [==============================] - 25s 27ms/step - loss: 0.1783 - accuracy: 0.9439\n"
     ]
    }
   ],
   "source": [
    "model.fit(train_dataset,epochs=4,verbose=True) \n",
    "\"You can train more to get better result, the aim of this turtorial is just showing how we can buld ViT from scratch\";"
   ]
  },
  {
   "cell_type": "code",
   "execution_count": 296,
   "metadata": {},
   "outputs": [
    {
     "name": "stdout",
     "output_type": "stream",
     "text": [
      "156/156 [==============================] - 2s 12ms/step - loss: 0.1260 - accuracy: 0.9622\n"
     ]
    },
    {
     "data": {
      "text/plain": [
       "[0.12604284286499023, 0.9622395634651184]"
      ]
     },
     "execution_count": 296,
     "metadata": {},
     "output_type": "execute_result"
    }
   ],
   "source": [
    "## Testing the accuracy on Test Dataset\n",
    "model.evaluate(test_dataset,verbose=1)"
   ]
  },
  {
   "cell_type": "code",
   "execution_count": 297,
   "metadata": {
    "scrolled": false
   },
   "outputs": [
    {
     "name": "stderr",
     "output_type": "stream",
     "text": [
      "WARNING:absl:Found untraced functions such as patch_39_layer_call_fn, patch_39_layer_call_and_return_conditional_losses, dense_151_layer_call_fn, dense_151_layer_call_and_return_conditional_losses, embedding_31_layer_call_fn while saving (showing 5 of 50). These functions will not be directly callable after loading.\n"
     ]
    },
    {
     "name": "stdout",
     "output_type": "stream",
     "text": [
      "INFO:tensorflow:Assets written to: ./saved_model\\assets\n"
     ]
    },
    {
     "name": "stderr",
     "output_type": "stream",
     "text": [
      "INFO:tensorflow:Assets written to: ./saved_model\\assets\n"
     ]
    }
   ],
   "source": [
    "## Saving the model\n",
    "model_checkpoint='./saved_model'\n",
    "model.save(model_checkpoint)"
   ]
  },
  {
   "cell_type": "code",
   "execution_count": 298,
   "metadata": {},
   "outputs": [],
   "source": [
    "## how to plot the attention heatmap\n",
    "\n",
    "## Frist step lets get a image from test_dataset\n",
    "\n",
    "for test_images,_ in test_dataset.take(1):\n",
    "    random_idx=tf.random.uniform(\n",
    "    shape=(1,),\n",
    "    minval=0,\n",
    "    maxval=64,\n",
    "    dtype=tf.dtypes.int32,\n",
    "  ).numpy()[0]\n",
    "    test_image=tf.expand_dims(test_images[random_idx],axis=0)"
   ]
  },
  {
   "cell_type": "code",
   "execution_count": 299,
   "metadata": {},
   "outputs": [
    {
     "data": {
      "text/plain": [
       "TensorShape([1, 28, 28, 1])"
      ]
     },
     "execution_count": 299,
     "metadata": {},
     "output_type": "execute_result"
    }
   ],
   "source": [
    "test_image.shape"
   ]
  },
  {
   "cell_type": "code",
   "execution_count": 300,
   "metadata": {
    "scrolled": true
   },
   "outputs": [
    {
     "data": {
      "text/plain": [
       "<matplotlib.image.AxesImage at 0x282db28fa00>"
      ]
     },
     "execution_count": 300,
     "metadata": {},
     "output_type": "execute_result"
    },
    {
     "data": {
      "image/png": "[encoded data removed]",
      "text/plain": [
       "<Figure size 432x288 with 1 Axes>"
      ]
     },
     "metadata": {
      "needs_background": "light"
     },
     "output_type": "display_data"
    }
   ],
   "source": [
    "## plotting the images\n",
    "\n",
    "plt.imshow(test_image[0])"
   ]
  },
  {
   "cell_type": "code",
   "execution_count": 301,
   "metadata": {},
   "outputs": [],
   "source": [
    "## model prediction \n",
    "\n",
    "prediction=tf.argmax(model(test_image),axis=1)\n",
    "attn_score=model.last_attn_score[0]"
   ]
  },
  {
   "cell_type": "code",
   "execution_count": 302,
   "metadata": {},
   "outputs": [
    {
     "data": {
      "text/plain": [
       "<tf.Tensor: shape=(1,), dtype=int64, numpy=array([7], dtype=int64)>"
      ]
     },
     "execution_count": 302,
     "metadata": {},
     "output_type": "execute_result"
    }
   ],
   "source": [
    "prediction"
   ]
  },
  {
   "cell_type": "code",
   "execution_count": 303,
   "metadata": {},
   "outputs": [
    {
     "data": {
      "text/plain": [
       "<tf.Tensor: shape=(4, 50, 50), dtype=float32, numpy=\n",
       "array([[[1.08839641e-03, 4.68478975e-05, 1.04467064e-04, ...,\n",
       "         1.25285427e-04, 4.46273079e-05, 5.92565448e-05],\n",
       "        [9.33375151e-04, 1.33031441e-04, 2.16387154e-04, ...,\n",
       "         2.31911414e-04, 1.52377805e-04, 1.71031890e-04],\n",
       "        [2.84217705e-04, 2.09956197e-05, 4.03287595e-05, ...,\n",
       "         5.11030885e-05, 2.41381713e-05, 2.91913420e-05],\n",
       "        ...,\n",
       "        [5.71099627e-05, 1.67823680e-06, 4.07186008e-06, ...,\n",
       "         5.56009854e-06, 1.86413399e-06, 2.48219430e-06],\n",
       "        [6.74880750e-04, 6.05270798e-05, 1.08697284e-04, ...,\n",
       "         1.29355409e-04, 6.83804392e-05, 7.95298693e-05],\n",
       "        [9.37778212e-04, 1.26959800e-04, 2.05660093e-04, ...,\n",
       "         2.57291453e-04, 1.48325911e-04, 1.68035214e-04]],\n",
       "\n",
       "       [[1.29234031e-01, 1.23195513e-03, 2.28641997e-03, ...,\n",
       "         8.53242073e-03, 1.20669161e-03, 1.07901124e-03],\n",
       "        [3.10436606e-01, 1.57976360e-03, 2.14051129e-03, ...,\n",
       "         5.47097577e-03, 1.52057153e-03, 1.12153927e-03],\n",
       "        [3.21165979e-01, 1.06080028e-03, 1.55140285e-03, ...,\n",
       "         4.34081117e-03, 1.01632695e-03, 7.24895275e-04],\n",
       "        ...,\n",
       "        [4.31469172e-01, 3.24338122e-04, 5.58973930e-04, ...,\n",
       "         2.49550911e-03, 3.55469121e-04, 2.26930119e-04],\n",
       "        [3.58525664e-01, 8.50310316e-04, 1.27010047e-03, ...,\n",
       "         3.97394830e-03, 8.31053476e-04, 6.05428242e-04],\n",
       "        [3.04167658e-01, 1.52458844e-03, 2.07272032e-03, ...,\n",
       "         5.27650537e-03, 1.46209530e-03, 1.06943783e-03]],\n",
       "\n",
       "       [[1.29890011e-03, 1.49650477e-05, 3.37413694e-05, ...,\n",
       "         5.65123046e-05, 1.37059706e-05, 2.03488726e-05],\n",
       "        [9.18023847e-03, 2.30496182e-04, 4.52273263e-04, ...,\n",
       "         7.51991989e-04, 2.19722555e-04, 3.15176556e-04],\n",
       "        [3.90745793e-03, 7.59594259e-05, 1.56705180e-04, ...,\n",
       "         2.61380745e-04, 6.65847037e-05, 1.02986683e-04],\n",
       "        ...,\n",
       "        [5.22361661e-04, 2.35692710e-06, 6.73085879e-06, ...,\n",
       "         1.02972463e-05, 2.08580900e-06, 3.47685045e-06],\n",
       "        [4.94394870e-03, 9.01931780e-05, 1.83416458e-04, ...,\n",
       "         3.17852478e-04, 8.47298579e-05, 1.24767015e-04],\n",
       "        [7.33420998e-03, 2.00938550e-04, 3.84165847e-04, ...,\n",
       "         6.45019114e-04, 1.84592878e-04, 2.74279970e-04]],\n",
       "\n",
       "       [[6.12847786e-03, 2.21733630e-04, 5.32355916e-04, ...,\n",
       "         1.12652685e-03, 2.05305900e-04, 2.21260678e-04],\n",
       "        [1.09396197e-01, 1.57915277e-03, 2.68105953e-03, ...,\n",
       "         8.55049957e-03, 2.29068939e-03, 1.82698853e-03],\n",
       "        [1.03760280e-01, 1.29726774e-03, 2.24822131e-03, ...,\n",
       "         6.82462240e-03, 1.76833011e-03, 1.48206472e-03],\n",
       "        ...,\n",
       "        [4.02128547e-02, 1.18989585e-04, 2.85605231e-04, ...,\n",
       "         1.33080594e-03, 1.54865076e-04, 1.33746711e-04],\n",
       "        [5.74896075e-02, 4.92913881e-04, 9.97096882e-04, ...,\n",
       "         3.57274781e-03, 6.56358781e-04, 5.44505718e-04],\n",
       "        [8.56506452e-02, 1.29178597e-03, 2.25539343e-03, ...,\n",
       "         6.71452610e-03, 1.78419880e-03, 1.47713965e-03]]], dtype=float32)>"
      ]
     },
     "execution_count": 303,
     "metadata": {},
     "output_type": "execute_result"
    }
   ],
   "source": [
    "attn_score"
   ]
  },
  {
   "cell_type": "code",
   "execution_count": 304,
   "metadata": {},
   "outputs": [],
   "source": [
    "def overlay_attention_on_image(image, attention_maps,num_heads):\n",
    "    ncols=num_heads//2\n",
    "    nrows=num_heads//2\n",
    "    fig,axes=plt.subplots(ncols=ncols,nrows=nrows)\n",
    "\n",
    "    for i in range(nrows):\n",
    "        for j in range(ncols):\n",
    "            head=i+j\n",
    "            \n",
    "    # Normalize the attention map\n",
    "            attention_map=attention_maps[head].numpy()\n",
    "            attention_map = (attention_map - np.min(attention_map)) / (np.max(attention_map) - np.min(attention_map))\n",
    "\n",
    "            # Resize attention_map to image size using bilinear interpolation\n",
    "            attention_map_resized = cv2.resize(attention_map, (image.shape[1], image.shape[0]))\n",
    "            attention_map_resized=cv2.cvtColor(attention_map_resized, cv2.COLOR_BGR2RGB)\n",
    "\n",
    "            axes[i][j].imshow(image, cmap='gray')  # grayscale image\n",
    "            axes[i][j].imshow(attention_map_resized, cmap='jet', alpha=0.5)  # Overlaying the attention map with transparency\n",
    "\n",
    "           \n",
    "            "
   ]
  },
  {
   "cell_type": "code",
   "execution_count": 305,
   "metadata": {},
   "outputs": [
    {
     "data": {
      "image/png": "[encoded data removed]",
      "text/plain": [
       "<Figure size 432x288 with 4 Axes>"
      ]
     },
     "metadata": {
      "needs_background": "light"
     },
     "output_type": "display_data"
    }
   ],
   "source": [
    "overlay_attention_on_image(test_image[0],attn_score,num_heads=num_heads)"
   ]
  },
  {
   "cell_type": "code",
   "execution_count": null,
   "metadata": {},
   "outputs": [],
   "source": []
  }
 ],
 "metadata": {
  "kernelspec": {
   "display_name": "Python 3 (ipykernel)",
   "language": "python",
   "name": "python3"
  },
  "language_info": {
   "codemirror_mode": {
    "name": "ipython",
    "version": 3
   },
   "file_extension": ".py",
   "mimetype": "text/x-python",
   "name": "python",
   "nbconvert_exporter": "python",
   "pygments_lexer": "ipython3",
   "version": "3.9.12"
  }
 },
 "nbformat": 4,
 "nbformat_minor": 2
}
