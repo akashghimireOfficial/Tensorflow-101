{
 "cells": [
  {
   "attachments": {},
   "cell_type": "markdown",
   "metadata": {},
   "source": [
    "In this Jupyter notebook, we will learn how to imply a generator for employing tf.data training pipeline.  When do we used it ?\n",
    "<br>\n",
    "We use generator method to train large training files save in a local directory.  There are already existing method such as tf.keras \"ImageGenerator\" which allows us to work directly from the directory. In this turtorial we will also create our own ImageGenerator but using tf.data.Dataset.from_generator().  \n",
    "<br>\n",
    "If we already have a predefined method such as tf.keras \"ImageGenerator\", then why to build such put extra effort to build custom data generator? \n",
    "> We may need to work on other type of data such as video or audio which does not have predefined Generator. "
   ]
  },
  {
   "cell_type": "code",
   "execution_count": 1,
   "metadata": {},
   "outputs": [],
   "source": [
    "import tensorflow as tf \n",
    "from glob import glob \n",
    "import os \n",
    "from os.path import join,basename,exists\n",
    "\n",
    "\n"
   ]
  },
  {
   "cell_type": "code",
   "execution_count": null,
   "metadata": {},
   "outputs": [],
   "source": [
    "## Creating Generator Class \n",
    "\n",
    "class image_generator:\n",
    "\n",
    "    def __init__(self,dire,is_training=False):\n",
    "\n",
    "        self.dire=dire\n",
    "        self.df=df\n",
    "        self.is_training=is_training\n",
    "\n",
    "    def get_labels(self,filename):\n",
    "\n",
    "        "
   ]
  },
  {
   "cell_type": "code",
   "execution_count": 18,
   "metadata": {},
   "outputs": [],
   "source": [
    "arr=tf.random.normal((100,),100)"
   ]
  },
  {
   "cell_type": "code",
   "execution_count": 24,
   "metadata": {},
   "outputs": [],
   "source": [
    "ds=tf.data.Dataset.from_tensor_slices(arr)"
   ]
  },
  {
   "cell_type": "code",
   "execution_count": 25,
   "metadata": {},
   "outputs": [
    {
     "ename": "",
     "evalue": "",
     "output_type": "error",
     "traceback": [
      "\u001b[1;31mThe Kernel crashed while executing code in the the current cell or a previous cell. Please review the code in the cell(s) to identify a possible cause of the failure. Click <a href='https://aka.ms/vscodeJupyterKernelCrash'>here</a> for more info. View Jupyter <a href='command:jupyter.viewOutput'>log</a> for further details."
     ]
    }
   ],
   "source": [
    "ds=ds.batch(5)"
   ]
  },
  {
   "cell_type": "code",
   "execution_count": 23,
   "metadata": {},
   "outputs": [
    {
     "name": "stdout",
     "output_type": "stream",
     "text": [
      "tf.Tensor([100.275696  98.76869   99.994896  99.607285  99.88992 ], shape=(5,), dtype=float32)\n",
      "tf.Tensor([100.77102  99.34119 100.45004  99.3099  100.44538], shape=(5,), dtype=float32)\n",
      "tf.Tensor([ 99.70236  100.760315  99.852135 100.666275 100.636955], shape=(5,), dtype=float32)\n",
      "tf.Tensor([ 99.59508   99.13174   99.81141  102.184685  98.865135], shape=(5,), dtype=float32)\n",
      "tf.Tensor([ 99.97172  101.48699   99.21467   99.312675 100.2843  ], shape=(5,), dtype=float32)\n",
      "tf.Tensor([ 97.616806 100.76849  101.11101  101.82543  100.458984], shape=(5,), dtype=float32)\n",
      "tf.Tensor([101.834305 101.041885  98.34062  100.39635  101.027626], shape=(5,), dtype=float32)\n"
     ]
    }
   ],
   "source": []
  },
  {
   "cell_type": "code",
   "execution_count": 11,
   "metadata": {},
   "outputs": [],
   "source": [
    "ele=ds.take(20)"
   ]
  },
  {
   "cell_type": "code",
   "execution_count": 15,
   "metadata": {},
   "outputs": [
    {
     "ename": "AttributeError",
     "evalue": "'TakeDataset' object has no attribute 'numpy'",
     "output_type": "error",
     "traceback": [
      "\u001b[1;31m---------------------------------------------------------------------------\u001b[0m",
      "\u001b[1;31mAttributeError\u001b[0m                            Traceback (most recent call last)",
      "\u001b[1;32me:\\Python Projects\\Tensorflow-101\\tf pipeline\\tf_datagenerator.ipynb Cell 8\u001b[0m in \u001b[0;36m<cell line: 1>\u001b[1;34m()\u001b[0m\n\u001b[0;32m      <a href='vscode-notebook-cell:/e%3A/Python%20Projects/Tensorflow-101/tf%20pipeline/tf_datagenerator.ipynb#X12sZmlsZQ%3D%3D?line=0'>1</a>\u001b[0m \u001b[39mfor\u001b[39;00m element \u001b[39min\u001b[39;00m ds:\n\u001b[1;32m----> <a href='vscode-notebook-cell:/e%3A/Python%20Projects/Tensorflow-101/tf%20pipeline/tf_datagenerator.ipynb#X12sZmlsZQ%3D%3D?line=1'>2</a>\u001b[0m     \u001b[39mprint\u001b[39m(ele\u001b[39m.\u001b[39;49mnumpy())\n",
      "\u001b[1;31mAttributeError\u001b[0m: 'TakeDataset' object has no attribute 'numpy'"
     ]
    }
   ],
   "source": [
    "for element in ds:\n",
    "    print(ele.numpy())"
   ]
  },
  {
   "cell_type": "code",
   "execution_count": null,
   "metadata": {},
   "outputs": [],
   "source": []
  }
 ],
 "metadata": {
  "kernelspec": {
   "display_name": "vision",
   "language": "python",
   "name": "python3"
  },
  "language_info": {
   "codemirror_mode": {
    "name": "ipython",
    "version": 3
   },
   "file_extension": ".py",
   "mimetype": "text/x-python",
   "name": "python",
   "nbconvert_exporter": "python",
   "pygments_lexer": "ipython3",
   "version": "3.9.12"
  },
  "orig_nbformat": 4
 },
 "nbformat": 4,
 "nbformat_minor": 2
}
