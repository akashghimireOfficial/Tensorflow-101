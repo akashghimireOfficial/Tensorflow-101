{
 "cells": [
  {
   "cell_type": "code",
   "execution_count": 29,
   "metadata": {},
   "outputs": [],
   "source": [
    "import tensorflow as tf \n",
    "from tensorflow.keras.datasets.mnist import load_data\n",
    "from tensorflow.keras.layers import Dense,Flatten,MaxPool2D,Conv2D,Dropout\n",
    "import matplotlib.pyplot as plt"
   ]
  },
  {
   "cell_type": "code",
   "execution_count": 30,
   "metadata": {},
   "outputs": [
    {
     "data": {
      "text/plain": [
       "<module 'tensorflow' from 'c:\\\\Users\\\\Akash Ghimire\\\\anaconda3\\\\envs\\\\vision\\\\lib\\\\site-packages\\\\tensorflow\\\\__init__.py'>"
      ]
     },
     "execution_count": 30,
     "metadata": {},
     "output_type": "execute_result"
    }
   ],
   "source": [
    "tf"
   ]
  },
  {
   "cell_type": "code",
   "execution_count": 31,
   "metadata": {},
   "outputs": [
    {
     "name": "stdout",
     "output_type": "stream",
     "text": [
      "len of train_ds : 60000\n",
      "len of test_ds : 10000\n"
     ]
    }
   ],
   "source": [
    "(ds_train_x,ds_train_y),(ds_test_x,ds_test_y)=load_data()\n",
    "\n",
    "ds_train=tf.data.Dataset.from_tensor_slices((ds_train_x,ds_train_y))\n",
    "ds_test=tf.data.Dataset.from_tensor_slices((ds_test_x,ds_test_y))\n",
    "\n",
    "print('len of train_ds :',len(ds_train))\n",
    "print('len of test_ds :',len(ds_test))"
   ]
  },
  {
   "cell_type": "code",
   "execution_count": 32,
   "metadata": {},
   "outputs": [],
   "source": [
    "def preprocess(x,y):\n",
    "    print('x.shape :',x.shape)\n",
    "\n",
    "    x=tf.cast(x,tf.float32)\n",
    "    x=x/255.0\n",
    "    _,h,w=x.shape\n",
    "   \n",
    "    x=tf.reshape(x,[-1,h,w,1])\n",
    "    \n",
    "    y=tf.one_hot(y,depth=10)\n",
    "    return x,y"
   ]
  },
  {
   "cell_type": "code",
   "execution_count": 33,
   "metadata": {},
   "outputs": [
    {
     "name": "stdout",
     "output_type": "stream",
     "text": [
      "x.shape : (None, 28, 28)\n",
      "x.shape : (None, 28, 28)\n"
     ]
    }
   ],
   "source": [
    "batch_size=256\n",
    "ds_train=ds_train.cache().shuffle(buffer_size=2000).batch(batch_size).map(preprocess).prefetch(tf.data.AUTOTUNE)\n",
    "ds_test=ds_test.cache().batch(batch_size).map(preprocess).prefetch(tf.data.AUTOTUNE)\n",
    "\n",
    "\n",
    "\n"
   ]
  },
  {
   "cell_type": "code",
   "execution_count": 34,
   "metadata": {},
   "outputs": [],
   "source": [
    "def get_model():\n",
    "\n",
    "    inputs=tf.keras.Input(shape=(28,28,1))\n",
    "    x=Conv2D(64,(5,5),activation='relu')(inputs)\n",
    "    x=MaxPool2D()(x)\n",
    "    x=Conv2D(128,(3,3),activation='relu')(x)\n",
    "    x=MaxPool2D()(x)\n",
    "    \n",
    "    x=Flatten()(x)\n",
    "    x=Dropout(0.4)(x)\n",
    "    x=Dense(10,activation='softmax')(x)\n",
    "\n",
    "    model=tf.keras.Model(inputs,x,name='okok')\n",
    "    optimizer=tf.keras.optimizers.Adam(learning_rate=0.001)\n",
    "    model.compile(optimizer=optimizer,loss='categorical_crossentropy',metrics=['accuracy'])\n",
    "    return model"
   ]
  },
  {
   "cell_type": "code",
   "execution_count": 35,
   "metadata": {},
   "outputs": [],
   "source": [
    "model=get_model()"
   ]
  },
  {
   "cell_type": "code",
   "execution_count": 36,
   "metadata": {},
   "outputs": [
    {
     "name": "stdout",
     "output_type": "stream",
     "text": [
      "Model: \"okok\"\n",
      "_________________________________________________________________\n",
      " Layer (type)                Output Shape              Param #   \n",
      "=================================================================\n",
      " input_2 (InputLayer)        [(None, 28, 28, 1)]       0         \n",
      "                                                                 \n",
      " conv2d_2 (Conv2D)           (None, 24, 24, 64)        1664      \n",
      "                                                                 \n",
      " max_pooling2d_2 (MaxPooling  (None, 12, 12, 64)       0         \n",
      " 2D)                                                             \n",
      "                                                                 \n",
      " conv2d_3 (Conv2D)           (None, 10, 10, 128)       73856     \n",
      "                                                                 \n",
      " max_pooling2d_3 (MaxPooling  (None, 5, 5, 128)        0         \n",
      " 2D)                                                             \n",
      "                                                                 \n",
      " flatten_1 (Flatten)         (None, 3200)              0         \n",
      "                                                                 \n",
      " dropout_1 (Dropout)         (None, 3200)              0         \n",
      "                                                                 \n",
      " dense_1 (Dense)             (None, 10)                32010     \n",
      "                                                                 \n",
      "=================================================================\n",
      "Total params: 107,530\n",
      "Trainable params: 107,530\n",
      "Non-trainable params: 0\n",
      "_________________________________________________________________\n"
     ]
    }
   ],
   "source": [
    "model.summary()"
   ]
  },
  {
   "cell_type": "code",
   "execution_count": 37,
   "metadata": {},
   "outputs": [
    {
     "name": "stdout",
     "output_type": "stream",
     "text": [
      "Epoch 1/30\n",
      "235/235 [==============================] - 3s 10ms/step - loss: 0.3099 - accuracy: 0.9118\n",
      "Epoch 2/30\n",
      "235/235 [==============================] - 2s 10ms/step - loss: 0.0826 - accuracy: 0.9754\n",
      "Epoch 3/30\n",
      "235/235 [==============================] - 2s 10ms/step - loss: 0.0601 - accuracy: 0.9823\n",
      "Epoch 4/30\n",
      "235/235 [==============================] - 2s 10ms/step - loss: 0.0493 - accuracy: 0.9853\n",
      "Epoch 5/30\n",
      "235/235 [==============================] - 2s 10ms/step - loss: 0.0425 - accuracy: 0.9870\n",
      "Epoch 6/30\n",
      "235/235 [==============================] - 2s 10ms/step - loss: 0.0366 - accuracy: 0.9886\n",
      "Epoch 7/30\n",
      "235/235 [==============================] - 2s 9ms/step - loss: 0.0325 - accuracy: 0.9896\n",
      "Epoch 8/30\n",
      "235/235 [==============================] - 2s 9ms/step - loss: 0.0287 - accuracy: 0.9909\n",
      "Epoch 9/30\n",
      "235/235 [==============================] - 2s 9ms/step - loss: 0.0267 - accuracy: 0.9917\n",
      "Epoch 10/30\n",
      "235/235 [==============================] - 2s 10ms/step - loss: 0.0232 - accuracy: 0.9927\n",
      "Epoch 11/30\n",
      "235/235 [==============================] - 2s 9ms/step - loss: 0.0232 - accuracy: 0.9925\n",
      "Epoch 12/30\n",
      "235/235 [==============================] - 2s 9ms/step - loss: 0.0194 - accuracy: 0.9940\n",
      "Epoch 13/30\n",
      "235/235 [==============================] - 2s 9ms/step - loss: 0.0200 - accuracy: 0.9933\n",
      "Epoch 14/30\n",
      "235/235 [==============================] - 2s 9ms/step - loss: 0.0173 - accuracy: 0.9945\n",
      "Epoch 15/30\n",
      "235/235 [==============================] - 2s 9ms/step - loss: 0.0162 - accuracy: 0.9946\n",
      "Epoch 16/30\n",
      "235/235 [==============================] - 2s 9ms/step - loss: 0.0161 - accuracy: 0.9947\n",
      "Epoch 17/30\n",
      "235/235 [==============================] - 2s 10ms/step - loss: 0.0144 - accuracy: 0.9954\n",
      "Epoch 18/30\n",
      "235/235 [==============================] - 2s 9ms/step - loss: 0.0130 - accuracy: 0.9956\n",
      "Epoch 19/30\n",
      "235/235 [==============================] - 2s 9ms/step - loss: 0.0124 - accuracy: 0.9960\n",
      "Epoch 20/30\n",
      "235/235 [==============================] - 2s 9ms/step - loss: 0.0128 - accuracy: 0.9957\n",
      "Epoch 21/30\n",
      "235/235 [==============================] - 2s 9ms/step - loss: 0.0122 - accuracy: 0.9959\n",
      "Epoch 22/30\n",
      "235/235 [==============================] - 2s 9ms/step - loss: 0.0103 - accuracy: 0.9967\n",
      "Epoch 23/30\n",
      "235/235 [==============================] - 2s 9ms/step - loss: 0.0109 - accuracy: 0.9964\n",
      "Epoch 24/30\n",
      "235/235 [==============================] - 2s 9ms/step - loss: 0.0095 - accuracy: 0.9968\n",
      "Epoch 25/30\n",
      "235/235 [==============================] - 2s 9ms/step - loss: 0.0094 - accuracy: 0.9968\n",
      "Epoch 26/30\n",
      "235/235 [==============================] - 2s 9ms/step - loss: 0.0092 - accuracy: 0.9966\n",
      "Epoch 27/30\n",
      "235/235 [==============================] - 2s 9ms/step - loss: 0.0098 - accuracy: 0.9966\n",
      "Epoch 28/30\n",
      "235/235 [==============================] - 2s 10ms/step - loss: 0.0079 - accuracy: 0.9976\n",
      "Epoch 29/30\n",
      "235/235 [==============================] - 2s 9ms/step - loss: 0.0091 - accuracy: 0.9968\n",
      "Epoch 30/30\n",
      "235/235 [==============================] - 2s 10ms/step - loss: 0.0076 - accuracy: 0.9973\n"
     ]
    }
   ],
   "source": [
    "history=model.fit(ds_train,verbose=True,epochs=30,shuffle=True)"
   ]
  },
  {
   "cell_type": "code",
   "execution_count": 38,
   "metadata": {},
   "outputs": [
    {
     "name": "stdout",
     "output_type": "stream",
     "text": [
      "40/40 [==============================] - 1s 8ms/step - loss: 0.0249 - accuracy: 0.9925\n"
     ]
    },
    {
     "data": {
      "text/plain": [
       "[0.024859467521309853, 0.9925000071525574]"
      ]
     },
     "execution_count": 38,
     "metadata": {},
     "output_type": "execute_result"
    }
   ],
   "source": [
    "model.evaluate(ds_test,verbose=1)"
   ]
  },
  {
   "cell_type": "code",
   "execution_count": 39,
   "metadata": {},
   "outputs": [
    {
     "name": "stdout",
     "output_type": "stream",
     "text": [
      "40/40 [==============================] - 0s 4ms/step\n"
     ]
    }
   ],
   "source": [
    "predicted=model.predict(ds_test)"
   ]
  },
  {
   "cell_type": "code",
   "execution_count": 40,
   "metadata": {},
   "outputs": [],
   "source": [
    "predicted=tf.argmax(predicted,axis=1)"
   ]
  },
  {
   "cell_type": "code",
   "execution_count": 41,
   "metadata": {},
   "outputs": [],
   "source": [
    "true_label=tf.argmax(list(ds_test.map(lambda x,y:y).unbatch().as_numpy_iterator()),axis=1).numpy()\n"
   ]
  },
  {
   "cell_type": "code",
   "execution_count": 42,
   "metadata": {},
   "outputs": [],
   "source": [
    "from sklearn.metrics import accuracy_score"
   ]
  },
  {
   "cell_type": "code",
   "execution_count": 43,
   "metadata": {},
   "outputs": [
    {
     "data": {
      "text/plain": [
       "0.9925"
      ]
     },
     "execution_count": 43,
     "metadata": {},
     "output_type": "execute_result"
    }
   ],
   "source": [
    "accuracy_score(true_label,predicted)"
   ]
  },
  {
   "cell_type": "code",
   "execution_count": null,
   "metadata": {},
   "outputs": [],
   "source": []
  }
 ],
 "metadata": {
  "kernelspec": {
   "display_name": "vision",
   "language": "python",
   "name": "python3"
  },
  "language_info": {
   "codemirror_mode": {
    "name": "ipython",
    "version": 3
   },
   "file_extension": ".py",
   "mimetype": "text/x-python",
   "name": "python",
   "nbconvert_exporter": "python",
   "pygments_lexer": "ipython3",
   "version": "3.9.12"
  },
  "orig_nbformat": 4
 },
 "nbformat": 4,
 "nbformat_minor": 2
}
