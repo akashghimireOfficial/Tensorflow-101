{
 "cells": [
  {
   "cell_type": "markdown",
   "metadata": {},
   "source": [
    "In the prvious section in [tf_basics/](../tf_basics/), we learned how to create custom layer either using `tf.Module` (subb calss of tf module) or by using `tf.keras.layers.Layer`(using keras support). But what are the difference between them? is there any advantage of using a one method over using other method? "
   ]
  },
  {
   "cell_type": "markdown",
   "metadata": {},
   "source": [
    "## tf.keras.layers.Layer vs tf.Module\n",
    "\n",
    "`tf.Module`  is used for general purpose, while `tf.keras.layers.Layer` custom model are specifically designed for designing Neural Network. Custom model created with \n",
    "`tf.keras.layers.Layer` are supported well supported in keras API. So, this custom layer can track weight, is better suited for *Regularization*, and serialization(saving the weight). In addition to do this custom layer made with keras.layers.Layer can also facilate with built in training mode such as \".fit()\",.\".evaluated()\". \n",
    "\n",
    "From the above answers, it seems that creating custom layer with `tf.keras.layers.Layer` looks much more promising. But is this always the case? let's look at why we will still use    `tf.Module`? \n",
    "\n",
    "1. **tf.Module is not specifically designed for \"Neural Network\".** \n",
    "\n",
    " It can be viewed as a subclass created using tf.Module that functions similarly to any other normal Python class. In this class, a neural network can be a component of the class, which may involve other processes such as preprocessing and other tasks. It can utilize a pre-trained model or a model defined within the class for its results. The prediction or main objective of the layer is typically conducted using the call() method, which can be wrapped in a @tf.function decorator if eager execution is not desired. However, since it is created with tf.Module, the entire class, where the neural network is just a part, can still be exported as a TensorFlow SavedModel. So, `tf.Module` is more suitable way to deploy a final product. \n",
    "\n",
    " \n",
    " 2. **tf.Module is more flexible and provide greater control**\n",
    "\n",
    " When you build a model with *tf.keras.layers.Layer* then we need to define input shape, data types as required. However, in tf.Module you are not bounded by these rules. So, this can be give you more control, and flexibility that you require while building complex models. \n",
    "\n",
    " 3. **tf.Module is more lighter**:\n",
    "\n",
    "When you build model with *tf,keras,layers.Layer*, it provide you many facility of keras API. But this also means you are loading many methods which may not be used. Thus, they are more heavier. \n",
    "\n",
    "\n",
    "So, as an *Tensorflow Developer* you should be able to know when to use `tf.Module` and when to use `tf.keras.layers.Layer` to create your custom layer. \n",
    "\n",
    "\n",
    " "
   ]
  },
  {
   "cell_type": "markdown",
   "metadata": {},
   "source": [
    "## tf.keras.Model\n",
    "Now, let's talk about `tf.keras.Model`, how is it different from `tf.keras.layers.Layer`.  \n",
    "\n",
    "*tf.keras.layers.Layer* are used to create a neural network which is actually a part of larget or overall model itself. For example, in `Transformer` architecture, there are many small encoders and decoders are a part of Transformer model. So, these neural networks like \"encoder\",\"decoder\", \"FFN\" are created using tf.keras.layers.Layer. And the *Transformer* model class is define as a subclass of `tf.keras.Model`. So, when we want to integrate parts of neural network to define a larger model then we use `tf.keras.Model`\n",
    "A custom model create using `tf.kearas.Model` can directly be compiled, train and evavaluated using simple methods such as \"model.compile(),model.fit(), model.evaluate()\"\n",
    "\n",
    "Difference between `tf.keras.Model` in subclassing vs in Functional API? \n"
   ]
  },
  {
   "cell_type": "markdown",
   "metadata": {},
   "source": []
  }
 ],
 "metadata": {
  "language_info": {
   "name": "python"
  },
  "orig_nbformat": 4
 },
 "nbformat": 4,
 "nbformat_minor": 2
}
