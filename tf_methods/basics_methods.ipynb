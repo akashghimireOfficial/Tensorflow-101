{
 "cells": [
  {
   "cell_type": "code",
   "execution_count": 1,
   "metadata": {},
   "outputs": [],
   "source": [
    "import tensorflow as tf \n"
   ]
  },
  {
   "attachments": {},
   "cell_type": "markdown",
   "metadata": {},
   "source": [
    "*tf.reduce_*: Here _ can be replaced with other mathematical operation such as sum,max,mean, and so on. If the axis is not specified it will do the operation on each array shape of scaler and resulting tensor will be a \n",
    "reduced to scaler. However, if the axis is specified then then the operation will only take place at that axis and reduce the axis to 1."
   ]
  },
  {
   "cell_type": "code",
   "execution_count": 7,
   "metadata": {},
   "outputs": [
    {
     "name": "stdout",
     "output_type": "stream",
     "text": [
      "tf.reduce_max : tf.Tensor(32, shape=(), dtype=int32)\n",
      "tf.reduce_max : tf.Tensor(4, shape=(), dtype=int32)\n",
      "tf.reduce_max : tf.Tensor(7, shape=(), dtype=int32)\n"
     ]
    }
   ],
   "source": [
    "# Reduce the shape to scaler when the axis is not mentioned\n",
    "arr=tf.Variable([[1,2,3,4],\n",
    "                 [4,5,6,7]])\n",
    "\n",
    "print('tf.reduce_max :',tf.reduce_sum(arr))\n",
    "print('tf.reduce_max :',tf.reduce_mean(arr))\n",
    "print('tf.reduce_max :',tf.reduce_max(arr))"
   ]
  },
  {
   "cell_type": "code",
   "execution_count": 9,
   "metadata": {},
   "outputs": [
    {
     "name": "stdout",
     "output_type": "stream",
     "text": [
      "tf.reduce_max : tf.Tensor([10 22], shape=(2,), dtype=int32)\n",
      "tf.reduce_max : tf.Tensor([2 5], shape=(2,), dtype=int32)\n",
      "tf.reduce_max : tf.Tensor([4 7], shape=(2,), dtype=int32)\n"
     ]
    }
   ],
   "source": [
    "# performing on axis=1(on each columns). Then the new shape is same as axis 0 \n",
    "arr=tf.Variable([[1,2,3,4],\n",
    "                 [4,5,6,7]])\n",
    "\n",
    "print('tf.reduce_max :',tf.reduce_sum(arr,axis=1))\n",
    "print('tf.reduce_max :',tf.reduce_mean(arr,axis=1))\n",
    "print('tf.reduce_max :',tf.reduce_max(arr,axis=1))"
   ]
  },
  {
   "cell_type": "code",
   "execution_count": 10,
   "metadata": {},
   "outputs": [
    {
     "name": "stdout",
     "output_type": "stream",
     "text": [
      "tf.reduce_max : tf.Tensor([ 5  7  9 11], shape=(4,), dtype=int32)\n",
      "tf.reduce_max : tf.Tensor([2 3 4 5], shape=(4,), dtype=int32)\n",
      "tf.reduce_max : tf.Tensor([4 5 6 7], shape=(4,), dtype=int32)\n"
     ]
    }
   ],
   "source": [
    "# performing on axis=0(on each row). Then the new shape is same as axis  1. \n",
    "arr=tf.Variable([[1,2,3,4],\n",
    "                 [4,5,6,7]])\n",
    "\n",
    "print('tf.reduce_max :',tf.reduce_sum(arr,axis=0))\n",
    "print('tf.reduce_max :',tf.reduce_mean(arr,axis=0))\n",
    "print('tf.reduce_max :',tf.reduce_max(arr,axis=0))"
   ]
  },
  {
   "cell_type": "code",
   "execution_count": 13,
   "metadata": {},
   "outputs": [
    {
     "name": "stdout",
     "output_type": "stream",
     "text": [
      "Original Shape : (10, 20, 35)\n",
      "tf.reduce_max (axis not definied) : ()\n",
      "tf.reduce_max axis =0: (20, 35)\n",
      "tf.reduce_max axis=1:  (10, 35)\n",
      "tf.reduce_max  axis=2:  (10, 20)\n"
     ]
    }
   ],
   "source": [
    "## performing reduce_ operation on 3 dimensional tensor\n",
    "\n",
    "arr=tf.random.normal((10,20,35))\n",
    "print('Original Shape :',arr.shape)\n",
    "print('tf.reduce_max (axis not definied) :',tf.reduce_sum(arr).shape)\n",
    "print('tf.reduce_max axis =0:',tf.reduce_mean(arr,axis=0).shape)\n",
    "print('tf.reduce_max axis=1: ',tf.reduce_max(arr,axis=1).shape)\n",
    "print('tf.reduce_max  axis=2: ',tf.reduce_max(arr,axis=2).shape)"
   ]
  },
  {
   "attachments": {},
   "cell_type": "markdown",
   "metadata": {},
   "source": [
    "*tf.equal(arr1,arr2 or scaler)*: if both arguments are array then thier shape must be equal. Check on each elements of array with the corresponding elements from another array"
   ]
  },
  {
   "cell_type": "code",
   "execution_count": 14,
   "metadata": {},
   "outputs": [
    {
     "name": "stdout",
     "output_type": "stream",
     "text": [
      "bool_arr1:  tf.Tensor([ True False False False  True False  True  True], shape=(8,), dtype=bool)\n",
      "bool_arr2:  tf.Tensor([False False False False  True False False  True], shape=(8,), dtype=bool)\n"
     ]
    }
   ],
   "source": [
    "arr1=tf.Variable([1,2,3,4,0,9,8,0])\n",
    "arr2=tf.Variable([1,12,13,44,0,89,8,0])\n",
    "bool_arr1=tf.equal(arr1,arr2)\n",
    "bool_arr2=tf.equal(arr1,0)\n",
    "\n",
    "print('bool_arr1: ',bool_arr1)\n",
    "print('bool_arr2: ',bool_arr2)"
   ]
  },
  {
   "cell_type": "code",
   "execution_count": null,
   "metadata": {},
   "outputs": [],
   "source": []
  }
 ],
 "metadata": {
  "kernelspec": {
   "display_name": "base",
   "language": "python",
   "name": "python3"
  },
  "language_info": {
   "codemirror_mode": {
    "name": "ipython",
    "version": 3
   },
   "file_extension": ".py",
   "mimetype": "text/x-python",
   "name": "python",
   "nbconvert_exporter": "python",
   "pygments_lexer": "ipython3",
   "version": "3.9.12"
  },
  "orig_nbformat": 4
 },
 "nbformat": 4,
 "nbformat_minor": 2
}
