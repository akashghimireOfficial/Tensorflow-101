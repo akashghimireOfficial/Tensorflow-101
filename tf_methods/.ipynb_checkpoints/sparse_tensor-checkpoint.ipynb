{
 "cells": [
  {
   "cell_type": "code",
   "execution_count": 1,
   "id": "9095f8d7",
   "metadata": {},
   "outputs": [],
   "source": [
    "import tensorflow as tf "
   ]
  },
  {
   "cell_type": "code",
   "execution_count": 2,
   "id": "c0a560b2",
   "metadata": {},
   "outputs": [
    {
     "name": "stdout",
     "output_type": "stream",
     "text": [
      "SparseTensor(indices=tf.Tensor(\n",
      "[[0 0]\n",
      " [1 2]], shape=(2, 2), dtype=int64), values=tf.Tensor([1 5], shape=(2,), dtype=int32), dense_shape=tf.Tensor([2 3], shape=(2,), dtype=int64))\n"
     ]
    }
   ],
   "source": [
    "\n",
    "\n",
    "# Indices of non-zero values\n",
    "indices = [[0, 0], [1, 2]]\n",
    "\n",
    "# Values of the non-zero entries corresponding to the indices above\n",
    "values = [1, 5]\n",
    "\n",
    "# Shape of the matrix\n",
    "dense_shape = [2, 3]\n",
    "\n",
    "# Creating the SparseTensor\n",
    "sparse_tensor = tf.SparseTensor(indices=indices, values=values, dense_shape=dense_shape)\n",
    "\n",
    "print(sparse_tensor)\n"
   ]
  },
  {
   "cell_type": "code",
   "execution_count": 5,
   "id": "86391244",
   "metadata": {},
   "outputs": [
    {
     "name": "stdout",
     "output_type": "stream",
     "text": [
      "tf.Tensor(\n",
      "[[1 0 0]\n",
      " [0 0 5]], shape=(2, 3), dtype=int32)\n"
     ]
    }
   ],
   "source": [
    "\n",
    "## Creating Dense Tensor from sparse tensor \n",
    "dense_tensor = tf.sparse.to_dense(sparse_tensor)\n",
    "print(dense_tensor)\n"
   ]
  },
  {
   "cell_type": "code",
   "execution_count": null,
   "id": "82158aa8",
   "metadata": {},
   "outputs": [],
   "source": []
  }
 ],
 "metadata": {
  "kernelspec": {
   "display_name": "Python 3 (ipykernel)",
   "language": "python",
   "name": "python3"
  },
  "language_info": {
   "codemirror_mode": {
    "name": "ipython",
    "version": 3
   },
   "file_extension": ".py",
   "mimetype": "text/x-python",
   "name": "python",
   "nbconvert_exporter": "python",
   "pygments_lexer": "ipython3",
   "version": "3.9.12"
  }
 },
 "nbformat": 4,
 "nbformat_minor": 5
}
