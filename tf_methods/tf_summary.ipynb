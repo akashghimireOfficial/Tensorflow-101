{
 "cells": [
  {
   "cell_type": "markdown",
   "metadata": {},
   "source": [
    "### tf.summary\n",
    "> Operations for writing summary data, for use in analysis and visualization.\n",
    "\n",
    "In this jupyter notebook we will learning these fucntion of tf.summary:\n",
    "1. tf.summary.create_file_writer()\n",
    "3. tf.summary.histogram()\n",
    "4. tf.summary.graph()\n",
    "5. tf.summary.trace_export()\n",
    "6. tf.summary.trace_on()\n",
    "7. tf.summary.trace_off()\n"
   ]
  },
  {
   "cell_type": "code",
   "execution_count": 5,
   "metadata": {},
   "outputs": [],
   "source": [
    "import tensorflow as tf \n",
    "from datetime import datetime\n",
    "%load_ext tensorboard"
   ]
  },
  {
   "cell_type": "code",
   "execution_count": 6,
   "metadata": {},
   "outputs": [],
   "source": [
    "## Defining a basic tf module\n",
    "class tfDense(tf.Module):\n",
    "    def __init__(self, out_features,name=None):\n",
    "        super().__init__(name)\n",
    "        self.out_features=out_features\n",
    "        \n",
    "        self.is_build=False\n",
    "    @tf.function    \n",
    "    def __call__(self,x):\n",
    "        if not self.is_build:\n",
    "            self.w=tf.Variable(tf.random.normal([x.shape[-1],self.out_features]),name='w')\n",
    "            self.b=tf.Variable(tf.zeros(self.out_features),name='b')\n",
    "            self.is_build=True\n",
    "        y=tf.matmul(x,self.w)+self.b\n",
    "        return tf.nn.relu(y)"
   ]
  },
  {
   "cell_type": "code",
   "execution_count": 13,
   "metadata": {},
   "outputs": [],
   "source": [
    "## Defining the model\n",
    "x=tf.constant([[1.3,2.5]])\n",
    "model=tfDense(out_features=5)"
   ]
  },
  {
   "cell_type": "markdown",
   "metadata": {},
   "source": [
    "tf.summary.create_file_writer\n",
    "> Creates a summary file writer for the given log directory\n",
    "\n",
    "**Returns a summary writer objects**"
   ]
  },
  {
   "cell_type": "code",
   "execution_count": 8,
   "metadata": {},
   "outputs": [],
   "source": [
    "# Set up logging.\n",
    "stamp = datetime.now().strftime(\"%Y%m%d-%H%M%S\")\n",
    "logdir = \"logs/func/%s\" % stamp\n",
    "writer = tf.summary.create_file_writer(logdir) ## Creates a summary file writer int his given directory"
   ]
  },
  {
   "cell_type": "markdown",
   "metadata": {},
   "source": [
    "tf.summary.trace_on()\n",
    "> start a trace to record compytation graph and profiling information\n",
    "\n",
    "Args\n",
    "1. graph: default True. If true,enables collection of  executed graphs,which also includes one from tf.function\n",
    "2. profiler: default False.  Enabling profiler implicitly enables the graph collection. The profiler may incur a high memory overhead.\n",
    "> \n"
   ]
  },
  {
   "cell_type": "code",
   "execution_count": 10,
   "metadata": {},
   "outputs": [
    {
     "name": "stderr",
     "output_type": "stream",
     "text": [
      "2022-10-10 14:56:57.457757: I tensorflow/core/profiler/lib/profiler_session.cc:101] Profiler session initializing.\n",
      "2022-10-10 14:56:57.457788: I tensorflow/core/profiler/lib/profiler_session.cc:116] Profiler session started.\n",
      "2022-10-10 14:56:57.458318: I tensorflow/core/profiler/backends/gpu/cupti_tracer.cc:1664] Profiler found 1 GPUs\n",
      "2022-10-10 14:56:57.458506: W tensorflow/stream_executor/platform/default/dso_loader.cc:64] Could not load dynamic library 'libcupti.so.11.2'; dlerror: libcupti.so.11.2: cannot open shared object file: No such file or directory; LD_LIBRARY_PATH: /opt/ros/noetic/lib:/usr/local/cuda-11.6/lib\n"
     ]
    }
   ],
   "source": [
    "tf.summary.trace_on(graph=True)\n",
    "tf.profiler.experimental.start(logdir) ## start profiling the tensorflow performance\n",
    "#A profile is a set of statistics that describes how often and for how long various parts of the program executed."
   ]
  },
  {
   "cell_type": "markdown",
   "metadata": {},
   "source": [
    "Methods of **Summary writer object** (return from tf.summary.create_file_writer)\n",
    "> ***writer*** is the Summary writer object in above function\n",
    "\n",
    "writer.**as_default(step=None)** is one of the methods of **writer** object.\n",
    "> Returns a context manager that enables summary writing.\n",
    "For convenience, if step is not None, this function also sets a default value for the step parameter used in summary-writing functions elsewhere in the API so that it need not be explicitly passed in every such invocation. The value can be a constant or a variable.\n",
    "\n",
    "\n"
   ]
  },
  {
   "cell_type": "markdown",
   "metadata": {},
   "source": [
    "### tf.summary.trace_export\n",
    "\n",
    ">stops and export the active trace as Summary and/or profile file.\n",
    "\n",
    "**Args**\n",
    "1. name : A name for the the summary to be written.\n",
    "2. step : Explicit int64-castable monotonic step value for this summary. If omitted, this defaults to tf.summary.experimental.get_step(), which must not be None.\n",
    "3. profiler_outdir : Output directory for profiler. It is required when profiler is enabled when trace was started. Otherwise, it is ignored."
   ]
  },
  {
   "cell_type": "code",
   "execution_count": 14,
   "metadata": {},
   "outputs": [
    {
     "name": "stderr",
     "output_type": "stream",
     "text": [
      "2022-10-10 15:18:45.912386: E tensorflow/stream_executor/cuda/cuda_blas.cc:218] failed to create cublas handle: cublas error\n",
      "2022-10-10 15:18:45.912422: E tensorflow/stream_executor/cuda/cuda_blas.cc:220] Failure to initialize cublas may be due to OOM (cublas needs some free memory when you initialize it, and your deep-learning framework may have preallocated more than its fair share), or may be because this binary was not built with support for the GPU in your machine.\n",
      "2022-10-10 15:18:45.912439: W tensorflow/core/framework/op_kernel.cc:1780] OP_REQUIRES failed at matmul_op_impl.h:620 : INTERNAL: Attempting to perform BLAS operation using StreamExecutor without BLAS support\n"
     ]
    },
    {
     "ename": "InternalError",
     "evalue": "Graph execution error:\n\nDetected at node 'MatMul' defined at (most recent call last):\n    File \"/home/akashghimire/anaconda3/envs/vision/lib/python3.10/runpy.py\", line 196, in _run_module_as_main\n      return _run_code(code, main_globals, None,\n    File \"/home/akashghimire/anaconda3/envs/vision/lib/python3.10/runpy.py\", line 86, in _run_code\n      exec(code, run_globals)\n    File \"/home/akashghimire/anaconda3/envs/vision/lib/python3.10/site-packages/ipykernel_launcher.py\", line 17, in <module>\n      app.launch_new_instance()\n    File \"/home/akashghimire/anaconda3/envs/vision/lib/python3.10/site-packages/traitlets/config/application.py\", line 976, in launch_instance\n      app.start()\n    File \"/home/akashghimire/anaconda3/envs/vision/lib/python3.10/site-packages/ipykernel/kernelapp.py\", line 712, in start\n      self.io_loop.start()\n    File \"/home/akashghimire/anaconda3/envs/vision/lib/python3.10/site-packages/tornado/platform/asyncio.py\", line 215, in start\n      self.asyncio_loop.run_forever()\n    File \"/home/akashghimire/anaconda3/envs/vision/lib/python3.10/asyncio/base_events.py\", line 600, in run_forever\n      self._run_once()\n    File \"/home/akashghimire/anaconda3/envs/vision/lib/python3.10/asyncio/base_events.py\", line 1896, in _run_once\n      handle._run()\n    File \"/home/akashghimire/anaconda3/envs/vision/lib/python3.10/asyncio/events.py\", line 80, in _run\n      self._context.run(self._callback, *self._args)\n    File \"/home/akashghimire/anaconda3/envs/vision/lib/python3.10/site-packages/ipykernel/kernelbase.py\", line 510, in dispatch_queue\n      await self.process_one()\n    File \"/home/akashghimire/anaconda3/envs/vision/lib/python3.10/site-packages/ipykernel/kernelbase.py\", line 499, in process_one\n      await dispatch(*args)\n    File \"/home/akashghimire/anaconda3/envs/vision/lib/python3.10/site-packages/ipykernel/kernelbase.py\", line 406, in dispatch_shell\n      await result\n    File \"/home/akashghimire/anaconda3/envs/vision/lib/python3.10/site-packages/ipykernel/kernelbase.py\", line 730, in execute_request\n      reply_content = await reply_content\n    File \"/home/akashghimire/anaconda3/envs/vision/lib/python3.10/site-packages/ipykernel/ipkernel.py\", line 383, in do_execute\n      res = shell.run_cell(\n    File \"/home/akashghimire/anaconda3/envs/vision/lib/python3.10/site-packages/ipykernel/zmqshell.py\", line 528, in run_cell\n      return super().run_cell(*args, **kwargs)\n    File \"/home/akashghimire/anaconda3/envs/vision/lib/python3.10/site-packages/IPython/core/interactiveshell.py\", line 2881, in run_cell\n      result = self._run_cell(\n    File \"/home/akashghimire/anaconda3/envs/vision/lib/python3.10/site-packages/IPython/core/interactiveshell.py\", line 2936, in _run_cell\n      return runner(coro)\n    File \"/home/akashghimire/anaconda3/envs/vision/lib/python3.10/site-packages/IPython/core/async_helpers.py\", line 129, in _pseudo_sync_runner\n      coro.send(None)\n    File \"/home/akashghimire/anaconda3/envs/vision/lib/python3.10/site-packages/IPython/core/interactiveshell.py\", line 3135, in run_cell_async\n      has_raised = await self.run_ast_nodes(code_ast.body, cell_name,\n    File \"/home/akashghimire/anaconda3/envs/vision/lib/python3.10/site-packages/IPython/core/interactiveshell.py\", line 3338, in run_ast_nodes\n      if await self.run_code(code, result, async_=asy):\n    File \"/home/akashghimire/anaconda3/envs/vision/lib/python3.10/site-packages/IPython/core/interactiveshell.py\", line 3398, in run_code\n      exec(code_obj, self.user_global_ns, self.user_ns)\n    File \"/tmp/ipykernel_290658/413332124.py\", line 1, in <cell line: 1>\n      z=print(model(x))\n    File \"/tmp/ipykernel_290658/430474406.py\", line 14, in __call__\n      y=tf.matmul(x,self.w)+self.b\nNode: 'MatMul'\nAttempting to perform BLAS operation using StreamExecutor without BLAS support\n\t [[{{node MatMul}}]] [Op:__inference___call___147]",
     "output_type": "error",
     "traceback": [
      "\u001b[0;31m---------------------------------------------------------------------------\u001b[0m",
      "\u001b[0;31mInternalError\u001b[0m                             Traceback (most recent call last)",
      "\u001b[1;32m/media/akashghimire/28E0-A271/Python Projects/tf_turtorial/tf_methods/tf_summary.ipynb Cell 11\u001b[0m in \u001b[0;36m<cell line: 1>\u001b[0;34m()\u001b[0m\n\u001b[0;32m----> <a href='vscode-notebook-cell:/media/akashghimire/28E0-A271/Python%20Projects/tf_turtorial/tf_methods/tf_summary.ipynb#X32sZmlsZQ%3D%3D?line=0'>1</a>\u001b[0m z\u001b[39m=\u001b[39m\u001b[39mprint\u001b[39m(model(x))\n\u001b[1;32m      <a href='vscode-notebook-cell:/media/akashghimire/28E0-A271/Python%20Projects/tf_turtorial/tf_methods/tf_summary.ipynb#X32sZmlsZQ%3D%3D?line=1'>2</a>\u001b[0m \u001b[39mwith\u001b[39;00m writer\u001b[39m.\u001b[39mas_default():\n\u001b[1;32m      <a href='vscode-notebook-cell:/media/akashghimire/28E0-A271/Python%20Projects/tf_turtorial/tf_methods/tf_summary.ipynb#X32sZmlsZQ%3D%3D?line=2'>3</a>\u001b[0m     tf\u001b[39m.\u001b[39msummary\u001b[39m.\u001b[39mtrace_export(name\u001b[39m=\u001b[39m\u001b[39m'\u001b[39m\u001b[39mDense_trace\u001b[39m\u001b[39m'\u001b[39m,\n\u001b[1;32m      <a href='vscode-notebook-cell:/media/akashghimire/28E0-A271/Python%20Projects/tf_turtorial/tf_methods/tf_summary.ipynb#X32sZmlsZQ%3D%3D?line=3'>4</a>\u001b[0m     step\u001b[39m=\u001b[39m\u001b[39m0\u001b[39m,\n\u001b[1;32m      <a href='vscode-notebook-cell:/media/akashghimire/28E0-A271/Python%20Projects/tf_turtorial/tf_methods/tf_summary.ipynb#X32sZmlsZQ%3D%3D?line=4'>5</a>\u001b[0m     profiler_outdir\u001b[39m=\u001b[39mlogdir)\n",
      "File \u001b[0;32m~/anaconda3/envs/vision/lib/python3.10/site-packages/tensorflow/python/util/traceback_utils.py:153\u001b[0m, in \u001b[0;36mfilter_traceback.<locals>.error_handler\u001b[0;34m(*args, **kwargs)\u001b[0m\n\u001b[1;32m    151\u001b[0m \u001b[39mexcept\u001b[39;00m \u001b[39mException\u001b[39;00m \u001b[39mas\u001b[39;00m e:\n\u001b[1;32m    152\u001b[0m   filtered_tb \u001b[39m=\u001b[39m _process_traceback_frames(e\u001b[39m.\u001b[39m__traceback__)\n\u001b[0;32m--> 153\u001b[0m   \u001b[39mraise\u001b[39;00m e\u001b[39m.\u001b[39mwith_traceback(filtered_tb) \u001b[39mfrom\u001b[39;00m \u001b[39mNone\u001b[39m\n\u001b[1;32m    154\u001b[0m \u001b[39mfinally\u001b[39;00m:\n\u001b[1;32m    155\u001b[0m   \u001b[39mdel\u001b[39;00m filtered_tb\n",
      "File \u001b[0;32m~/anaconda3/envs/vision/lib/python3.10/site-packages/tensorflow/python/eager/execute.py:54\u001b[0m, in \u001b[0;36mquick_execute\u001b[0;34m(op_name, num_outputs, inputs, attrs, ctx, name)\u001b[0m\n\u001b[1;32m     52\u001b[0m \u001b[39mtry\u001b[39;00m:\n\u001b[1;32m     53\u001b[0m   ctx\u001b[39m.\u001b[39mensure_initialized()\n\u001b[0;32m---> 54\u001b[0m   tensors \u001b[39m=\u001b[39m pywrap_tfe\u001b[39m.\u001b[39mTFE_Py_Execute(ctx\u001b[39m.\u001b[39m_handle, device_name, op_name,\n\u001b[1;32m     55\u001b[0m                                       inputs, attrs, num_outputs)\n\u001b[1;32m     56\u001b[0m \u001b[39mexcept\u001b[39;00m core\u001b[39m.\u001b[39m_NotOkStatusException \u001b[39mas\u001b[39;00m e:\n\u001b[1;32m     57\u001b[0m   \u001b[39mif\u001b[39;00m name \u001b[39mis\u001b[39;00m \u001b[39mnot\u001b[39;00m \u001b[39mNone\u001b[39;00m:\n",
      "\u001b[0;31mInternalError\u001b[0m: Graph execution error:\n\nDetected at node 'MatMul' defined at (most recent call last):\n    File \"/home/akashghimire/anaconda3/envs/vision/lib/python3.10/runpy.py\", line 196, in _run_module_as_main\n      return _run_code(code, main_globals, None,\n    File \"/home/akashghimire/anaconda3/envs/vision/lib/python3.10/runpy.py\", line 86, in _run_code\n      exec(code, run_globals)\n    File \"/home/akashghimire/anaconda3/envs/vision/lib/python3.10/site-packages/ipykernel_launcher.py\", line 17, in <module>\n      app.launch_new_instance()\n    File \"/home/akashghimire/anaconda3/envs/vision/lib/python3.10/site-packages/traitlets/config/application.py\", line 976, in launch_instance\n      app.start()\n    File \"/home/akashghimire/anaconda3/envs/vision/lib/python3.10/site-packages/ipykernel/kernelapp.py\", line 712, in start\n      self.io_loop.start()\n    File \"/home/akashghimire/anaconda3/envs/vision/lib/python3.10/site-packages/tornado/platform/asyncio.py\", line 215, in start\n      self.asyncio_loop.run_forever()\n    File \"/home/akashghimire/anaconda3/envs/vision/lib/python3.10/asyncio/base_events.py\", line 600, in run_forever\n      self._run_once()\n    File \"/home/akashghimire/anaconda3/envs/vision/lib/python3.10/asyncio/base_events.py\", line 1896, in _run_once\n      handle._run()\n    File \"/home/akashghimire/anaconda3/envs/vision/lib/python3.10/asyncio/events.py\", line 80, in _run\n      self._context.run(self._callback, *self._args)\n    File \"/home/akashghimire/anaconda3/envs/vision/lib/python3.10/site-packages/ipykernel/kernelbase.py\", line 510, in dispatch_queue\n      await self.process_one()\n    File \"/home/akashghimire/anaconda3/envs/vision/lib/python3.10/site-packages/ipykernel/kernelbase.py\", line 499, in process_one\n      await dispatch(*args)\n    File \"/home/akashghimire/anaconda3/envs/vision/lib/python3.10/site-packages/ipykernel/kernelbase.py\", line 406, in dispatch_shell\n      await result\n    File \"/home/akashghimire/anaconda3/envs/vision/lib/python3.10/site-packages/ipykernel/kernelbase.py\", line 730, in execute_request\n      reply_content = await reply_content\n    File \"/home/akashghimire/anaconda3/envs/vision/lib/python3.10/site-packages/ipykernel/ipkernel.py\", line 383, in do_execute\n      res = shell.run_cell(\n    File \"/home/akashghimire/anaconda3/envs/vision/lib/python3.10/site-packages/ipykernel/zmqshell.py\", line 528, in run_cell\n      return super().run_cell(*args, **kwargs)\n    File \"/home/akashghimire/anaconda3/envs/vision/lib/python3.10/site-packages/IPython/core/interactiveshell.py\", line 2881, in run_cell\n      result = self._run_cell(\n    File \"/home/akashghimire/anaconda3/envs/vision/lib/python3.10/site-packages/IPython/core/interactiveshell.py\", line 2936, in _run_cell\n      return runner(coro)\n    File \"/home/akashghimire/anaconda3/envs/vision/lib/python3.10/site-packages/IPython/core/async_helpers.py\", line 129, in _pseudo_sync_runner\n      coro.send(None)\n    File \"/home/akashghimire/anaconda3/envs/vision/lib/python3.10/site-packages/IPython/core/interactiveshell.py\", line 3135, in run_cell_async\n      has_raised = await self.run_ast_nodes(code_ast.body, cell_name,\n    File \"/home/akashghimire/anaconda3/envs/vision/lib/python3.10/site-packages/IPython/core/interactiveshell.py\", line 3338, in run_ast_nodes\n      if await self.run_code(code, result, async_=asy):\n    File \"/home/akashghimire/anaconda3/envs/vision/lib/python3.10/site-packages/IPython/core/interactiveshell.py\", line 3398, in run_code\n      exec(code_obj, self.user_global_ns, self.user_ns)\n    File \"/tmp/ipykernel_290658/413332124.py\", line 1, in <cell line: 1>\n      z=print(model(x))\n    File \"/tmp/ipykernel_290658/430474406.py\", line 14, in __call__\n      y=tf.matmul(x,self.w)+self.b\nNode: 'MatMul'\nAttempting to perform BLAS operation using StreamExecutor without BLAS support\n\t [[{{node MatMul}}]] [Op:__inference___call___147]"
     ]
    }
   ],
   "source": [
    "z=print(model(x))\n",
    "with writer.as_default():\n",
    "    tf.summary.trace_export(name='Dense_trace',\n",
    "    step=0,\n",
    "    profiler_outdir=logdir)"
   ]
  },
  {
   "cell_type": "code",
   "execution_count": 16,
   "metadata": {},
   "outputs": [
    {
     "name": "stderr",
     "output_type": "stream",
     "text": [
      "2022-10-10 15:22:00.905243: E tensorflow/stream_executor/cuda/cuda_blas.cc:218] failed to create cublas handle: cublas error\n",
      "2022-10-10 15:22:00.905281: E tensorflow/stream_executor/cuda/cuda_blas.cc:220] Failure to initialize cublas may be due to OOM (cublas needs some free memory when you initialize it, and your deep-learning framework may have preallocated more than its fair share), or may be because this binary was not built with support for the GPU in your machine.\n",
      "2022-10-10 15:22:00.905298: W tensorflow/core/framework/op_kernel.cc:1780] OP_REQUIRES failed at matmul_op_impl.h:620 : INTERNAL: Attempting to perform BLAS operation using StreamExecutor without BLAS support\n"
     ]
    },
    {
     "ename": "InternalError",
     "evalue": "Graph execution error:\n\nDetected at node 'MatMul' defined at (most recent call last):\n    File \"/home/akashghimire/anaconda3/envs/vision/lib/python3.10/runpy.py\", line 196, in _run_module_as_main\n      return _run_code(code, main_globals, None,\n    File \"/home/akashghimire/anaconda3/envs/vision/lib/python3.10/runpy.py\", line 86, in _run_code\n      exec(code, run_globals)\n    File \"/home/akashghimire/anaconda3/envs/vision/lib/python3.10/site-packages/ipykernel_launcher.py\", line 17, in <module>\n      app.launch_new_instance()\n    File \"/home/akashghimire/anaconda3/envs/vision/lib/python3.10/site-packages/traitlets/config/application.py\", line 976, in launch_instance\n      app.start()\n    File \"/home/akashghimire/anaconda3/envs/vision/lib/python3.10/site-packages/ipykernel/kernelapp.py\", line 712, in start\n      self.io_loop.start()\n    File \"/home/akashghimire/anaconda3/envs/vision/lib/python3.10/site-packages/tornado/platform/asyncio.py\", line 215, in start\n      self.asyncio_loop.run_forever()\n    File \"/home/akashghimire/anaconda3/envs/vision/lib/python3.10/asyncio/base_events.py\", line 600, in run_forever\n      self._run_once()\n    File \"/home/akashghimire/anaconda3/envs/vision/lib/python3.10/asyncio/base_events.py\", line 1896, in _run_once\n      handle._run()\n    File \"/home/akashghimire/anaconda3/envs/vision/lib/python3.10/asyncio/events.py\", line 80, in _run\n      self._context.run(self._callback, *self._args)\n    File \"/home/akashghimire/anaconda3/envs/vision/lib/python3.10/site-packages/ipykernel/kernelbase.py\", line 510, in dispatch_queue\n      await self.process_one()\n    File \"/home/akashghimire/anaconda3/envs/vision/lib/python3.10/site-packages/ipykernel/kernelbase.py\", line 499, in process_one\n      await dispatch(*args)\n    File \"/home/akashghimire/anaconda3/envs/vision/lib/python3.10/site-packages/ipykernel/kernelbase.py\", line 406, in dispatch_shell\n      await result\n    File \"/home/akashghimire/anaconda3/envs/vision/lib/python3.10/site-packages/ipykernel/kernelbase.py\", line 730, in execute_request\n      reply_content = await reply_content\n    File \"/home/akashghimire/anaconda3/envs/vision/lib/python3.10/site-packages/ipykernel/ipkernel.py\", line 383, in do_execute\n      res = shell.run_cell(\n    File \"/home/akashghimire/anaconda3/envs/vision/lib/python3.10/site-packages/ipykernel/zmqshell.py\", line 528, in run_cell\n      return super().run_cell(*args, **kwargs)\n    File \"/home/akashghimire/anaconda3/envs/vision/lib/python3.10/site-packages/IPython/core/interactiveshell.py\", line 2881, in run_cell\n      result = self._run_cell(\n    File \"/home/akashghimire/anaconda3/envs/vision/lib/python3.10/site-packages/IPython/core/interactiveshell.py\", line 2936, in _run_cell\n      return runner(coro)\n    File \"/home/akashghimire/anaconda3/envs/vision/lib/python3.10/site-packages/IPython/core/async_helpers.py\", line 129, in _pseudo_sync_runner\n      coro.send(None)\n    File \"/home/akashghimire/anaconda3/envs/vision/lib/python3.10/site-packages/IPython/core/interactiveshell.py\", line 3135, in run_cell_async\n      has_raised = await self.run_ast_nodes(code_ast.body, cell_name,\n    File \"/home/akashghimire/anaconda3/envs/vision/lib/python3.10/site-packages/IPython/core/interactiveshell.py\", line 3338, in run_ast_nodes\n      if await self.run_code(code, result, async_=asy):\n    File \"/home/akashghimire/anaconda3/envs/vision/lib/python3.10/site-packages/IPython/core/interactiveshell.py\", line 3398, in run_code\n      exec(code_obj, self.user_global_ns, self.user_ns)\n    File \"/tmp/ipykernel_290658/413332124.py\", line 1, in <cell line: 1>\n      z=print(model(x))\n    File \"/tmp/ipykernel_290658/430474406.py\", line 14, in __call__\n      y=tf.matmul(x,self.w)+self.b\nNode: 'MatMul'\nAttempting to perform BLAS operation using StreamExecutor without BLAS support\n\t [[{{node MatMul}}]] [Op:__inference___call___147]",
     "output_type": "error",
     "traceback": [
      "\u001b[0;31m---------------------------------------------------------------------------\u001b[0m",
      "\u001b[0;31mInternalError\u001b[0m                             Traceback (most recent call last)",
      "\u001b[1;32m/media/akashghimire/28E0-A271/Python Projects/tf_turtorial/tf_methods/tf_summary.ipynb Cell 12\u001b[0m in \u001b[0;36m<cell line: 1>\u001b[0;34m()\u001b[0m\n\u001b[0;32m----> <a href='vscode-notebook-cell:/media/akashghimire/28E0-A271/Python%20Projects/tf_turtorial/tf_methods/tf_summary.ipynb#X35sZmlsZQ%3D%3D?line=0'>1</a>\u001b[0m z\u001b[39m=\u001b[39mmodel(x)\n",
      "File \u001b[0;32m~/anaconda3/envs/vision/lib/python3.10/site-packages/tensorflow/python/util/traceback_utils.py:153\u001b[0m, in \u001b[0;36mfilter_traceback.<locals>.error_handler\u001b[0;34m(*args, **kwargs)\u001b[0m\n\u001b[1;32m    151\u001b[0m \u001b[39mexcept\u001b[39;00m \u001b[39mException\u001b[39;00m \u001b[39mas\u001b[39;00m e:\n\u001b[1;32m    152\u001b[0m   filtered_tb \u001b[39m=\u001b[39m _process_traceback_frames(e\u001b[39m.\u001b[39m__traceback__)\n\u001b[0;32m--> 153\u001b[0m   \u001b[39mraise\u001b[39;00m e\u001b[39m.\u001b[39mwith_traceback(filtered_tb) \u001b[39mfrom\u001b[39;00m \u001b[39mNone\u001b[39m\n\u001b[1;32m    154\u001b[0m \u001b[39mfinally\u001b[39;00m:\n\u001b[1;32m    155\u001b[0m   \u001b[39mdel\u001b[39;00m filtered_tb\n",
      "File \u001b[0;32m~/anaconda3/envs/vision/lib/python3.10/site-packages/tensorflow/python/eager/execute.py:54\u001b[0m, in \u001b[0;36mquick_execute\u001b[0;34m(op_name, num_outputs, inputs, attrs, ctx, name)\u001b[0m\n\u001b[1;32m     52\u001b[0m \u001b[39mtry\u001b[39;00m:\n\u001b[1;32m     53\u001b[0m   ctx\u001b[39m.\u001b[39mensure_initialized()\n\u001b[0;32m---> 54\u001b[0m   tensors \u001b[39m=\u001b[39m pywrap_tfe\u001b[39m.\u001b[39mTFE_Py_Execute(ctx\u001b[39m.\u001b[39m_handle, device_name, op_name,\n\u001b[1;32m     55\u001b[0m                                       inputs, attrs, num_outputs)\n\u001b[1;32m     56\u001b[0m \u001b[39mexcept\u001b[39;00m core\u001b[39m.\u001b[39m_NotOkStatusException \u001b[39mas\u001b[39;00m e:\n\u001b[1;32m     57\u001b[0m   \u001b[39mif\u001b[39;00m name \u001b[39mis\u001b[39;00m \u001b[39mnot\u001b[39;00m \u001b[39mNone\u001b[39;00m:\n",
      "\u001b[0;31mInternalError\u001b[0m: Graph execution error:\n\nDetected at node 'MatMul' defined at (most recent call last):\n    File \"/home/akashghimire/anaconda3/envs/vision/lib/python3.10/runpy.py\", line 196, in _run_module_as_main\n      return _run_code(code, main_globals, None,\n    File \"/home/akashghimire/anaconda3/envs/vision/lib/python3.10/runpy.py\", line 86, in _run_code\n      exec(code, run_globals)\n    File \"/home/akashghimire/anaconda3/envs/vision/lib/python3.10/site-packages/ipykernel_launcher.py\", line 17, in <module>\n      app.launch_new_instance()\n    File \"/home/akashghimire/anaconda3/envs/vision/lib/python3.10/site-packages/traitlets/config/application.py\", line 976, in launch_instance\n      app.start()\n    File \"/home/akashghimire/anaconda3/envs/vision/lib/python3.10/site-packages/ipykernel/kernelapp.py\", line 712, in start\n      self.io_loop.start()\n    File \"/home/akashghimire/anaconda3/envs/vision/lib/python3.10/site-packages/tornado/platform/asyncio.py\", line 215, in start\n      self.asyncio_loop.run_forever()\n    File \"/home/akashghimire/anaconda3/envs/vision/lib/python3.10/asyncio/base_events.py\", line 600, in run_forever\n      self._run_once()\n    File \"/home/akashghimire/anaconda3/envs/vision/lib/python3.10/asyncio/base_events.py\", line 1896, in _run_once\n      handle._run()\n    File \"/home/akashghimire/anaconda3/envs/vision/lib/python3.10/asyncio/events.py\", line 80, in _run\n      self._context.run(self._callback, *self._args)\n    File \"/home/akashghimire/anaconda3/envs/vision/lib/python3.10/site-packages/ipykernel/kernelbase.py\", line 510, in dispatch_queue\n      await self.process_one()\n    File \"/home/akashghimire/anaconda3/envs/vision/lib/python3.10/site-packages/ipykernel/kernelbase.py\", line 499, in process_one\n      await dispatch(*args)\n    File \"/home/akashghimire/anaconda3/envs/vision/lib/python3.10/site-packages/ipykernel/kernelbase.py\", line 406, in dispatch_shell\n      await result\n    File \"/home/akashghimire/anaconda3/envs/vision/lib/python3.10/site-packages/ipykernel/kernelbase.py\", line 730, in execute_request\n      reply_content = await reply_content\n    File \"/home/akashghimire/anaconda3/envs/vision/lib/python3.10/site-packages/ipykernel/ipkernel.py\", line 383, in do_execute\n      res = shell.run_cell(\n    File \"/home/akashghimire/anaconda3/envs/vision/lib/python3.10/site-packages/ipykernel/zmqshell.py\", line 528, in run_cell\n      return super().run_cell(*args, **kwargs)\n    File \"/home/akashghimire/anaconda3/envs/vision/lib/python3.10/site-packages/IPython/core/interactiveshell.py\", line 2881, in run_cell\n      result = self._run_cell(\n    File \"/home/akashghimire/anaconda3/envs/vision/lib/python3.10/site-packages/IPython/core/interactiveshell.py\", line 2936, in _run_cell\n      return runner(coro)\n    File \"/home/akashghimire/anaconda3/envs/vision/lib/python3.10/site-packages/IPython/core/async_helpers.py\", line 129, in _pseudo_sync_runner\n      coro.send(None)\n    File \"/home/akashghimire/anaconda3/envs/vision/lib/python3.10/site-packages/IPython/core/interactiveshell.py\", line 3135, in run_cell_async\n      has_raised = await self.run_ast_nodes(code_ast.body, cell_name,\n    File \"/home/akashghimire/anaconda3/envs/vision/lib/python3.10/site-packages/IPython/core/interactiveshell.py\", line 3338, in run_ast_nodes\n      if await self.run_code(code, result, async_=asy):\n    File \"/home/akashghimire/anaconda3/envs/vision/lib/python3.10/site-packages/IPython/core/interactiveshell.py\", line 3398, in run_code\n      exec(code_obj, self.user_global_ns, self.user_ns)\n    File \"/tmp/ipykernel_290658/413332124.py\", line 1, in <cell line: 1>\n      z=print(model(x))\n    File \"/tmp/ipykernel_290658/430474406.py\", line 14, in __call__\n      y=tf.matmul(x,self.w)+self.b\nNode: 'MatMul'\nAttempting to perform BLAS operation using StreamExecutor without BLAS support\n\t [[{{node MatMul}}]] [Op:__inference___call___147]"
     ]
    }
   ],
   "source": [
    "z=model(x)"
   ]
  },
  {
   "cell_type": "code",
   "execution_count": null,
   "metadata": {},
   "outputs": [],
   "source": []
  }
 ],
 "metadata": {
  "kernelspec": {
   "display_name": "Python 3.10.4 ('vision')",
   "language": "python",
   "name": "python3"
  },
  "language_info": {
   "codemirror_mode": {
    "name": "ipython",
    "version": 3
   },
   "file_extension": ".py",
   "mimetype": "text/x-python",
   "name": "python",
   "nbconvert_exporter": "python",
   "pygments_lexer": "ipython3",
   "version": "3.10.4"
  },
  "orig_nbformat": 4,
  "vscode": {
   "interpreter": {
    "hash": "c93af7433719cf61beb232a937287b5f6ac44c5a03632b389ba7312dbdbeed85"
   }
  }
 },
 "nbformat": 4,
 "nbformat_minor": 2
}
