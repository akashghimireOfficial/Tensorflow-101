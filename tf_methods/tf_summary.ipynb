{
 "cells": [
  {
   "cell_type": "markdown",
   "metadata": {},
   "source": [
    "### tf.summary\n",
    "> Operations for writing summary data, for use in analysis and visualization.\n",
    "\n",
    "In this jupyter notebook we will learning these fucntion of tf.summary:\n",
    "1. tf.summary.create_file_writer()\n",
    "3. tf.summary.histogram()\n",
    "4. tf.summary.graph()\n",
    "5. tf.summary.trace_export()\n",
    "6. tf.summary.trace_on()\n",
    "7. tf.summary.trace_off()\n"
   ]
  },
  {
   "cell_type": "code",
   "execution_count": 5,
   "metadata": {},
   "outputs": [],
   "source": [
    "import tensorflow as tf \n",
    "from datetime import datetime\n",
    "%load_ext tensorboard"
   ]
  },
  {
   "cell_type": "code",
   "execution_count": 6,
   "metadata": {},
   "outputs": [],
   "source": [
    "## Defining a basic tf module\n",
    "class tfDense(tf.Module):\n",
    "    def __init__(self, out_features,name=None):\n",
    "        super().__init__(name)\n",
    "        self.out_features=out_features\n",
    "        \n",
    "        self.is_build=False\n",
    "    @tf.function    \n",
    "    def __call__(self,x):\n",
    "        if not self.is_build:\n",
    "            self.w=tf.Variable(tf.random.normal([x.shape[-1],self.out_features]),name='w')\n",
    "            self.b=tf.Variable(tf.zeros(self.out_features),name='b')\n",
    "            self.is_build=True\n",
    "        y=tf.matmul(x,self.w)+self.b\n",
    "        return tf.nn.relu(y)"
   ]
  },
  {
   "cell_type": "code",
   "execution_count": 13,
   "metadata": {},
   "outputs": [],
   "source": [
    "## Defining the model\n",
    "x=tf.constant([[1.3,2.5]])\n",
    "model=tfDense(out_features=5)"
   ]
  },
  {
   "cell_type": "markdown",
   "metadata": {},
   "source": [
    "tf.summary.create_file_writer\n",
    "> Creates a summary file writer for the given log directory\n",
    "\n",
    "**Returns a summary writer objects**"
   ]
  },
  {
   "cell_type": "code",
   "execution_count": 8,
   "metadata": {},
   "outputs": [],
   "source": [
    "# Set up logging.\n",
    "stamp = datetime.now().strftime(\"%Y%m%d-%H%M%S\")\n",
    "logdir = \"logs/func/%s\" % stamp\n",
    "writer = tf.summary.create_file_writer(logdir) ## Creates a summary file writer int his given directory"
   ]
  },
  {
   "cell_type": "markdown",
   "metadata": {},
   "source": [
    "tf.summary.trace_on()\n",
    "> start a trace to record compytation graph and profiling information\n",
    "\n",
    "Args\n",
    "1. graph: default True. If true,enables collection of  executed graphs,which also includes one from tf.function\n",
    "2. profiler: default False.  Enabling profiler implicitly enables the graph collection. The profiler may incur a high memory overhead.\n",
    "> \n"
   ]
  },
  {
   "cell_type": "code",
   "execution_count": 10,
   "metadata": {},
   "outputs": [
    {
     "name": "stderr",
     "output_type": "stream",
     "text": [
      "2022-10-10 14:56:57.457757: I tensorflow/core/profiler/lib/profiler_session.cc:101] Profiler session initializing.\n",
      "2022-10-10 14:56:57.457788: I tensorflow/core/profiler/lib/profiler_session.cc:116] Profiler session started.\n",
      "2022-10-10 14:56:57.458318: I tensorflow/core/profiler/backends/gpu/cupti_tracer.cc:1664] Profiler found 1 GPUs\n",
      "2022-10-10 14:56:57.458506: W tensorflow/stream_executor/platform/default/dso_loader.cc:64] Could not load dynamic library 'libcupti.so.11.2'; dlerror: libcupti.so.11.2: cannot open shared object file: No such file or directory; LD_LIBRARY_PATH: /opt/ros/noetic/lib:/usr/local/cuda-11.6/lib\n"
     ]
    }
   ],
   "source": [
    "tf.summary.trace_on(graph=True)\n",
    "tf.profiler.experimental.start(logdir) ## start profiling the tensorflow performance\n",
    "#A profile is a set of statistics that describes how often and for how long various parts of the program executed."
   ]
  },
  {
   "cell_type": "markdown",
   "metadata": {},
   "source": [
    "Methods of **Summary writer object** (return from tf.summary.create_file_writer)\n",
    "> ***writer*** is the Summary writer object in above function\n",
    "\n",
    "writer.**as_default(step=None)** is one of the methods of **writer** object.\n",
    "> Returns a context manager that enables summary writing.\n",
    "For convenience, if step is not None, this function also sets a default value for the step parameter used in summary-writing functions elsewhere in the API so that it need not be explicitly passed in every such invocation. The value can be a constant or a variable.\n",
    "\n",
    "\n"
   ]
  },
  {
   "cell_type": "markdown",
   "metadata": {},
   "source": [
    "### tf.summary.trace_export\n",
    "\n",
    ">stops and export the active trace as Summary and/or profile file.\n",
    "\n",
    "**Args**\n",
    "1. name : A name for the the summary to be written.\n",
    "2. step : Explicit int64-castable monotonic step value for this summary. If omitted, this defaults to tf.summary.experimental.get_step(), which must not be None.\n",
    "3. profiler_outdir : Output directory for profiler. It is required when profiler is enabled when trace was started. Otherwise, it is ignored."
   ]
  },
  {
   "cell_type": "code",
   "execution_count": null,
   "metadata": {},
   "outputs": [],
   "source": []
  }
 ],
 "metadata": {
  "kernelspec": {
   "display_name": "Python 3.10.4 ('vision')",
   "language": "python",
   "name": "python3"
  },
  "language_info": {
   "codemirror_mode": {
    "name": "ipython",
    "version": 3
   },
   "file_extension": ".py",
   "mimetype": "text/x-python",
   "name": "python",
   "nbconvert_exporter": "python",
   "pygments_lexer": "ipython3",
   "version": "3.10.4"
  },
  "orig_nbformat": 4,
  "vscode": {
   "interpreter": {
    "hash": "c93af7433719cf61beb232a937287b5f6ac44c5a03632b389ba7312dbdbeed85"
   }
  }
 },
 "nbformat": 4,
 "nbformat_minor": 2
}
