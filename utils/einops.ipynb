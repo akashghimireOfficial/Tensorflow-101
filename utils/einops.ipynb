{
 "cells": [
  {
   "cell_type": "markdown",
   "id": "ea55c838",
   "metadata": {},
   "source": [
    "The utils(libraby) used in this notebook is not `tf utils` or `tf operators` or `tf methods` itself. However, learning these utils are crucial in differernt purpose such as:\n",
    "- creating training pipeline\n",
    "- Preprocessing \n"
   ]
  },
  {
   "cell_type": "code",
   "execution_count": 1,
   "id": "e666d2e8",
   "metadata": {},
   "outputs": [],
   "source": [
    "import tensorflow as tf \n"
   ]
  },
  {
   "cell_type": "markdown",
   "id": "8efbe45e",
   "metadata": {},
   "source": [
    "# eipons\n",
    "We will learn about this librarby first. Eions makes the process such as Reshape, Permute,Squeeze, Unsqueeze easier"
   ]
  },
  {
   "cell_type": "code",
   "execution_count": 19,
   "id": "2c310321",
   "metadata": {},
   "outputs": [],
   "source": [
    "import einops\n",
    "from einops import repeat"
   ]
  },
  {
   "cell_type": "code",
   "execution_count": 8,
   "id": "803cfefa",
   "metadata": {},
   "outputs": [
    {
     "name": "stdout",
     "output_type": "stream",
     "text": [
      "(100, 256, 512, 3)\n"
     ]
    }
   ],
   "source": [
    "\n",
    "\n",
    "batch_size=100\n",
    "h=256\n",
    "w=512\n",
    "c=3\n",
    "img=tf.random.normal(shape=(batch_size,h,w,c))\n",
    "print(img.shape)"
   ]
  },
  {
   "cell_type": "code",
   "execution_count": 7,
   "id": "19b8b88f",
   "metadata": {},
   "outputs": [],
   "source": [
    "## Permuation with tf permutation"
   ]
  },
  {
   "cell_type": "code",
   "execution_count": 10,
   "id": "5018388a",
   "metadata": {},
   "outputs": [
    {
     "data": {
      "text/plain": [
       "TensorShape([100, 3, 512, 256])"
      ]
     },
     "execution_count": 10,
     "metadata": {},
     "output_type": "execute_result"
    }
   ],
   "source": [
    "# i want to change to b,c,w,h -->0,3,2,1\n",
    "perm_with_tf=tf.transpose(img,perm=[0,3,2,1]) ## not very readable\n",
    "perm_with_tf.shape\n"
   ]
  },
  {
   "cell_type": "code",
   "execution_count": 25,
   "id": "955b0a76",
   "metadata": {},
   "outputs": [
    {
     "name": "stdout",
     "output_type": "stream",
     "text": [
      "(100, 3, 512, 256)\n"
     ]
    }
   ],
   "source": [
    "## with einops\n",
    "perm_with_ein=einops.rearrange(img,'b h w c->b c w h') ## Readable and easier to debug and use\n",
    "## We could have use any variable\n",
    "print(perm_with_ein.shape)"
   ]
  },
  {
   "cell_type": "code",
   "execution_count": 17,
   "id": "76a5f7ab",
   "metadata": {},
   "outputs": [
    {
     "data": {
      "text/plain": [
       "True"
      ]
     },
     "execution_count": 17,
     "metadata": {},
     "output_type": "execute_result"
    }
   ],
   "source": [
    "type(perm_with_ein) == type(perm_with_tf) ## Does not change type "
   ]
  },
  {
   "cell_type": "code",
   "execution_count": 29,
   "id": "e27ac27b",
   "metadata": {},
   "outputs": [],
   "source": [
    "## Expanding dimesnion\n",
    "## Expanding dimension is pretty straighforward with even tensorflow \n",
    "\n",
    "var2=tf.random.normal(shape=(4,))\n",
    "\n",
    "exp_with_ein=repeat(var2, 'b -> b c', c=2)## repated in column wise==> (4,2)"
   ]
  },
  {
   "cell_type": "code",
   "execution_count": 30,
   "id": "f1c5fe59",
   "metadata": {},
   "outputs": [
    {
     "data": {
      "text/plain": [
       "<tf.Tensor: shape=(4,), dtype=float32, numpy=array([ 1.3916109 ,  0.34268093, -0.35677946, -0.44636196], dtype=float32)>"
      ]
     },
     "execution_count": 30,
     "metadata": {},
     "output_type": "execute_result"
    }
   ],
   "source": [
    "var2"
   ]
  },
  {
   "cell_type": "code",
   "execution_count": 31,
   "id": "6561e919",
   "metadata": {},
   "outputs": [
    {
     "data": {
      "text/plain": [
       "<tf.Tensor: shape=(4, 2), dtype=float32, numpy=\n",
       "array([[ 1.3916109 ,  1.3916109 ],\n",
       "       [ 0.34268093,  0.34268093],\n",
       "       [-0.35677946, -0.35677946],\n",
       "       [-0.44636196, -0.44636196]], dtype=float32)>"
      ]
     },
     "execution_count": 31,
     "metadata": {},
     "output_type": "execute_result"
    }
   ],
   "source": [
    "exp_with_ein"
   ]
  },
  {
   "cell_type": "code",
   "execution_count": 33,
   "id": "751dbfb7",
   "metadata": {},
   "outputs": [
    {
     "name": "stdout",
     "output_type": "stream",
     "text": [
      "(2, 4)\n"
     ]
    }
   ],
   "source": [
    "\n",
    "var2 = tf.random.normal(shape=(4,))\n",
    "exp_with_ein = repeat(var2, 'b -> c b', c=2) ## shape is c b (2 4 )\n",
    "\n",
    "print(exp_with_ein.shape)  # Output: (8,)"
   ]
  },
  {
   "cell_type": "code",
   "execution_count": 35,
   "id": "d20a021a",
   "metadata": {},
   "outputs": [
    {
     "data": {
      "text/plain": [
       "TensorShape([64, 512, 256, 1])"
      ]
     },
     "execution_count": 35,
     "metadata": {},
     "output_type": "execute_result"
    }
   ],
   "source": [
    "## Repeat can be useful in created RGB(3d channel image from 1d)\n",
    "b,h,w,c=64,512,256,1\n",
    "var3=tf.random.normal(shape=(b,h,w,c))\n",
    "var3.shape"
   ]
  },
  {
   "cell_type": "code",
   "execution_count": 52,
   "id": "81e0cc39",
   "metadata": {},
   "outputs": [],
   "source": [
    "## now we want to repeat each image in 3D (concaneting)"
   ]
  },
  {
   "cell_type": "code",
   "execution_count": 44,
   "id": "54e5ad3a",
   "metadata": {},
   "outputs": [],
   "source": [
    "## now we want to repeat each image in 3D\n",
    "rep_var=repeat(var3, 'b h w c -> b h w (c d)',d=3)"
   ]
  },
  {
   "cell_type": "code",
   "execution_count": 45,
   "id": "c02ea203",
   "metadata": {},
   "outputs": [
    {
     "data": {
      "text/plain": [
       "TensorShape([64, 512, 256, 3])"
      ]
     },
     "execution_count": 45,
     "metadata": {},
     "output_type": "execute_result"
    }
   ],
   "source": [
    "rep_var.shape"
   ]
  },
  {
   "cell_type": "code",
   "execution_count": 51,
   "id": "bfddc8c2",
   "metadata": {
    "scrolled": true
   },
   "outputs": [],
   "source": [
    "#rep_var[:,:,::,0]==rep_var[:,:,::,1]\n",
    "# You can check if the channels were repeaterd or not"
   ]
  },
  {
   "cell_type": "code",
   "execution_count": 49,
   "id": "f56ec944",
   "metadata": {},
   "outputs": [],
   "source": [
    "result = tf.reduce_all(rep_var[:, :, :, 0] == rep_var[:, :, :, 1])"
   ]
  },
  {
   "cell_type": "code",
   "execution_count": 54,
   "id": "bf1a5216",
   "metadata": {},
   "outputs": [],
   "source": [
    "\n",
    "rep_tf_var=tf.concat([var3,var3,var3],axis=3)"
   ]
  },
  {
   "cell_type": "code",
   "execution_count": 56,
   "id": "c7ef56a7",
   "metadata": {},
   "outputs": [
    {
     "data": {
      "text/plain": [
       "<tf.Tensor: shape=(64, 512, 256), dtype=bool, numpy=\n",
       "array([[[ True,  True,  True, ...,  True,  True,  True],\n",
       "        [ True,  True,  True, ...,  True,  True,  True],\n",
       "        [ True,  True,  True, ...,  True,  True,  True],\n",
       "        ...,\n",
       "        [ True,  True,  True, ...,  True,  True,  True],\n",
       "        [ True,  True,  True, ...,  True,  True,  True],\n",
       "        [ True,  True,  True, ...,  True,  True,  True]],\n",
       "\n",
       "       [[ True,  True,  True, ...,  True,  True,  True],\n",
       "        [ True,  True,  True, ...,  True,  True,  True],\n",
       "        [ True,  True,  True, ...,  True,  True,  True],\n",
       "        ...,\n",
       "        [ True,  True,  True, ...,  True,  True,  True],\n",
       "        [ True,  True,  True, ...,  True,  True,  True],\n",
       "        [ True,  True,  True, ...,  True,  True,  True]],\n",
       "\n",
       "       [[ True,  True,  True, ...,  True,  True,  True],\n",
       "        [ True,  True,  True, ...,  True,  True,  True],\n",
       "        [ True,  True,  True, ...,  True,  True,  True],\n",
       "        ...,\n",
       "        [ True,  True,  True, ...,  True,  True,  True],\n",
       "        [ True,  True,  True, ...,  True,  True,  True],\n",
       "        [ True,  True,  True, ...,  True,  True,  True]],\n",
       "\n",
       "       ...,\n",
       "\n",
       "       [[ True,  True,  True, ...,  True,  True,  True],\n",
       "        [ True,  True,  True, ...,  True,  True,  True],\n",
       "        [ True,  True,  True, ...,  True,  True,  True],\n",
       "        ...,\n",
       "        [ True,  True,  True, ...,  True,  True,  True],\n",
       "        [ True,  True,  True, ...,  True,  True,  True],\n",
       "        [ True,  True,  True, ...,  True,  True,  True]],\n",
       "\n",
       "       [[ True,  True,  True, ...,  True,  True,  True],\n",
       "        [ True,  True,  True, ...,  True,  True,  True],\n",
       "        [ True,  True,  True, ...,  True,  True,  True],\n",
       "        ...,\n",
       "        [ True,  True,  True, ...,  True,  True,  True],\n",
       "        [ True,  True,  True, ...,  True,  True,  True],\n",
       "        [ True,  True,  True, ...,  True,  True,  True]],\n",
       "\n",
       "       [[ True,  True,  True, ...,  True,  True,  True],\n",
       "        [ True,  True,  True, ...,  True,  True,  True],\n",
       "        [ True,  True,  True, ...,  True,  True,  True],\n",
       "        ...,\n",
       "        [ True,  True,  True, ...,  True,  True,  True],\n",
       "        [ True,  True,  True, ...,  True,  True,  True],\n",
       "        [ True,  True,  True, ...,  True,  True,  True]]])>"
      ]
     },
     "execution_count": 56,
     "metadata": {},
     "output_type": "execute_result"
    }
   ],
   "source": [
    "rep_tf_var[:,:,:,0]==rep_tf_var[:,:,:,1]"
   ]
  },
  {
   "cell_type": "markdown",
   "id": "f9e8cdc2",
   "metadata": {},
   "source": [
    "Reducing with einops"
   ]
  },
  {
   "cell_type": "code",
   "execution_count": 74,
   "id": "70d10aed",
   "metadata": {},
   "outputs": [
    {
     "data": {
      "text/plain": [
       "TensorShape([64, 512, 256, 1])"
      ]
     },
     "execution_count": 74,
     "metadata": {},
     "output_type": "execute_result"
    }
   ],
   "source": [
    "var3.shape # shape : b,h,w,c, since c=1, let us reshape to b,h,w"
   ]
  },
  {
   "cell_type": "code",
   "execution_count": 64,
   "id": "49a8e97d",
   "metadata": {},
   "outputs": [
    {
     "data": {
      "text/plain": [
       "TensorShape([64, 512, 256])"
      ]
     },
     "execution_count": 64,
     "metadata": {},
     "output_type": "execute_result"
    }
   ],
   "source": [
    "resh_with_tf=tf.reshape(var3,[-1,var3.shape[1],var3.shape[2]]) ## Not very readable b\n",
    "resh_with_tf.shape"
   ]
  },
  {
   "cell_type": "code",
   "execution_count": 66,
   "id": "457e10a7",
   "metadata": {},
   "outputs": [
    {
     "data": {
      "text/plain": [
       "TensorShape([64, 512, 256, 1])"
      ]
     },
     "execution_count": 66,
     "metadata": {},
     "output_type": "execute_result"
    }
   ],
   "source": [
    "var3.shape"
   ]
  },
  {
   "cell_type": "code",
   "execution_count": 72,
   "id": "adfecf96",
   "metadata": {},
   "outputs": [],
   "source": [
    "## with einops\n",
    "res_with_ein=einops.reduce(var3,'b h w c->b h w','sum',c=1)"
   ]
  },
  {
   "cell_type": "code",
   "execution_count": 73,
   "id": "360ae939",
   "metadata": {},
   "outputs": [
    {
     "data": {
      "text/plain": [
       "<tf.Tensor: shape=(64, 512, 256), dtype=bool, numpy=\n",
       "array([[[ True,  True,  True, ...,  True,  True,  True],\n",
       "        [ True,  True,  True, ...,  True,  True,  True],\n",
       "        [ True,  True,  True, ...,  True,  True,  True],\n",
       "        ...,\n",
       "        [ True,  True,  True, ...,  True,  True,  True],\n",
       "        [ True,  True,  True, ...,  True,  True,  True],\n",
       "        [ True,  True,  True, ...,  True,  True,  True]],\n",
       "\n",
       "       [[ True,  True,  True, ...,  True,  True,  True],\n",
       "        [ True,  True,  True, ...,  True,  True,  True],\n",
       "        [ True,  True,  True, ...,  True,  True,  True],\n",
       "        ...,\n",
       "        [ True,  True,  True, ...,  True,  True,  True],\n",
       "        [ True,  True,  True, ...,  True,  True,  True],\n",
       "        [ True,  True,  True, ...,  True,  True,  True]],\n",
       "\n",
       "       [[ True,  True,  True, ...,  True,  True,  True],\n",
       "        [ True,  True,  True, ...,  True,  True,  True],\n",
       "        [ True,  True,  True, ...,  True,  True,  True],\n",
       "        ...,\n",
       "        [ True,  True,  True, ...,  True,  True,  True],\n",
       "        [ True,  True,  True, ...,  True,  True,  True],\n",
       "        [ True,  True,  True, ...,  True,  True,  True]],\n",
       "\n",
       "       ...,\n",
       "\n",
       "       [[ True,  True,  True, ...,  True,  True,  True],\n",
       "        [ True,  True,  True, ...,  True,  True,  True],\n",
       "        [ True,  True,  True, ...,  True,  True,  True],\n",
       "        ...,\n",
       "        [ True,  True,  True, ...,  True,  True,  True],\n",
       "        [ True,  True,  True, ...,  True,  True,  True],\n",
       "        [ True,  True,  True, ...,  True,  True,  True]],\n",
       "\n",
       "       [[ True,  True,  True, ...,  True,  True,  True],\n",
       "        [ True,  True,  True, ...,  True,  True,  True],\n",
       "        [ True,  True,  True, ...,  True,  True,  True],\n",
       "        ...,\n",
       "        [ True,  True,  True, ...,  True,  True,  True],\n",
       "        [ True,  True,  True, ...,  True,  True,  True],\n",
       "        [ True,  True,  True, ...,  True,  True,  True]],\n",
       "\n",
       "       [[ True,  True,  True, ...,  True,  True,  True],\n",
       "        [ True,  True,  True, ...,  True,  True,  True],\n",
       "        [ True,  True,  True, ...,  True,  True,  True],\n",
       "        ...,\n",
       "        [ True,  True,  True, ...,  True,  True,  True],\n",
       "        [ True,  True,  True, ...,  True,  True,  True],\n",
       "        [ True,  True,  True, ...,  True,  True,  True]]])>"
      ]
     },
     "execution_count": 73,
     "metadata": {},
     "output_type": "execute_result"
    }
   ],
   "source": [
    "res_with_ein==resh_with_tf"
   ]
  },
  {
   "cell_type": "code",
   "execution_count": 79,
   "id": "d28837ac",
   "metadata": {},
   "outputs": [
    {
     "data": {
      "text/plain": [
       "<tf.Tensor: shape=(32768, 256, 1), dtype=float32, numpy=\n",
       "array([[[ 1.0889305 ],\n",
       "        [ 0.41955873],\n",
       "        [ 0.35075355],\n",
       "        ...,\n",
       "        [-1.1236372 ],\n",
       "        [ 1.0430043 ],\n",
       "        [ 0.31333432]],\n",
       "\n",
       "       [[ 1.7035553 ],\n",
       "        [ 0.6320212 ],\n",
       "        [ 1.6538037 ],\n",
       "        ...,\n",
       "        [-0.17375436],\n",
       "        [-0.11382089],\n",
       "        [-0.57382214]],\n",
       "\n",
       "       [[ 0.8242575 ],\n",
       "        [ 0.23641953],\n",
       "        [ 1.1543809 ],\n",
       "        ...,\n",
       "        [ 0.47689795],\n",
       "        [-1.6084766 ],\n",
       "        [-1.7619638 ]],\n",
       "\n",
       "       ...,\n",
       "\n",
       "       [[ 1.0893477 ],\n",
       "        [-1.5772194 ],\n",
       "        [-0.8268686 ],\n",
       "        ...,\n",
       "        [-1.1625193 ],\n",
       "        [-0.5494863 ],\n",
       "        [-0.1664041 ]],\n",
       "\n",
       "       [[-0.5329841 ],\n",
       "        [-0.15988548],\n",
       "        [ 0.9656353 ],\n",
       "        ...,\n",
       "        [-0.07059589],\n",
       "        [ 1.4188079 ],\n",
       "        [-0.09353431]],\n",
       "\n",
       "       [[ 0.20157693],\n",
       "        [ 1.3792503 ],\n",
       "        [ 1.2141061 ],\n",
       "        ...,\n",
       "        [-0.01866425],\n",
       "        [ 0.8965669 ],\n",
       "        [-1.5221035 ]]], dtype=float32)>"
      ]
     },
     "execution_count": 79,
     "metadata": {},
     "output_type": "execute_result"
    }
   ],
   "source": [
    "## reshaping to b*h,w,c\n",
    "\n",
    "einops.rearrange(var3,'b h w c -> (b h) w c') ## No need to memorize value of b h w c"
   ]
  },
  {
   "cell_type": "code",
   "execution_count": 81,
   "id": "03c19947",
   "metadata": {},
   "outputs": [
    {
     "data": {
      "text/plain": [
       "TensorShape([100, 256, 512, 3])"
      ]
     },
     "execution_count": 81,
     "metadata": {},
     "output_type": "execute_result"
    }
   ],
   "source": [
    "img.shape"
   ]
  },
  {
   "cell_type": "markdown",
   "id": "87424108",
   "metadata": {},
   "source": [
    "## PARSING THE DIM"
   ]
  },
  {
   "cell_type": "code",
   "execution_count": 91,
   "id": "bfe2dd4c",
   "metadata": {},
   "outputs": [],
   "source": [
    "## Usually in image captioning or VQA we have multiple caption for each images\n",
    "b=10\n",
    "num_cap=5 ## Each image have 5 num captions(5 sentence)\n",
    "\n",
    "\n",
    "caption=tf.random.normal(shape=(b,num_cap))\n",
    "\n",
    "\n",
    "h,w,c=64,64,3\n",
    "\n",
    "images=tf.random.normal(shape=(b,h,w,c))"
   ]
  },
  {
   "cell_type": "code",
   "execution_count": 92,
   "id": "674fad7e",
   "metadata": {},
   "outputs": [],
   "source": [
    "## Now we want to repeat the num of image for caption(one to one from one to many)\n",
    "\n",
    "cap_parse=einops.parse_shape(caption,'b n')"
   ]
  },
  {
   "cell_type": "code",
   "execution_count": 98,
   "id": "467a8e49",
   "metadata": {},
   "outputs": [],
   "source": [
    "repeat_images=einops.repeat(images,'b ...->(b c) ...',c=cap_parse['n']) ##rest remain same ...."
   ]
  },
  {
   "cell_type": "code",
   "execution_count": 99,
   "id": "9da23f2d",
   "metadata": {},
   "outputs": [
    {
     "data": {
      "text/plain": [
       "<tf.Tensor: shape=(64, 64, 3), dtype=bool, numpy=\n",
       "array([[[ True,  True,  True],\n",
       "        [ True,  True,  True],\n",
       "        [ True,  True,  True],\n",
       "        ...,\n",
       "        [ True,  True,  True],\n",
       "        [ True,  True,  True],\n",
       "        [ True,  True,  True]],\n",
       "\n",
       "       [[ True,  True,  True],\n",
       "        [ True,  True,  True],\n",
       "        [ True,  True,  True],\n",
       "        ...,\n",
       "        [ True,  True,  True],\n",
       "        [ True,  True,  True],\n",
       "        [ True,  True,  True]],\n",
       "\n",
       "       [[ True,  True,  True],\n",
       "        [ True,  True,  True],\n",
       "        [ True,  True,  True],\n",
       "        ...,\n",
       "        [ True,  True,  True],\n",
       "        [ True,  True,  True],\n",
       "        [ True,  True,  True]],\n",
       "\n",
       "       ...,\n",
       "\n",
       "       [[ True,  True,  True],\n",
       "        [ True,  True,  True],\n",
       "        [ True,  True,  True],\n",
       "        ...,\n",
       "        [ True,  True,  True],\n",
       "        [ True,  True,  True],\n",
       "        [ True,  True,  True]],\n",
       "\n",
       "       [[ True,  True,  True],\n",
       "        [ True,  True,  True],\n",
       "        [ True,  True,  True],\n",
       "        ...,\n",
       "        [ True,  True,  True],\n",
       "        [ True,  True,  True],\n",
       "        [ True,  True,  True]],\n",
       "\n",
       "       [[ True,  True,  True],\n",
       "        [ True,  True,  True],\n",
       "        [ True,  True,  True],\n",
       "        ...,\n",
       "        [ True,  True,  True],\n",
       "        [ True,  True,  True],\n",
       "        [ True,  True,  True]]])>"
      ]
     },
     "execution_count": 99,
     "metadata": {},
     "output_type": "execute_result"
    }
   ],
   "source": [
    "repeat_images[0]==repeat_images[1]"
   ]
  }
 ],
 "metadata": {
  "kernelspec": {
   "display_name": "Python 3 (ipykernel)",
   "language": "python",
   "name": "python3"
  },
  "language_info": {
   "codemirror_mode": {
    "name": "ipython",
    "version": 3
   },
   "file_extension": ".py",
   "mimetype": "text/x-python",
   "name": "python",
   "nbconvert_exporter": "python",
   "pygments_lexer": "ipython3",
   "version": "3.9.12"
  }
 },
 "nbformat": 4,
 "nbformat_minor": 5
}
