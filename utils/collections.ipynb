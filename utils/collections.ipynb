{
 "cells": [
  {
   "cell_type": "code",
   "execution_count": 1,
   "id": "54ff2e37",
   "metadata": {},
   "outputs": [],
   "source": [
    "from collections import defaultdict,deque,Counter"
   ]
  },
  {
   "cell_type": "markdown",
   "id": "281a6074",
   "metadata": {},
   "source": [
    "A deque (pronounced \"deck\") is a double-ended queue that supports thread-safe, memory efficient appends and pops from both the left and the right side of the deque with approximately the same O(1) performance."
   ]
  },
  {
   "cell_type": "code",
   "execution_count": 8,
   "id": "ecae6d97",
   "metadata": {},
   "outputs": [],
   "source": [
    "# deque \n",
    "l=deque(maxlen=5) ## pop out first(oth idx) if len=maxlen"
   ]
  },
  {
   "cell_type": "code",
   "execution_count": 9,
   "id": "3b2892e1",
   "metadata": {},
   "outputs": [
    {
     "name": "stdout",
     "output_type": "stream",
     "text": [
      "0: list: deque([0], maxlen=5)\n",
      "1: list: deque([0, 1], maxlen=5)\n",
      "2: list: deque([0, 1, 2], maxlen=5)\n",
      "3: list: deque([0, 1, 2, 3], maxlen=5)\n",
      "4: list: deque([0, 1, 2, 3, 4], maxlen=5)\n",
      "5: list: deque([1, 2, 3, 4, 5], maxlen=5)\n",
      "6: list: deque([2, 3, 4, 5, 6], maxlen=5)\n",
      "7: list: deque([3, 4, 5, 6, 7], maxlen=5)\n",
      "8: list: deque([4, 5, 6, 7, 8], maxlen=5)\n",
      "9: list: deque([5, 6, 7, 8, 9], maxlen=5)\n"
     ]
    }
   ],
   "source": [
    "##\n",
    "for i in range(10):\n",
    "    l.append(i)\n",
    "    print(f'{i}: list: {l}')"
   ]
  },
  {
   "cell_type": "code",
   "execution_count": 6,
   "id": "c218882f",
   "metadata": {},
   "outputs": [
    {
     "data": {
      "text/plain": [
       "collections.deque"
      ]
     },
     "execution_count": 6,
     "metadata": {},
     "output_type": "execute_result"
    }
   ],
   "source": [
    "type(l)"
   ]
  },
  {
   "cell_type": "code",
   "execution_count": 7,
   "id": "811797ba",
   "metadata": {},
   "outputs": [
    {
     "data": {
      "text/plain": [
       "[]"
      ]
     },
     "execution_count": 7,
     "metadata": {},
     "output_type": "execute_result"
    }
   ],
   "source": [
    "list(l)"
   ]
  },
  {
   "cell_type": "markdown",
   "id": "1527007a",
   "metadata": {},
   "source": [
    "## defaultdict\n",
    "The defaultdict works almost exactly like a regular Python dictionary, but it will return a default value if the queried key doesn't exist. This default value is determined by the argument you pass when you create the defaultdict."
   ]
  },
  {
   "cell_type": "code",
   "execution_count": 12,
   "id": "b881cfa2",
   "metadata": {},
   "outputs": [],
   "source": [
    "d=defaultdict(list)"
   ]
  },
  {
   "cell_type": "code",
   "execution_count": 13,
   "id": "0ce066cc",
   "metadata": {},
   "outputs": [
    {
     "data": {
      "text/plain": [
       "defaultdict(list, {})"
      ]
     },
     "execution_count": 13,
     "metadata": {},
     "output_type": "execute_result"
    }
   ],
   "source": [
    "d"
   ]
  },
  {
   "cell_type": "code",
   "execution_count": 11,
   "id": "61609d6c",
   "metadata": {},
   "outputs": [],
   "source": [
    "for key,value in d.items():\n",
    "    print(key, value)"
   ]
  },
  {
   "cell_type": "code",
   "execution_count": 14,
   "id": "bc181207",
   "metadata": {},
   "outputs": [],
   "source": [
    "## this is ofter used to create label class(tf_pipeline); Suppose we have folders name 'cat', 'dog', and under each folder \n",
    "# we have images of these animals.The key of defaultdict will be label and listed value are features"
   ]
  },
  {
   "cell_type": "code",
   "execution_count": 15,
   "id": "f86db358",
   "metadata": {},
   "outputs": [
    {
     "data": {
      "text/plain": [
       "[]"
      ]
     },
     "execution_count": 15,
     "metadata": {},
     "output_type": "execute_result"
    }
   ],
   "source": [
    "d['dog']"
   ]
  },
  {
   "cell_type": "code",
   "execution_count": 16,
   "id": "b46b3ccb",
   "metadata": {},
   "outputs": [],
   "source": [
    "d['dog'].append('1.jpg')\n",
    "d['dog'].append('2.jpg')\n",
    "\n",
    "d['cat'].append('cat1.jpg')"
   ]
  },
  {
   "cell_type": "code",
   "execution_count": 17,
   "id": "44de2885",
   "metadata": {},
   "outputs": [
    {
     "name": "stdout",
     "output_type": "stream",
     "text": [
      "dog ['1.jpg', '2.jpg']\n",
      "cat ['cat1.jpg']\n"
     ]
    }
   ],
   "source": [
    "for key,value in d.items():\n",
    "    print(key, value)"
   ]
  },
  {
   "cell_type": "code",
   "execution_count": 18,
   "id": "82d70ed5",
   "metadata": {},
   "outputs": [],
   "source": [
    "## we can now easily create labels and features"
   ]
  },
  {
   "cell_type": "markdown",
   "id": "ed2efd5a",
   "metadata": {},
   "source": [
    "## Counter\n",
    "\n",
    "A Counter is a dictionary subclass that counts hashable objects. It's a collection where the elements are stored as dictionary keys, and their counts are stored as dictionary values.\n",
    "\n"
   ]
  },
  {
   "cell_type": "code",
   "execution_count": 25,
   "id": "79811b9e",
   "metadata": {},
   "outputs": [],
   "source": [
    "c = Counter(['a', 'b', 'c', 'a', 'b', 'b']) ## counts how each iterables are counted"
   ]
  },
  {
   "cell_type": "code",
   "execution_count": 26,
   "id": "bc185969",
   "metadata": {},
   "outputs": [
    {
     "data": {
      "text/plain": [
       "Counter({'a': 2, 'b': 3, 'c': 1})"
      ]
     },
     "execution_count": 26,
     "metadata": {},
     "output_type": "execute_result"
    }
   ],
   "source": [
    "c"
   ]
  },
  {
   "cell_type": "code",
   "execution_count": 27,
   "id": "bb99b099",
   "metadata": {},
   "outputs": [],
   "source": [
    "c.update(['a','e'])"
   ]
  },
  {
   "cell_type": "code",
   "execution_count": 28,
   "id": "eea78e0a",
   "metadata": {},
   "outputs": [
    {
     "data": {
      "text/plain": [
       "Counter({'a': 3, 'b': 3, 'c': 1, 'e': 1})"
      ]
     },
     "execution_count": 28,
     "metadata": {},
     "output_type": "execute_result"
    }
   ],
   "source": [
    "c"
   ]
  },
  {
   "cell_type": "code",
   "execution_count": null,
   "id": "c95b98c5",
   "metadata": {},
   "outputs": [],
   "source": []
  }
 ],
 "metadata": {
  "kernelspec": {
   "display_name": "Python 3 (ipykernel)",
   "language": "python",
   "name": "python3"
  },
  "language_info": {
   "codemirror_mode": {
    "name": "ipython",
    "version": 3
   },
   "file_extension": ".py",
   "mimetype": "text/x-python",
   "name": "python",
   "nbconvert_exporter": "python",
   "pygments_lexer": "ipython3",
   "version": "3.9.12"
  }
 },
 "nbformat": 4,
 "nbformat_minor": 5
}
