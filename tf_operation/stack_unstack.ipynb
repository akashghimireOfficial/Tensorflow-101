{
 "cells": [
  {
   "cell_type": "markdown",
   "id": "3a38b852",
   "metadata": {},
   "source": [
    "**stack operation**: gathers a list of tensors and stacks them along a ``new axis``, creating a new dimension. We will also learn how ``stack and concat`` are not the same.\n",
    "\n",
    "**Unstack Operation**: splits a tensor into a list of tensors along the specified axis. The number of resulting tensors will be equal to the size of the dimension at the specified axis."
   ]
  },
  {
   "cell_type": "code",
   "execution_count": 50,
   "id": "9ad0ee5a",
   "metadata": {},
   "outputs": [],
   "source": [
    "import tensorflow as tf "
   ]
  },
  {
   "cell_type": "code",
   "execution_count": 51,
   "id": "9658d925",
   "metadata": {},
   "outputs": [],
   "source": [
    "var1=tf.ones(shape=(5,))\n",
    "var2=tf.zeros(shape=(5,))\n",
    "\n",
    "var3=tf.random.normal(shape=(3,5))\n",
    "var4=tf.random.normal(shape=(3,5))\n"
   ]
  },
  {
   "cell_type": "code",
   "execution_count": 52,
   "id": "bc6f2428",
   "metadata": {},
   "outputs": [
    {
     "data": {
      "text/plain": [
       "<tf.Tensor: shape=(2, 5), dtype=float32, numpy=\n",
       "array([[1., 1., 1., 1., 1.],\n",
       "       [0., 0., 0., 0., 0.]], dtype=float32)>"
      ]
     },
     "execution_count": 52,
     "metadata": {},
     "output_type": "execute_result"
    }
   ],
   "source": [
    "tf.stack([var1,var2],axis=0) ## Default is axis 0\n"
   ]
  },
  {
   "cell_type": "code",
   "execution_count": 53,
   "id": "c6bf8b01",
   "metadata": {},
   "outputs": [
    {
     "data": {
      "text/plain": [
       "<tf.Tensor: shape=(5, 2), dtype=float32, numpy=\n",
       "array([[1., 0.],\n",
       "       [1., 0.],\n",
       "       [1., 0.],\n",
       "       [1., 0.],\n",
       "       [1., 0.]], dtype=float32)>"
      ]
     },
     "execution_count": 53,
     "metadata": {},
     "output_type": "execute_result"
    }
   ],
   "source": [
    "tf.stack([var1,var2],axis=1) ## In axis =1"
   ]
  },
  {
   "cell_type": "code",
   "execution_count": 54,
   "id": "06af8ae6",
   "metadata": {},
   "outputs": [],
   "source": [
    "stacked0=tf.stack([var3,var4],axis=0) \n"
   ]
  },
  {
   "cell_type": "code",
   "execution_count": 55,
   "id": "68f17709",
   "metadata": {},
   "outputs": [],
   "source": [
    "stacked1=tf.stack([var3,var4],axis=1) \n"
   ]
  },
  {
   "cell_type": "code",
   "execution_count": 56,
   "id": "d7d593d7",
   "metadata": {},
   "outputs": [],
   "source": [
    "stacked2=tf.stack([var3,var4],axis=2) "
   ]
  },
  {
   "cell_type": "code",
   "execution_count": 57,
   "id": "cc1522b5",
   "metadata": {},
   "outputs": [
    {
     "data": {
      "text/plain": [
       "<tf.Tensor: shape=(3, 2, 5), dtype=float32, numpy=\n",
       "array([[[ 0.24069211, -0.1446253 , -0.71781075, -0.681972  ,\n",
       "         -0.43706462],\n",
       "        [ 0.05850146, -0.17731702,  2.1237292 , -1.5222365 ,\n",
       "          0.9632891 ]],\n",
       "\n",
       "       [[-1.9542998 ,  0.10636945, -0.03422093, -0.4193867 ,\n",
       "         -0.51660067],\n",
       "        [-0.12904885,  0.4992137 ,  0.01568054, -0.00931948,\n",
       "          1.0841675 ]],\n",
       "\n",
       "       [[-1.0968574 , -0.766838  , -0.46020246,  0.9222632 ,\n",
       "         -2.433876  ],\n",
       "        [ 0.05320054, -0.66009384,  1.2177445 ,  1.0913743 ,\n",
       "         -0.2334003 ]]], dtype=float32)>"
      ]
     },
     "execution_count": 57,
     "metadata": {},
     "output_type": "execute_result"
    }
   ],
   "source": [
    "stacked1"
   ]
  },
  {
   "cell_type": "code",
   "execution_count": 58,
   "id": "325a55db",
   "metadata": {},
   "outputs": [
    {
     "data": {
      "text/plain": [
       "<tf.Tensor: shape=(3, 5), dtype=bool, numpy=\n",
       "array([[ True,  True,  True,  True,  True],\n",
       "       [ True,  True,  True,  True,  True],\n",
       "       [ True,  True,  True,  True,  True]])>"
      ]
     },
     "execution_count": 58,
     "metadata": {},
     "output_type": "execute_result"
    }
   ],
   "source": [
    "stacked0[0]==var3"
   ]
  },
  {
   "cell_type": "code",
   "execution_count": 35,
   "id": "b23d9fd6",
   "metadata": {},
   "outputs": [
    {
     "data": {
      "text/plain": [
       "<tf.Tensor: shape=(3, 5), dtype=bool, numpy=\n",
       "array([[ True,  True,  True,  True,  True],\n",
       "       [ True,  True,  True,  True,  True],\n",
       "       [ True,  True,  True,  True,  True]])>"
      ]
     },
     "execution_count": 35,
     "metadata": {},
     "output_type": "execute_result"
    }
   ],
   "source": [
    "stacked1[:,0,:]==var3"
   ]
  },
  {
   "cell_type": "markdown",
   "id": "0ce69c31",
   "metadata": {},
   "source": [
    "is stacking same as concatenate? \n",
    "==> Answer is No. Concatenate gathers tensor in `existing` axis not new `axis`\n",
    "\n",
    "==> in tf.concat, we can set axis(from exising shape only) (num of dim don't change) "
   ]
  },
  {
   "cell_type": "code",
   "execution_count": 11,
   "id": "dc136716",
   "metadata": {},
   "outputs": [
    {
     "data": {
      "text/plain": [
       "<tf.Tensor: shape=(10,), dtype=float32, numpy=array([1., 1., 1., 1., 1., 0., 0., 0., 0., 0.], dtype=float32)>"
      ]
     },
     "execution_count": 11,
     "metadata": {},
     "output_type": "execute_result"
    }
   ],
   "source": [
    "tf.concat([var1,var2],axis=0) ## you see that concat is done "
   ]
  },
  {
   "cell_type": "code",
   "execution_count": 36,
   "id": "c56fcd0c",
   "metadata": {},
   "outputs": [],
   "source": [
    "#tf.concat([var1,var2],axis=1) ; give error coz both var1 and var2"
   ]
  },
  {
   "cell_type": "code",
   "execution_count": 37,
   "id": "10a19845",
   "metadata": {},
   "outputs": [
    {
     "data": {
      "text/plain": [
       "<tf.Tensor: shape=(6, 5), dtype=float32, numpy=\n",
       "array([[ 0.36593318,  2.2156844 , -0.03587857,  0.57105696, -0.93334293],\n",
       "       [ 0.07200411,  0.50055546, -1.6158595 , -1.2536744 ,  1.6761937 ],\n",
       "       [ 0.06026825, -0.36437926, -0.24018605, -0.01017379,  0.8560304 ],\n",
       "       [ 0.20520672, -1.7214019 , -0.20540515, -1.2079625 , -0.8156779 ],\n",
       "       [ 0.0633375 , -0.8792992 , -0.14642236, -0.9597081 , -0.9596648 ],\n",
       "       [ 0.18855019, -0.19273683, -1.4876363 ,  3.5991538 ,  0.49772814]],\n",
       "      dtype=float32)>"
      ]
     },
     "execution_count": 37,
     "metadata": {},
     "output_type": "execute_result"
    }
   ],
   "source": [
    "tf.concat([var3,var4],axis=0)"
   ]
  },
  {
   "cell_type": "code",
   "execution_count": 38,
   "id": "f6a0598a",
   "metadata": {},
   "outputs": [
    {
     "data": {
      "text/plain": [
       "<tf.Tensor: shape=(3, 10), dtype=float32, numpy=\n",
       "array([[ 0.36593318,  2.2156844 , -0.03587857,  0.57105696, -0.93334293,\n",
       "         0.20520672, -1.7214019 , -0.20540515, -1.2079625 , -0.8156779 ],\n",
       "       [ 0.07200411,  0.50055546, -1.6158595 , -1.2536744 ,  1.6761937 ,\n",
       "         0.0633375 , -0.8792992 , -0.14642236, -0.9597081 , -0.9596648 ],\n",
       "       [ 0.06026825, -0.36437926, -0.24018605, -0.01017379,  0.8560304 ,\n",
       "         0.18855019, -0.19273683, -1.4876363 ,  3.5991538 ,  0.49772814]],\n",
       "      dtype=float32)>"
      ]
     },
     "execution_count": 38,
     "metadata": {},
     "output_type": "execute_result"
    }
   ],
   "source": [
    "tf.concat([var3,var4],axis=1)"
   ]
  },
  {
   "cell_type": "markdown",
   "id": "b9e79776",
   "metadata": {},
   "source": [
    "Testing on tensor which have only one dimension of same size"
   ]
  },
  {
   "cell_type": "code",
   "execution_count": 39,
   "id": "32d689e1",
   "metadata": {},
   "outputs": [],
   "source": [
    "var5=tf.random.normal(shape=(3,5))\n",
    "var6=tf.random.normal(shape=(3,10))"
   ]
  },
  {
   "cell_type": "code",
   "execution_count": 42,
   "id": "38522554",
   "metadata": {},
   "outputs": [],
   "source": [
    "##tf.stack([var5,var6]) won't run because both of the dimension should match; need to have exact shape"
   ]
  },
  {
   "cell_type": "code",
   "execution_count": 47,
   "id": "89f60aea",
   "metadata": {},
   "outputs": [],
   "source": [
    "## We have same num of row; so we can concatenate on axis=1;\n",
    "#because in concat if i want to concat on axis=1 (then other axis in thois case axis_0 meust be same)"
   ]
  },
  {
   "cell_type": "code",
   "execution_count": 48,
   "id": "0d90e098",
   "metadata": {},
   "outputs": [
    {
     "data": {
      "text/plain": [
       "<tf.Tensor: shape=(3, 15), dtype=float32, numpy=\n",
       "array([[ 0.78171724, -1.3166919 ,  0.37393576,  1.1073192 , -1.0791205 ,\n",
       "         0.15733165,  1.9752271 ,  2.251921  ,  1.0065525 , -0.24835645,\n",
       "        -0.7208744 ,  1.4292198 ,  0.80064845, -0.7713076 ,  0.34154668],\n",
       "       [ 0.51475495,  1.4621357 , -0.05029101,  0.32891813, -0.5457578 ,\n",
       "        -0.5083453 , -0.96762943, -0.878308  , -0.38614368, -0.6331209 ,\n",
       "        -0.49577576,  1.5420189 , -0.08993945,  0.04970931, -0.17508204],\n",
       "       [ 0.7992061 ,  0.3699602 , -0.3793552 ,  0.30531013, -0.39434952,\n",
       "        -1.3624943 , -0.98038715,  0.06446909, -0.14021477,  0.7402125 ,\n",
       "         0.27491698, -0.54070544, -2.0872989 , -0.16820636, -2.2675383 ]],\n",
       "      dtype=float32)>"
      ]
     },
     "execution_count": 48,
     "metadata": {},
     "output_type": "execute_result"
    }
   ],
   "source": [
    "tf.concat([var5,var6],axis=1)"
   ]
  },
  {
   "cell_type": "markdown",
   "id": "f543ef19",
   "metadata": {},
   "source": [
    "### unstack\n",
    "\n",
    "==> return a list of unstacked tensors"
   ]
  },
  {
   "cell_type": "code",
   "execution_count": 62,
   "id": "a52ba766",
   "metadata": {},
   "outputs": [
    {
     "name": "stdout",
     "output_type": "stream",
     "text": [
      "stacked0 shape  (2, 3, 5)\n",
      "unstacked tensor shape  (3, 5)\n",
      "unstacked tensor shape  (3, 5)\n"
     ]
    }
   ],
   "source": [
    "print('stacked0 shape ', stacked0.shape)\n",
    "unstack=tf.unstack(stacked0,axis=0)\n",
    "\n",
    "for tensor in unstack:\n",
    "    print('unstacked tensor shape ', tensor.shape)"
   ]
  },
  {
   "cell_type": "code",
   "execution_count": 63,
   "id": "9ee97f00",
   "metadata": {},
   "outputs": [],
   "source": [
    "var=tf.random.normal(shape=(2,32,17)) # batch, token,embed_dim"
   ]
  },
  {
   "cell_type": "code",
   "execution_count": 64,
   "id": "6f1e1dd9",
   "metadata": {},
   "outputs": [
    {
     "name": "stdout",
     "output_type": "stream",
     "text": [
      "(32, 17)\n",
      "(32, 17)\n"
     ]
    }
   ],
   "source": [
    "for tensor in tf.unstack(var,axis=0):\n",
    "    print(tensor.shape)"
   ]
  }
 ],
 "metadata": {
  "kernelspec": {
   "display_name": "Python 3 (ipykernel)",
   "language": "python",
   "name": "python3"
  },
  "language_info": {
   "codemirror_mode": {
    "name": "ipython",
    "version": 3
   },
   "file_extension": ".py",
   "mimetype": "text/x-python",
   "name": "python",
   "nbconvert_exporter": "python",
   "pygments_lexer": "ipython3",
   "version": "3.9.12"
  }
 },
 "nbformat": 4,
 "nbformat_minor": 5
}
