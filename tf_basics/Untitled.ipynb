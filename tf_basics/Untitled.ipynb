{
 "cells": [
  {
   "cell_type": "code",
   "execution_count": 1,
   "metadata": {},
   "outputs": [],
   "source": [
    "import tensorflow as tf \n",
    "import numpy as np "
   ]
  },
  {
   "cell_type": "code",
   "execution_count": 10,
   "id": "0a520dac",
   "metadata": {},
   "outputs": [],
   "source": [
    "## Creating Tensors \n",
    "\n",
    "a = tf.constant([[1,2,3]],dtype=tf.int16)\n",
    "b=tf.constant(tf.zeros(5))\n",
    "c=tf.constant(tf.random.normal((2,2)))\n"
   ]
  },
  {
   "cell_type": "code",
   "execution_count": 11,
   "id": "7a857bab",
   "metadata": {},
   "outputs": [],
   "source": [
    "a=tf.Variable([1,21,3],dtype=tf.float16)\n"
   ]
  },
  {
   "cell_type": "code",
   "execution_count": 27,
   "id": "31892b27",
   "metadata": {},
   "outputs": [],
   "source": [
    "w=tf.Variable(tf.random.normal(shape=(2,2)),dtype=tf.float32)\n",
    "x=tf.Variable([[1,2]],dtype=tf.float32)"
   ]
  },
  {
   "cell_type": "code",
   "execution_count": 28,
   "id": "22747fc3",
   "metadata": {},
   "outputs": [
    {
     "data": {
      "text/plain": [
       "<tf.Tensor: shape=(2, 2), dtype=float32, numpy=\n",
       "array([[ 0.8391539 , -0.95008296],\n",
       "       [-2.8137786 , -0.5797203 ]], dtype=float32)>"
      ]
     },
     "execution_count": 28,
     "metadata": {},
     "output_type": "execute_result"
    }
   ],
   "source": [
    "y_pred=tf.nn.softmax(tf.multiply)"
   ]
  },
  {
   "cell_type": "code",
   "execution_count": 35,
   "id": "0f79684d",
   "metadata": {},
   "outputs": [],
   "source": [
    "with tf.GradientTape() as tape:\n",
    "    w=tf.Variable(tf.random.normal(shape=(2,2)),dtype=tf.float32)\n",
    "    x=tf.Variable([[1,2]],dtype=tf.float32)\n",
    "    y_pred=tf.nn.softmax(tf.multiply(w,tf.transpose(x)))\n",
    "\n",
    "grad=tape.gradient(y_pred,[w,x])"
   ]
  },
  {
   "cell_type": "code",
   "execution_count": 37,
   "id": "95d29e0e",
   "metadata": {},
   "outputs": [
    {
     "data": {
      "text/plain": [
       "<tf.Tensor: shape=(1, 2), dtype=float32, numpy=array([[0., 0.]], dtype=float32)>"
      ]
     },
     "execution_count": 37,
     "metadata": {},
     "output_type": "execute_result"
    }
   ],
   "source": [
    "grad[1]"
   ]
  },
  {
   "cell_type": "code",
   "execution_count": 40,
   "id": "ab396053",
   "metadata": {},
   "outputs": [],
   "source": [
    "with tf.GradientTape(watch_accessed_variables=False) as tape:\n",
    "    w=tf.Variable(tf.random.normal(shape=(2,2)),dtype=tf.float32)\n",
    "    x=tf.Variable([[1,2]],dtype=tf.float32)\n",
    "    tape.watch(w)\n",
    "    y_pred=tf.nn.softmax(tf.multiply(w,tf.transpose(x)))\n",
    "\n",
    "grad=tape.gradient(y_pred,[w,x])"
   ]
  },
  {
   "cell_type": "code",
   "execution_count": 41,
   "id": "e818e55b",
   "metadata": {},
   "outputs": [
    {
     "data": {
      "text/plain": [
       "[<tf.Tensor: shape=(2, 2), dtype=float32, numpy=\n",
       " array([[0., 0.],\n",
       "        [0., 0.]], dtype=float32)>,\n",
       " None]"
      ]
     },
     "execution_count": 41,
     "metadata": {},
     "output_type": "execute_result"
    }
   ],
   "source": [
    "tf.keras.save"
   ]
  },
  {
   "cell_type": "code",
   "execution_count": 120,
   "id": "701e1734",
   "metadata": {},
   "outputs": [
    {
     "name": "stdout",
     "output_type": "stream",
     "text": [
      "()\n",
      "(201,)\n"
     ]
    }
   ],
   "source": [
    "## Lets try to train a simple Linear Model using Tensorflow \n",
    "\n",
    "x=tf.Variable(tf.linspace(-2,2,201))\n",
    "x=tf.cast(x,tf.float16)\n",
    "true_W=tf.Variable(3,dtype=tf.float16)\n",
    "true_b=tf.Variable(2,dtype=tf.float16)\n",
    "\n",
    "print(true_W.shape)\n",
    "print(x.shape)\n",
    "y=tf.multiply(x,true_W)+true_b\n",
    "\n",
    "y_true=y+tf.random.normal(shape=(201,),dtype=tf.float16)\n"
   ]
  },
  {
   "cell_type": "code",
   "execution_count": 129,
   "id": "a276c7fc",
   "metadata": {},
   "outputs": [],
   "source": [
    "class simple_dense_layer(tf.keras.layers.Layer):\n",
    "\n",
    "    def __init__(self,dense_unit):\n",
    "        super(simple_dense_layer,self).__init__()\n",
    "        \n",
    "        self.units=dense_unit\n",
    "        self.w=tf.Variable(3,dtype=tf.float32)\n",
    "       \n",
    "        self.b=tf.Variable(2,dtype=tf.float32)\n",
    "    \n",
    "  \n",
    "\n",
    "\n",
    "    def call(self,x):\n",
    "\n",
    "        \n",
    "        print('self.w.shape : ', self.w.shape)\n",
    "        print('x.shape : ', x.shape)\n",
    "        print('b.shape : ', self.b.shape)\n",
    "        z=tf.multiply(self.w,x)+self.b\n",
    "\n",
    "        return tf.nn.relu(z)"
   ]
  },
  {
   "cell_type": "code",
   "execution_count": 130,
   "id": "1bf6befd",
   "metadata": {},
   "outputs": [],
   "source": [
    "x=tf.Variable(tf.linspace(-2,2,201))\n",
    "x=tf.cast(x,tf.float16)"
   ]
  },
  {
   "cell_type": "code",
   "execution_count": 131,
   "id": "6d9a44c5",
   "metadata": {},
   "outputs": [
    {
     "data": {
      "text/plain": [
       "<tf.Tensor: shape=(201,), dtype=float16, numpy=\n",
       "array([-2.  , -1.98, -1.96, -1.94, -1.92, -1.9 , -1.88, -1.86, -1.84,\n",
       "       -1.82, -1.8 , -1.78, -1.76, -1.74, -1.72, -1.7 , -1.68, -1.66,\n",
       "       -1.64, -1.62, -1.6 , -1.58, -1.56, -1.54, -1.52, -1.5 , -1.48,\n",
       "       -1.46, -1.44, -1.42, -1.4 , -1.38, -1.36, -1.34, -1.32, -1.3 ,\n",
       "       -1.28, -1.26, -1.24, -1.22, -1.2 , -1.18, -1.16, -1.14, -1.12,\n",
       "       -1.1 , -1.08, -1.06, -1.04, -1.02, -1.  , -0.98, -0.96, -0.94,\n",
       "       -0.92, -0.9 , -0.88, -0.86, -0.84, -0.82, -0.8 , -0.78, -0.76,\n",
       "       -0.74, -0.72, -0.7 , -0.68, -0.66, -0.64, -0.62, -0.6 , -0.58,\n",
       "       -0.56, -0.54, -0.52, -0.5 , -0.48, -0.46, -0.44, -0.42, -0.4 ,\n",
       "       -0.38, -0.36, -0.34, -0.32, -0.3 , -0.28, -0.26, -0.24, -0.22,\n",
       "       -0.2 , -0.18, -0.16, -0.14, -0.12, -0.1 , -0.08, -0.06, -0.04,\n",
       "       -0.02,  0.  ,  0.02,  0.04,  0.06,  0.08,  0.1 ,  0.12,  0.14,\n",
       "        0.16,  0.18,  0.2 ,  0.22,  0.24,  0.26,  0.28,  0.3 ,  0.32,\n",
       "        0.34,  0.36,  0.38,  0.4 ,  0.42,  0.44,  0.46,  0.48,  0.5 ,\n",
       "        0.52,  0.54,  0.56,  0.58,  0.6 ,  0.62,  0.64,  0.66,  0.68,\n",
       "        0.7 ,  0.72,  0.74,  0.76,  0.78,  0.8 ,  0.82,  0.84,  0.86,\n",
       "        0.88,  0.9 ,  0.92,  0.94,  0.96,  0.98,  1.  ,  1.02,  1.04,\n",
       "        1.06,  1.08,  1.1 ,  1.12,  1.14,  1.16,  1.18,  1.2 ,  1.22,\n",
       "        1.24,  1.26,  1.28,  1.3 ,  1.32,  1.34,  1.36,  1.38,  1.4 ,\n",
       "        1.42,  1.44,  1.46,  1.48,  1.5 ,  1.52,  1.54,  1.56,  1.58,\n",
       "        1.6 ,  1.62,  1.64,  1.66,  1.68,  1.7 ,  1.72,  1.74,  1.76,\n",
       "        1.78,  1.8 ,  1.82,  1.84,  1.86,  1.88,  1.9 ,  1.92,  1.94,\n",
       "        1.96,  1.98,  2.  ], dtype=float16)>"
      ]
     },
     "execution_count": 131,
     "metadata": {},
     "output_type": "execute_result"
    }
   ],
   "source": [
    "x"
   ]
  },
  {
   "cell_type": "code",
   "execution_count": 132,
   "id": "b6ddb6ef",
   "metadata": {},
   "outputs": [],
   "source": [
    "s=simple_dense_layer(201)"
   ]
  },
  {
   "cell_type": "code",
   "execution_count": 133,
   "id": "8c76e5b1",
   "metadata": {},
   "outputs": [
    {
     "name": "stdout",
     "output_type": "stream",
     "text": [
      "self.w.shape :  ()\n",
      "x.shape :  (201,)\n",
      "b.shape :  ()\n"
     ]
    },
    {
     "data": {
      "text/plain": [
       "<tf.Tensor: shape=(201,), dtype=float32, numpy=\n",
       "array([0.        , 0.        , 0.        , 0.        , 0.        ,\n",
       "       0.        , 0.        , 0.        , 0.        , 0.        ,\n",
       "       0.        , 0.        , 0.        , 0.        , 0.        ,\n",
       "       0.        , 0.        , 0.        , 0.        , 0.        ,\n",
       "       0.        , 0.        , 0.        , 0.        , 0.        ,\n",
       "       0.        , 0.        , 0.        , 0.        , 0.        ,\n",
       "       0.        , 0.        , 0.        , 0.        , 0.        ,\n",
       "       0.        , 0.        , 0.        , 0.        , 0.        ,\n",
       "       0.        , 0.        , 0.        , 0.        , 0.        ,\n",
       "       0.        , 0.        , 0.        , 0.        , 0.        ,\n",
       "       0.        , 0.        , 0.        , 0.        , 0.        ,\n",
       "       0.        , 0.        , 0.        , 0.        , 0.        ,\n",
       "       0.        , 0.        , 0.        , 0.        , 0.        ,\n",
       "       0.        , 0.        , 0.01953125, 0.07958984, 0.13964844,\n",
       "       0.19970703, 0.25976562, 0.31982422, 0.3798828 , 0.4399414 ,\n",
       "       0.5       , 0.5600586 , 0.6201172 , 0.6801758 , 0.7402344 ,\n",
       "       0.80029297, 0.86035156, 0.91967773, 0.9797363 , 1.0397949 ,\n",
       "       1.0998535 , 1.1599121 , 1.2199707 , 1.2800293 , 1.3400879 ,\n",
       "       1.4001465 , 1.4598389 , 1.5198975 , 1.579956  , 1.6400146 ,\n",
       "       1.7000732 , 1.7599487 , 1.8200073 , 1.8799744 , 1.9399872 ,\n",
       "       2.        , 2.0600128 , 2.1200256 , 2.1799927 , 2.2400513 ,\n",
       "       2.2999268 , 2.3599854 , 2.420044  , 2.4801025 , 2.5401611 ,\n",
       "       2.5998535 , 2.659912  , 2.7199707 , 2.7800293 , 2.840088  ,\n",
       "       2.9001465 , 2.960205  , 3.0202637 , 3.0803223 , 3.1396484 ,\n",
       "       3.199707  , 3.2597656 , 3.3198242 , 3.3798828 , 3.4399414 ,\n",
       "       3.5       , 3.5600586 , 3.6201172 , 3.6801758 , 3.7402344 ,\n",
       "       3.800293  , 3.8603516 , 3.9204102 , 3.9804688 , 4.0405273 ,\n",
       "       4.100586  , 4.1606445 , 4.220703  , 4.279297  , 4.3393555 ,\n",
       "       4.399414  , 4.4594727 , 4.5195312 , 4.57959   , 4.6396484 ,\n",
       "       4.699707  , 4.7597656 , 4.819824  , 4.879883  , 4.9399414 ,\n",
       "       5.        , 5.0585938 , 5.120117  , 5.178711  , 5.2402344 ,\n",
       "       5.298828  , 5.3603516 , 5.4189453 , 5.4804688 , 5.5390625 ,\n",
       "       5.600586  , 5.6591797 , 5.720703  , 5.779297  , 5.8408203 ,\n",
       "       5.899414  , 5.9609375 , 6.0195312 , 6.0810547 , 6.1396484 ,\n",
       "       6.201172  , 6.2597656 , 6.321289  , 6.379883  , 6.4414062 ,\n",
       "       6.5       , 6.5585938 , 6.620117  , 6.678711  , 6.7402344 ,\n",
       "       6.798828  , 6.8603516 , 6.9189453 , 6.9804688 , 7.0390625 ,\n",
       "       7.100586  , 7.1591797 , 7.220703  , 7.279297  , 7.3408203 ,\n",
       "       7.399414  , 7.4609375 , 7.5195312 , 7.5810547 , 7.6396484 ,\n",
       "       7.701172  , 7.7597656 , 7.821289  , 7.879883  , 7.9414062 ,\n",
       "       8.        ], dtype=float32)>"
      ]
     },
     "execution_count": 133,
     "metadata": {},
     "output_type": "execute_result"
    }
   ],
   "source": [
    "s(x)\n"
   ]
  },
  {
   "cell_type": "code",
   "execution_count": 107,
   "id": "7a500cb9",
   "metadata": {},
   "outputs": [
    {
     "data": {
      "text/plain": [
       "<tf.Tensor: shape=(201,), dtype=float16, numpy=\n",
       "array([1.   , 1.02 , 1.04 , 1.06 , 1.08 , 1.1  , 1.12 , 1.14 , 1.16 ,\n",
       "       1.18 , 1.2  , 1.22 , 1.24 , 1.26 , 1.28 , 1.3  , 1.32 , 1.34 ,\n",
       "       1.36 , 1.38 , 1.4  , 1.42 , 1.44 , 1.46 , 1.48 , 1.5  , 1.52 ,\n",
       "       1.54 , 1.56 , 1.58 , 1.6  , 1.62 , 1.64 , 1.66 , 1.68 , 1.7  ,\n",
       "       1.72 , 1.74 , 1.76 , 1.78 , 1.8  , 1.82 , 1.84 , 1.86 , 1.88 ,\n",
       "       1.9  , 1.92 , 1.94 , 1.96 , 1.98 , 2.   , 2.02 , 2.04 , 2.06 ,\n",
       "       2.08 , 2.1  , 2.121, 2.14 , 2.16 , 2.18 , 2.2  , 2.22 , 2.24 ,\n",
       "       2.26 , 2.28 , 2.3  , 2.32 , 2.34 , 2.36 , 2.379, 2.4  , 2.42 ,\n",
       "       2.44 , 2.46 , 2.48 , 2.5  , 2.52 , 2.54 , 2.56 , 2.58 , 2.6  ,\n",
       "       2.621, 2.64 , 2.66 , 2.68 , 2.7  , 2.72 , 2.74 , 2.76 , 2.78 ,\n",
       "       2.8  , 2.82 , 2.84 , 2.86 , 2.88 , 2.9  , 2.92 , 2.94 , 2.96 ,\n",
       "       2.98 , 3.   , 3.02 , 3.04 , 3.06 , 3.08 , 3.1  , 3.12 , 3.14 ,\n",
       "       3.16 , 3.18 , 3.2  , 3.22 , 3.24 , 3.26 , 3.28 , 3.3  , 3.32 ,\n",
       "       3.34 , 3.36 , 3.379, 3.4  , 3.42 , 3.44 , 3.46 , 3.48 , 3.5  ,\n",
       "       3.52 , 3.54 , 3.56 , 3.58 , 3.6  , 3.621, 3.64 , 3.66 , 3.68 ,\n",
       "       3.7  , 3.72 , 3.74 , 3.76 , 3.78 , 3.8  , 3.82 , 3.84 , 3.86 ,\n",
       "       3.879, 3.9  , 3.92 , 3.94 , 3.96 , 3.98 , 4.   , 4.02 , 4.04 ,\n",
       "       4.06 , 4.08 , 4.1  , 4.12 , 4.14 , 4.16 , 4.18 , 4.2  , 4.22 ,\n",
       "       4.242, 4.258, 4.28 , 4.3  , 4.32 , 4.34 , 4.36 , 4.38 , 4.4  ,\n",
       "       4.42 , 4.44 , 4.46 , 4.48 , 4.5  , 4.52 , 4.54 , 4.56 , 4.58 ,\n",
       "       4.6  , 4.62 , 4.64 , 4.66 , 4.68 , 4.7  , 4.72 , 4.742, 4.758,\n",
       "       4.78 , 4.8  , 4.82 , 4.84 , 4.86 , 4.88 , 4.9  , 4.92 , 4.94 ,\n",
       "       4.96 , 4.98 , 5.   ], dtype=float16)>"
      ]
     },
     "execution_count": 107,
     "metadata": {},
     "output_type": "execute_result"
    }
   ],
   "source": [
    "x+tf.Variable(3,dtype=tf.float16)"
   ]
  },
  {
   "cell_type": "code",
   "execution_count": 136,
   "id": "e6396355",
   "metadata": {},
   "outputs": [
    {
     "name": "stdout",
     "output_type": "stream",
     "text": [
      "self.w.shape: ()\n",
      "x.shape: <dtype: 'float32'>\n",
      "b.shape: ()\n"
     ]
    },
    {
     "ename": "InvalidArgumentError",
     "evalue": "Exception encountered when calling layer \"simple_dense_layer_21\" \"                 f\"(type SimpleDenseLayer).\n\ncannot compute Mul as input #1(zero-based) was expected to be a half tensor but is a float tensor [Op:Mul]\n\nCall arguments received by layer \"simple_dense_layer_21\" \"                 f\"(type SimpleDenseLayer):\n  • x=tf.Tensor(shape=(201,), dtype=float32)",
     "output_type": "error",
     "traceback": [
      "\u001b[1;31m---------------------------------------------------------------------------\u001b[0m",
      "\u001b[1;31mInvalidArgumentError\u001b[0m                      Traceback (most recent call last)",
      "\u001b[1;32me:\\Python Projects\\Tensorflow-101\\Tensorflow Basics\\Untitled.ipynb Cell 17\u001b[0m in \u001b[0;36m<cell line: 20>\u001b[1;34m()\u001b[0m\n\u001b[0;32m     <a href='vscode-notebook-cell:/e%3A/Python%20Projects/Tensorflow-101/Tensorflow%20Basics/Untitled.ipynb#X23sZmlsZQ%3D%3D?line=16'>17</a>\u001b[0m x \u001b[39m=\u001b[39m tf\u001b[39m.\u001b[39mcast(x, tf\u001b[39m.\u001b[39mfloat16)\n\u001b[0;32m     <a href='vscode-notebook-cell:/e%3A/Python%20Projects/Tensorflow-101/Tensorflow%20Basics/Untitled.ipynb#X23sZmlsZQ%3D%3D?line=18'>19</a>\u001b[0m s \u001b[39m=\u001b[39m SimpleDenseLayer(\u001b[39m201\u001b[39m)\n\u001b[1;32m---> <a href='vscode-notebook-cell:/e%3A/Python%20Projects/Tensorflow-101/Tensorflow%20Basics/Untitled.ipynb#X23sZmlsZQ%3D%3D?line=19'>20</a>\u001b[0m s(x)\n",
      "File \u001b[1;32mc:\\Users\\Akash Ghimire\\anaconda3\\envs\\vision\\lib\\site-packages\\keras\\utils\\traceback_utils.py:70\u001b[0m, in \u001b[0;36mfilter_traceback.<locals>.error_handler\u001b[1;34m(*args, **kwargs)\u001b[0m\n\u001b[0;32m     67\u001b[0m     filtered_tb \u001b[39m=\u001b[39m _process_traceback_frames(e\u001b[39m.\u001b[39m__traceback__)\n\u001b[0;32m     68\u001b[0m     \u001b[39m# To get the full stack trace, call:\u001b[39;00m\n\u001b[0;32m     69\u001b[0m     \u001b[39m# `tf.debugging.disable_traceback_filtering()`\u001b[39;00m\n\u001b[1;32m---> 70\u001b[0m     \u001b[39mraise\u001b[39;00m e\u001b[39m.\u001b[39mwith_traceback(filtered_tb) \u001b[39mfrom\u001b[39;00m \u001b[39mNone\u001b[39m\n\u001b[0;32m     71\u001b[0m \u001b[39mfinally\u001b[39;00m:\n\u001b[0;32m     72\u001b[0m     \u001b[39mdel\u001b[39;00m filtered_tb\n",
      "\u001b[1;32me:\\Python Projects\\Tensorflow-101\\Tensorflow Basics\\Untitled.ipynb Cell 17\u001b[0m in \u001b[0;36mSimpleDenseLayer.call\u001b[1;34m(self, x)\u001b[0m\n\u001b[0;32m     <a href='vscode-notebook-cell:/e%3A/Python%20Projects/Tensorflow-101/Tensorflow%20Basics/Untitled.ipynb#X23sZmlsZQ%3D%3D?line=10'>11</a>\u001b[0m \u001b[39mprint\u001b[39m(\u001b[39m'\u001b[39m\u001b[39mx.shape:\u001b[39m\u001b[39m'\u001b[39m, x\u001b[39m.\u001b[39mdtype)\n\u001b[0;32m     <a href='vscode-notebook-cell:/e%3A/Python%20Projects/Tensorflow-101/Tensorflow%20Basics/Untitled.ipynb#X23sZmlsZQ%3D%3D?line=11'>12</a>\u001b[0m \u001b[39mprint\u001b[39m(\u001b[39m'\u001b[39m\u001b[39mb.shape:\u001b[39m\u001b[39m'\u001b[39m, \u001b[39mself\u001b[39m\u001b[39m.\u001b[39mb\u001b[39m.\u001b[39mshape)\n\u001b[1;32m---> <a href='vscode-notebook-cell:/e%3A/Python%20Projects/Tensorflow-101/Tensorflow%20Basics/Untitled.ipynb#X23sZmlsZQ%3D%3D?line=12'>13</a>\u001b[0m z \u001b[39m=\u001b[39m tf\u001b[39m.\u001b[39mcast(tf\u001b[39m.\u001b[39;49mmultiply(\u001b[39mself\u001b[39;49m\u001b[39m.\u001b[39;49mw, x),tf\u001b[39m.\u001b[39mfloat16) \u001b[39m+\u001b[39m \u001b[39mself\u001b[39m\u001b[39m.\u001b[39mb\n\u001b[0;32m     <a href='vscode-notebook-cell:/e%3A/Python%20Projects/Tensorflow-101/Tensorflow%20Basics/Untitled.ipynb#X23sZmlsZQ%3D%3D?line=13'>14</a>\u001b[0m \u001b[39mreturn\u001b[39;00m tf\u001b[39m.\u001b[39mnn\u001b[39m.\u001b[39mrelu(z)\n",
      "\u001b[1;31mInvalidArgumentError\u001b[0m: Exception encountered when calling layer \"simple_dense_layer_21\" \"                 f\"(type SimpleDenseLayer).\n\ncannot compute Mul as input #1(zero-based) was expected to be a half tensor but is a float tensor [Op:Mul]\n\nCall arguments received by layer \"simple_dense_layer_21\" \"                 f\"(type SimpleDenseLayer):\n  • x=tf.Tensor(shape=(201,), dtype=float32)"
     ]
    }
   ],
   "source": [
    "class SimpleDenseLayer(tf.keras.layers.Layer):\n",
    "    def __init__(self, dense_unit):\n",
    "        super(SimpleDenseLayer, self).__init__()\n",
    "        self.units = dense_unit\n",
    "        self.w = tf.Variable(tf.cast(3, tf.float16))\n",
    "        self.b = tf.Variable(tf.cast(2, tf.float16))\n",
    "\n",
    "    def call(self, x):\n",
    "\n",
    "        print('self.w.shape:', self.w.shape)\n",
    "        print('x.shape:', x.dtype)\n",
    "        print('b.shape:', self.b.shape)\n",
    "        z = tf.cast(tf.multiply(self.w, x),tf.float16) + self.b\n",
    "        return tf.nn.relu(z)\n",
    "\n",
    "x = tf.Variable(tf.linspace(-2, 2, 201))\n",
    "x = tf.cast(x, tf.float16)\n",
    "\n",
    "s = SimpleDenseLayer(201)\n",
    "s(x)\n"
   ]
  },
  {
   "cell_type": "code",
   "execution_count": 139,
   "id": "fef9f8fc",
   "metadata": {},
   "outputs": [
    {
     "ename": "ValueError",
     "evalue": "initial_value: Tensor conversion requested dtype float16 for Tensor with dtype float32: <tf.Tensor: shape=(5,), dtype=float32, numpy=\narray([ 2.0861773 , -0.94139785, -0.6804789 , -0.90974563, -0.34620494],\n      dtype=float32)>",
     "output_type": "error",
     "traceback": [
      "\u001b[1;31m---------------------------------------------------------------------------\u001b[0m",
      "\u001b[1;31mValueError\u001b[0m                                Traceback (most recent call last)",
      "\u001b[1;32me:\\Python Projects\\Tensorflow-101\\Tensorflow Basics\\Untitled.ipynb Cell 18\u001b[0m in \u001b[0;36m<cell line: 1>\u001b[1;34m()\u001b[0m\n\u001b[1;32m----> <a href='vscode-notebook-cell:/e%3A/Python%20Projects/Tensorflow-101/Tensorflow%20Basics/Untitled.ipynb#X31sZmlsZQ%3D%3D?line=0'>1</a>\u001b[0m tf\u001b[39m.\u001b[39;49mVariable(tf\u001b[39m.\u001b[39;49mrandom\u001b[39m.\u001b[39;49mnormal(shape\u001b[39m=\u001b[39;49m(\u001b[39m5\u001b[39;49m,)),dtype\u001b[39m=\u001b[39;49mtf\u001b[39m.\u001b[39;49mfloat16)\n",
      "File \u001b[1;32mc:\\Users\\Akash Ghimire\\anaconda3\\envs\\vision\\lib\\site-packages\\tensorflow\\python\\util\\traceback_utils.py:153\u001b[0m, in \u001b[0;36mfilter_traceback.<locals>.error_handler\u001b[1;34m(*args, **kwargs)\u001b[0m\n\u001b[0;32m    151\u001b[0m \u001b[39mexcept\u001b[39;00m \u001b[39mException\u001b[39;00m \u001b[39mas\u001b[39;00m e:\n\u001b[0;32m    152\u001b[0m   filtered_tb \u001b[39m=\u001b[39m _process_traceback_frames(e\u001b[39m.\u001b[39m__traceback__)\n\u001b[1;32m--> 153\u001b[0m   \u001b[39mraise\u001b[39;00m e\u001b[39m.\u001b[39mwith_traceback(filtered_tb) \u001b[39mfrom\u001b[39;00m \u001b[39mNone\u001b[39m\n\u001b[0;32m    154\u001b[0m \u001b[39mfinally\u001b[39;00m:\n\u001b[0;32m    155\u001b[0m   \u001b[39mdel\u001b[39;00m filtered_tb\n",
      "File \u001b[1;32mc:\\Users\\Akash Ghimire\\anaconda3\\envs\\vision\\lib\\site-packages\\tensorflow\\python\\framework\\ops.py:1599\u001b[0m, in \u001b[0;36mconvert_to_tensor\u001b[1;34m(value, dtype, name, as_ref, preferred_dtype, dtype_hint, ctx, accepted_result_types)\u001b[0m\n\u001b[0;32m   1597\u001b[0m \u001b[39mif\u001b[39;00m \u001b[39misinstance\u001b[39m(value, Tensor):\n\u001b[0;32m   1598\u001b[0m   \u001b[39mif\u001b[39;00m dtype \u001b[39mis\u001b[39;00m \u001b[39mnot\u001b[39;00m \u001b[39mNone\u001b[39;00m \u001b[39mand\u001b[39;00m \u001b[39mnot\u001b[39;00m dtype\u001b[39m.\u001b[39mis_compatible_with(value\u001b[39m.\u001b[39mdtype):\n\u001b[1;32m-> 1599\u001b[0m     \u001b[39mraise\u001b[39;00m \u001b[39mValueError\u001b[39;00m(\n\u001b[0;32m   1600\u001b[0m         _add_error_prefix(\n\u001b[0;32m   1601\u001b[0m             \u001b[39mf\u001b[39m\u001b[39m\"\u001b[39m\u001b[39mTensor conversion requested dtype \u001b[39m\u001b[39m{\u001b[39;00mdtype\u001b[39m.\u001b[39mname\u001b[39m}\u001b[39;00m\u001b[39m \u001b[39m\u001b[39m\"\u001b[39m\n\u001b[0;32m   1602\u001b[0m             \u001b[39mf\u001b[39m\u001b[39m\"\u001b[39m\u001b[39mfor Tensor with dtype \u001b[39m\u001b[39m{\u001b[39;00mvalue\u001b[39m.\u001b[39mdtype\u001b[39m.\u001b[39mname\u001b[39m}\u001b[39;00m\u001b[39m: \u001b[39m\u001b[39m{\u001b[39;00mvalue\u001b[39m!r}\u001b[39;00m\u001b[39m\"\u001b[39m,\n\u001b[0;32m   1603\u001b[0m             name\u001b[39m=\u001b[39mname))\n\u001b[0;32m   1604\u001b[0m   \u001b[39mreturn\u001b[39;00m value\n\u001b[0;32m   1606\u001b[0m \u001b[39mif\u001b[39;00m preferred_dtype \u001b[39mis\u001b[39;00m \u001b[39mnot\u001b[39;00m \u001b[39mNone\u001b[39;00m:\n",
      "\u001b[1;31mValueError\u001b[0m: initial_value: Tensor conversion requested dtype float16 for Tensor with dtype float32: <tf.Tensor: shape=(5,), dtype=float32, numpy=\narray([ 2.0861773 , -0.94139785, -0.6804789 , -0.90974563, -0.34620494],\n      dtype=float32)>"
     ]
    }
   ],
   "source": [
    "tf.Variable(tf.random.normal(shape=(5,)),dtype=tf.float16)"
   ]
  },
  {
   "cell_type": "code",
   "execution_count": 141,
   "id": "9f6f8603",
   "metadata": {},
   "outputs": [
    {
     "data": {
      "text/plain": [
       "array([ 5, 10, 15])"
      ]
     },
     "execution_count": 141,
     "metadata": {},
     "output_type": "execute_result"
    }
   ],
   "source": [
    "np.array([1,2,3])*np.array(5)"
   ]
  },
  {
   "cell_type": "code",
   "execution_count": null,
   "id": "bafd585b",
   "metadata": {},
   "outputs": [],
   "source": []
  }
 ],
 "metadata": {
  "kernelspec": {
   "display_name": "Python 3.8.10 64-bit",
   "language": "python",
   "name": "python3"
  },
  "language_info": {
   "codemirror_mode": {
    "name": "ipython",
    "version": 3
   },
   "file_extension": ".py",
   "mimetype": "text/x-python",
   "name": "python",
   "nbconvert_exporter": "python",
   "pygments_lexer": "ipython3",
   "version": "3.9.12"
  },
  "vscode": {
   "interpreter": {
    "hash": "916dbcbb3f70747c44a77c7bcd40155683ae19c65e1c03b4aa3499c5328201f1"
   }
  }
 },
 "nbformat": 4,
 "nbformat_minor": 5
}
